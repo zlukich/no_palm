{
 "cells": [
  {
   "cell_type": "code",
   "execution_count": 3,
   "id": "45156eb005a13708",
   "metadata": {
    "ExecuteTime": {
     "end_time": "2023-09-27T14:46:26.513830100Z",
     "start_time": "2023-09-27T14:46:23.337503100Z"
    }
   },
   "outputs": [
    {
     "name": "stdout",
     "output_type": "stream",
     "text": [
      "Collecting netcdf4\n",
      "  Downloading netCDF4-1.6.4-cp39-cp39-win_amd64.whl (6.6 MB)\n",
      "Requirement already satisfied: certifi in c:\\users\\zlukich\\appdata\\local\\programs\\python\\python39\\lib\\site-packages (from netcdf4) (2021.10.8)\n",
      "Collecting cftime\n",
      "  Downloading cftime-1.6.2-cp39-cp39-win_amd64.whl (171 kB)\n",
      "Requirement already satisfied: numpy in c:\\users\\zlukich\\appdata\\local\\programs\\python\\python39\\lib\\site-packages (from netcdf4) (1.22.3)\n",
      "Installing collected packages: cftime, netcdf4\n",
      "Successfully installed cftime-1.6.2 netcdf4-1.6.4\n"
     ]
    },
    {
     "name": "stderr",
     "output_type": "stream",
     "text": [
      "WARNING: You are using pip version 21.2.3; however, version 23.2.1 is available.\n",
      "You should consider upgrading via the 'C:\\Users\\zlukich\\AppData\\Local\\Programs\\Python\\Python39\\python.exe -m pip install --upgrade pip' command.\n"
     ]
    }
   ],
   "source": [
    "!pip install netcdf4"
   ]
  },
  {
   "cell_type": "code",
   "execution_count": 110,
   "id": "93bd217b",
   "metadata": {
    "ExecuteTime": {
     "end_time": "2023-10-04T09:40:05.803926Z",
     "start_time": "2023-10-04T09:40:05.788359600Z"
    }
   },
   "outputs": [],
   "source": [
    "import netCDF4 as nc\n",
    "import sys\n",
    "import pandas as pd\n",
    "import numpy as np\n",
    "import seaborn as sns\n",
    "import matplotlib.pylab as plt\n",
    "pd.options.mode.chained_assignment = None  # default='warn'\n"
   ]
  },
  {
   "cell_type": "markdown",
   "source": [
    "# Helping functions"
   ],
   "metadata": {
    "collapsed": false
   },
   "id": "459d0615"
  },
  {
   "cell_type": "code",
   "execution_count": 2,
   "outputs": [],
   "source": [
    "def get_neighbours(df,x,y):\n",
    "    \n",
    "    result = pd.DataFrame()\n",
    "    \n",
    "    df_cell = df.loc[(df[\"x\"] ==x) & (df[\"y\"] ==y)]\n",
    "    \n",
    "    \n",
    "    new_row_right = df.loc[(df[\"x\"] ==x+1) & (df[\"y\"] ==y)]\n",
    "   #print(new_row_right)\n",
    "    if(len(new_row_right) == 0):\n",
    "        new_row_right = pd.DataFrame({\"x\" : [x+1 for i in range(df_cell.shape[0])],\n",
    "                                      \"y\" : [y for i in range(df_cell.shape[0])],\n",
    "                                      \"emission_value\" : [0 for i in range(df_cell.shape[0])],\n",
    "                                      \"hour\" : df_cell[\"hour\"].values ,\n",
    "                                      \"nb_type\" : [\"nbr\" for i in range(df_cell.shape[0])]})\n",
    "    else:\n",
    "        new_row_right[\"nb_type\"] = \"nbr\"\n",
    "    \n",
    "    \n",
    "    new_row_left = df.loc[(df[\"x\"] ==x-1) & (df[\"y\"] ==y)]\n",
    "    if(len(new_row_left) == 0):\n",
    "        new_row_left = pd.DataFrame({\"x\" : [x-1 for i in range(df_cell.shape[0])],\n",
    "                                      \"y\" : [y for i in range(df_cell.shape[0])],\n",
    "                                      \"emission_value\" : [0 for i in range(df_cell.shape[0])],\n",
    "                                      \"hour\" : df_cell[\"hour\"].values ,\n",
    "                                      \"nb_type\" : [\"nbl\" for i in range(df_cell.shape[0])]})\n",
    "    else:\n",
    "        new_row_left[\"nb_type\"] = \"nbl\"\n",
    "    \n",
    "    \n",
    "    new_row_up = df.loc[(df[\"x\"] ==x) & (df[\"y\"] ==y-1)]\n",
    "    if(len(new_row_up) == 0):\n",
    "        new_row_up = pd.DataFrame({\"x\" : [x for i in range(df_cell.shape[0])],\n",
    "                                      \"y\" : [y-1 for i in range(df_cell.shape[0])],\n",
    "                                      \"emission_value\" : [0 for i in range(df_cell.shape[0])],\n",
    "                                      \"hour\" : df_cell[\"hour\"].values ,\n",
    "                                      \"nb_type\" : [\"nbu\" for i in range(df_cell.shape[0])]})\n",
    "    else:\n",
    "        new_row_up[\"nb_type\"] = \"nbu\"\n",
    "    \n",
    "    \n",
    "    new_row_down = df.loc[(df[\"x\"] ==x) & (df[\"y\"] ==y+1)]\n",
    "    if(len(new_row_down) == 0):\n",
    "        new_row_down = pd.DataFrame({\"x\" : [x for i in range(df_cell.shape[0])],\n",
    "                                      \"y\" : [y+1 for i in range(df_cell.shape[0])],\n",
    "                                      \"emission_value\" : [0 for i in range(df_cell.shape[0])],\n",
    "                                      \"hour\" : df_cell[\"hour\"].values ,\n",
    "                                      \"nb_type\" : [\"nbd\" for i in range(df_cell.shape[0])]})\n",
    "    else:\n",
    "        new_row_down[\"nb_type\"] = \"nbd\"\n",
    "    result = pd.concat([new_row_right,new_row_left,new_row_up,new_row_down])\n",
    "    return result\n",
    "\n",
    "\n",
    "\n",
    "def add_neighbours(df,x,y):\n",
    "    '''\n",
    "    \n",
    "        df_cell: adds neighbours to specific cell\n",
    "    '''\n",
    "    df_cell = df.loc[(df[\"x\"] ==x) & (df[\"y\"] ==y)]\n",
    "    \n",
    "    #print(df_cell)\n",
    "    neighbours = get_neighbours(df,x,y)\n",
    "    \n",
    "    neighbours_right = neighbours.loc[neighbours[\"nb_type\"] == \"nbr\"]\n",
    "    neighbours_left = neighbours.loc[neighbours[\"nb_type\"] == \"nbl\"]\n",
    "    neighbours_up = neighbours.loc[neighbours[\"nb_type\"] == \"nbu\"]\n",
    "    neighbours_down = neighbours.loc[neighbours[\"nb_type\"] == \"nbd\"]\n",
    "    \n",
    "    #print(neighbours_right)\n",
    "    try:\n",
    "        df_to_append = pd.DataFrame({\"nbr\":neighbours_right[\"emission_value\"].values,\n",
    "                                    \"nbl\":neighbours_left[\"emission_value\"].values,\n",
    "                                    \"nbu\":neighbours_up[\"emission_value\"].values,\n",
    "                                    \"nbd\":neighbours_down[\"emission_value\"].values})\n",
    "    except:\n",
    "        print(\"hello\")\n",
    "        #print(neighbours)\n",
    "        #print(neighbours_right)\n",
    "        #print(neighbours_left)\n",
    "        #print(neighbours_up)\n",
    "        #print(neighbours_down)\n",
    "    #print(df_to_append)\n",
    "    df_to_append = df_to_append.reset_index(drop=True)\n",
    "    df_cell = df_cell.reset_index(drop=True)\n",
    "    result= pd.concat([df_cell,df_to_append],axis = 1)\n",
    "    return result\n",
    "\n",
    "def complete_df_with_neighbours(df):\n",
    "    '''\n",
    "        \n",
    "    '''\n",
    "    maximal_x = max(df[\"x\"])\n",
    "    maximal_y = max(df[\"y\"])\n",
    "    #print(df.shape[0])\n",
    "    result = pd.DataFrame()\n",
    "    for i in range(maximal_x+1):\n",
    "        for j in range(maximal_y+1):\n",
    "            df_cell = add_neighbours(df,i ,j )\n",
    "            #print(df_cell)\n",
    "            result = pd.concat([result,df_cell])\n",
    "    return result\n",
    "    "
   ],
   "metadata": {
    "collapsed": false,
    "ExecuteTime": {
     "start_time": "2023-10-04T08:18:07.040046300Z"
    }
   },
   "id": "79736235"
  },
  {
   "cell_type": "markdown",
   "source": [
    "# Reading .nc files"
   ],
   "metadata": {
    "collapsed": false
   },
   "id": "e332702a"
  },
  {
   "cell_type": "code",
   "execution_count": 4,
   "outputs": [],
   "source": [
    "ds = nc.Dataset(\"../data/photoshade_6km10m_lod2_chemistry.nc\")"
   ],
   "metadata": {
    "collapsed": false,
    "ExecuteTime": {
     "end_time": "2023-10-04T08:21:22.977831300Z",
     "start_time": "2023-10-04T08:21:22.947461200Z"
    }
   },
   "id": "7b230817"
  },
  {
   "cell_type": "code",
   "execution_count": 5,
   "id": "e16664ff",
   "metadata": {
    "ExecuteTime": {
     "end_time": "2023-10-04T08:21:23.264124500Z",
     "start_time": "2023-10-04T08:21:23.175149200Z"
    }
   },
   "outputs": [
    {
     "data": {
      "text/plain": "array([[0., 0., 0., ..., 0., 0., 0.],\n       [0., 0., 0., ..., 0., 0., 0.],\n       [0., 0., 0., ..., 0., 0., 0.],\n       ...,\n       [0., 0., 0., ..., 0., 0., 0.],\n       [0., 0., 0., ..., 0., 0., 0.],\n       [0., 0., 0., ..., 0., 0., 0.]], dtype=float32)"
     },
     "execution_count": 5,
     "metadata": {},
     "output_type": "execute_result"
    }
   ],
   "source": [
    "ds[\"emission_values\"][0,0,:,:,0].data"
   ]
  },
  {
   "cell_type": "markdown",
   "id": "5cc4f864",
   "metadata": {},
   "source": [
    "# Save information as CSV file"
   ]
  },
  {
   "cell_type": "code",
   "execution_count": 6,
   "outputs": [],
   "source": [
    "pd_15hour_3species = pd.DataFrame(ds[\"emission_values\"][15,0,:,:,2].data)"
   ],
   "metadata": {
    "collapsed": false,
    "ExecuteTime": {
     "end_time": "2023-10-04T08:21:34.875412300Z",
     "start_time": "2023-10-04T08:21:34.846331200Z"
    }
   },
   "id": "0486b888"
  },
  {
   "cell_type": "code",
   "execution_count": 7,
   "id": "e8738b02",
   "metadata": {
    "scrolled": true,
    "ExecuteTime": {
     "end_time": "2023-10-04T08:21:41.090831600Z",
     "start_time": "2023-10-04T08:21:41.064026200Z"
    }
   },
   "outputs": [],
   "source": [
    "pd_15hour_melted = pd.melt(pd_15hour_3species,var_name = \"y\",value_name = \"emission_value\")"
   ]
  },
  {
   "cell_type": "code",
   "execution_count": 8,
   "id": "629621a8",
   "metadata": {
    "ExecuteTime": {
     "end_time": "2023-10-04T08:21:47.965502200Z",
     "start_time": "2023-10-04T08:21:47.875400300Z"
    }
   },
   "outputs": [],
   "source": [
    "pd_15hour_melted[\"x\"] = [i%672 for i in range(pd_15hour_melted.shape[0])]"
   ]
  },
  {
   "cell_type": "code",
   "execution_count": 9,
   "id": "b838bef3",
   "metadata": {
    "ExecuteTime": {
     "end_time": "2023-10-04T08:21:48.105491200Z",
     "start_time": "2023-10-04T08:21:48.072002900Z"
    }
   },
   "outputs": [
    {
     "data": {
      "text/plain": "          y  emission_value    x\n0         0             0.0    0\n1         0             0.0    1\n2         0             0.0    2\n3         0             0.0    3\n4         0             0.0    4\n...     ...             ...  ...\n451579  671             0.0  667\n451580  671             0.0  668\n451581  671             0.0  669\n451582  671             0.0  670\n451583  671             0.0  671\n\n[451584 rows x 3 columns]",
      "text/html": "<div>\n<style scoped>\n    .dataframe tbody tr th:only-of-type {\n        vertical-align: middle;\n    }\n\n    .dataframe tbody tr th {\n        vertical-align: top;\n    }\n\n    .dataframe thead th {\n        text-align: right;\n    }\n</style>\n<table border=\"1\" class=\"dataframe\">\n  <thead>\n    <tr style=\"text-align: right;\">\n      <th></th>\n      <th>y</th>\n      <th>emission_value</th>\n      <th>x</th>\n    </tr>\n  </thead>\n  <tbody>\n    <tr>\n      <th>0</th>\n      <td>0</td>\n      <td>0.0</td>\n      <td>0</td>\n    </tr>\n    <tr>\n      <th>1</th>\n      <td>0</td>\n      <td>0.0</td>\n      <td>1</td>\n    </tr>\n    <tr>\n      <th>2</th>\n      <td>0</td>\n      <td>0.0</td>\n      <td>2</td>\n    </tr>\n    <tr>\n      <th>3</th>\n      <td>0</td>\n      <td>0.0</td>\n      <td>3</td>\n    </tr>\n    <tr>\n      <th>4</th>\n      <td>0</td>\n      <td>0.0</td>\n      <td>4</td>\n    </tr>\n    <tr>\n      <th>...</th>\n      <td>...</td>\n      <td>...</td>\n      <td>...</td>\n    </tr>\n    <tr>\n      <th>451579</th>\n      <td>671</td>\n      <td>0.0</td>\n      <td>667</td>\n    </tr>\n    <tr>\n      <th>451580</th>\n      <td>671</td>\n      <td>0.0</td>\n      <td>668</td>\n    </tr>\n    <tr>\n      <th>451581</th>\n      <td>671</td>\n      <td>0.0</td>\n      <td>669</td>\n    </tr>\n    <tr>\n      <th>451582</th>\n      <td>671</td>\n      <td>0.0</td>\n      <td>670</td>\n    </tr>\n    <tr>\n      <th>451583</th>\n      <td>671</td>\n      <td>0.0</td>\n      <td>671</td>\n    </tr>\n  </tbody>\n</table>\n<p>451584 rows × 3 columns</p>\n</div>"
     },
     "execution_count": 9,
     "metadata": {},
     "output_type": "execute_result"
    }
   ],
   "source": [
    "pd_15hour_melted"
   ]
  },
  {
   "cell_type": "code",
   "execution_count": 10,
   "id": "8e3d7f3b",
   "metadata": {
    "ExecuteTime": {
     "end_time": "2023-10-04T08:21:51.745612700Z",
     "start_time": "2023-10-04T08:21:51.711317400Z"
    }
   },
   "outputs": [],
   "source": [
    "new_cols_order = [\"x\",\"y\",\"emission_value\"]\n",
    "pd_15hour_melted = pd_15hour_melted[new_cols_order]"
   ]
  },
  {
   "cell_type": "markdown",
   "id": "34d9ef2c",
   "metadata": {},
   "source": [
    "### DF concatenation"
   ]
  },
  {
   "cell_type": "code",
   "execution_count": 79,
   "id": "6ac35aa7",
   "metadata": {
    "ExecuteTime": {
     "end_time": "2023-10-04T09:27:11.916500500Z",
     "start_time": "2023-10-04T09:27:11.737548500Z"
    }
   },
   "outputs": [],
   "source": [
    "result_1species = pd.DataFrame()\n",
    "xrange = [i for i in range(50)] # Subsetting specific grid part\n",
    "yrange = [i for i in range(50)] # Subsetting specific grid part\n",
    "for i in range(48):\n",
    "    pd_ihour_3species = pd.DataFrame(ds[\"emission_values\"][i,0,yrange,xrange,1].data)\n",
    "    pd_ihour_3species = pd.melt(pd_ihour_3species,var_name = \"y\",value_name = \"emission_value\")\n",
    "    pd_ihour_3species[\"x\"] = [i%len(yrange) for i in range(pd_ihour_3species.shape[0])]\n",
    "    pd_ihour_3species[\"hour\"] = i\n",
    "    result_1species= pd.concat([result_1species,pd_ihour_3species])\n"
   ]
  },
  {
   "cell_type": "code",
   "execution_count": 80,
   "id": "160aaa04",
   "metadata": {
    "scrolled": true,
    "ExecuteTime": {
     "end_time": "2023-10-04T09:27:13.269377500Z",
     "start_time": "2023-10-04T09:27:13.250802900Z"
    }
   },
   "outputs": [
    {
     "data": {
      "text/plain": "       x   y  hour  emission_value\n0      0   0     0             0.0\n1      1   0     0             0.0\n2      2   0     0             0.0\n3      3   0     0             0.0\n4      4   0     0             0.0\n...   ..  ..   ...             ...\n2495  45  49    47             0.0\n2496  46  49    47             0.0\n2497  47  49    47             0.0\n2498  48  49    47             0.0\n2499  49  49    47             0.0\n\n[120000 rows x 4 columns]",
      "text/html": "<div>\n<style scoped>\n    .dataframe tbody tr th:only-of-type {\n        vertical-align: middle;\n    }\n\n    .dataframe tbody tr th {\n        vertical-align: top;\n    }\n\n    .dataframe thead th {\n        text-align: right;\n    }\n</style>\n<table border=\"1\" class=\"dataframe\">\n  <thead>\n    <tr style=\"text-align: right;\">\n      <th></th>\n      <th>x</th>\n      <th>y</th>\n      <th>hour</th>\n      <th>emission_value</th>\n    </tr>\n  </thead>\n  <tbody>\n    <tr>\n      <th>0</th>\n      <td>0</td>\n      <td>0</td>\n      <td>0</td>\n      <td>0.0</td>\n    </tr>\n    <tr>\n      <th>1</th>\n      <td>1</td>\n      <td>0</td>\n      <td>0</td>\n      <td>0.0</td>\n    </tr>\n    <tr>\n      <th>2</th>\n      <td>2</td>\n      <td>0</td>\n      <td>0</td>\n      <td>0.0</td>\n    </tr>\n    <tr>\n      <th>3</th>\n      <td>3</td>\n      <td>0</td>\n      <td>0</td>\n      <td>0.0</td>\n    </tr>\n    <tr>\n      <th>4</th>\n      <td>4</td>\n      <td>0</td>\n      <td>0</td>\n      <td>0.0</td>\n    </tr>\n    <tr>\n      <th>...</th>\n      <td>...</td>\n      <td>...</td>\n      <td>...</td>\n      <td>...</td>\n    </tr>\n    <tr>\n      <th>2495</th>\n      <td>45</td>\n      <td>49</td>\n      <td>47</td>\n      <td>0.0</td>\n    </tr>\n    <tr>\n      <th>2496</th>\n      <td>46</td>\n      <td>49</td>\n      <td>47</td>\n      <td>0.0</td>\n    </tr>\n    <tr>\n      <th>2497</th>\n      <td>47</td>\n      <td>49</td>\n      <td>47</td>\n      <td>0.0</td>\n    </tr>\n    <tr>\n      <th>2498</th>\n      <td>48</td>\n      <td>49</td>\n      <td>47</td>\n      <td>0.0</td>\n    </tr>\n    <tr>\n      <th>2499</th>\n      <td>49</td>\n      <td>49</td>\n      <td>47</td>\n      <td>0.0</td>\n    </tr>\n  </tbody>\n</table>\n<p>120000 rows × 4 columns</p>\n</div>"
     },
     "execution_count": 80,
     "metadata": {},
     "output_type": "execute_result"
    }
   ],
   "source": [
    "new_cols_order = [\"x\",\"y\",\"hour\",\"emission_value\"]\n",
    "result_1species= result_1species[new_cols_order]\n",
    "result_1species"
   ]
  },
  {
   "cell_type": "code",
   "execution_count": 85,
   "id": "4a75d692",
   "metadata": {
    "ExecuteTime": {
     "end_time": "2023-10-04T09:29:23.832465300Z",
     "start_time": "2023-10-04T09:29:23.778662700Z"
    }
   },
   "outputs": [
    {
     "data": {
      "text/plain": "                  x             y           hour  emission_value\ncount  120000.00000  120000.00000  120000.000000   120000.000000\nmean       24.50000      24.50000      23.500000        0.000269\nstd        14.43093      14.43093      13.853457        0.001600\nmin         0.00000       0.00000       0.000000        0.000000\n25%        12.00000      12.00000      11.750000        0.000000\n50%        24.50000      24.50000      23.500000        0.000000\n75%        37.00000      37.00000      35.250000        0.000000\nmax        49.00000      49.00000      47.000000        0.032083",
      "text/html": "<div>\n<style scoped>\n    .dataframe tbody tr th:only-of-type {\n        vertical-align: middle;\n    }\n\n    .dataframe tbody tr th {\n        vertical-align: top;\n    }\n\n    .dataframe thead th {\n        text-align: right;\n    }\n</style>\n<table border=\"1\" class=\"dataframe\">\n  <thead>\n    <tr style=\"text-align: right;\">\n      <th></th>\n      <th>x</th>\n      <th>y</th>\n      <th>hour</th>\n      <th>emission_value</th>\n    </tr>\n  </thead>\n  <tbody>\n    <tr>\n      <th>count</th>\n      <td>120000.00000</td>\n      <td>120000.00000</td>\n      <td>120000.000000</td>\n      <td>120000.000000</td>\n    </tr>\n    <tr>\n      <th>mean</th>\n      <td>24.50000</td>\n      <td>24.50000</td>\n      <td>23.500000</td>\n      <td>0.000269</td>\n    </tr>\n    <tr>\n      <th>std</th>\n      <td>14.43093</td>\n      <td>14.43093</td>\n      <td>13.853457</td>\n      <td>0.001600</td>\n    </tr>\n    <tr>\n      <th>min</th>\n      <td>0.00000</td>\n      <td>0.00000</td>\n      <td>0.000000</td>\n      <td>0.000000</td>\n    </tr>\n    <tr>\n      <th>25%</th>\n      <td>12.00000</td>\n      <td>12.00000</td>\n      <td>11.750000</td>\n      <td>0.000000</td>\n    </tr>\n    <tr>\n      <th>50%</th>\n      <td>24.50000</td>\n      <td>24.50000</td>\n      <td>23.500000</td>\n      <td>0.000000</td>\n    </tr>\n    <tr>\n      <th>75%</th>\n      <td>37.00000</td>\n      <td>37.00000</td>\n      <td>35.250000</td>\n      <td>0.000000</td>\n    </tr>\n    <tr>\n      <th>max</th>\n      <td>49.00000</td>\n      <td>49.00000</td>\n      <td>47.000000</td>\n      <td>0.032083</td>\n    </tr>\n  </tbody>\n</table>\n</div>"
     },
     "execution_count": 85,
     "metadata": {},
     "output_type": "execute_result"
    }
   ],
   "source": [
    "result_1species.describe()"
   ]
  },
  {
   "cell_type": "markdown",
   "id": "953f615c",
   "metadata": {},
   "source": [
    "### Lets look into 65,65 cell specifically"
   ]
  },
  {
   "cell_type": "code",
   "execution_count": 269,
   "id": "1d6abeb8",
   "metadata": {
    "scrolled": true
   },
   "outputs": [
    {
     "data": {
      "text/html": [
       "<div>\n",
       "<style scoped>\n",
       "    .dataframe tbody tr th:only-of-type {\n",
       "        vertical-align: middle;\n",
       "    }\n",
       "\n",
       "    .dataframe tbody tr th {\n",
       "        vertical-align: top;\n",
       "    }\n",
       "\n",
       "    .dataframe thead th {\n",
       "        text-align: right;\n",
       "    }\n",
       "</style>\n",
       "<table border=\"1\" class=\"dataframe\">\n",
       "  <thead>\n",
       "    <tr style=\"text-align: right;\">\n",
       "      <th></th>\n",
       "      <th>x</th>\n",
       "      <th>y</th>\n",
       "      <th>hour</th>\n",
       "      <th>emission_value</th>\n",
       "    </tr>\n",
       "  </thead>\n",
       "  <tbody>\n",
       "    <tr>\n",
       "      <th>7175</th>\n",
       "      <td>75</td>\n",
       "      <td>71</td>\n",
       "      <td>0</td>\n",
       "      <td>0.000958</td>\n",
       "    </tr>\n",
       "    <tr>\n",
       "      <th>7175</th>\n",
       "      <td>75</td>\n",
       "      <td>71</td>\n",
       "      <td>1</td>\n",
       "      <td>0.001685</td>\n",
       "    </tr>\n",
       "    <tr>\n",
       "      <th>7175</th>\n",
       "      <td>75</td>\n",
       "      <td>71</td>\n",
       "      <td>2</td>\n",
       "      <td>0.005498</td>\n",
       "    </tr>\n",
       "    <tr>\n",
       "      <th>7175</th>\n",
       "      <td>75</td>\n",
       "      <td>71</td>\n",
       "      <td>3</td>\n",
       "      <td>0.040410</td>\n",
       "    </tr>\n",
       "    <tr>\n",
       "      <th>7175</th>\n",
       "      <td>75</td>\n",
       "      <td>71</td>\n",
       "      <td>4</td>\n",
       "      <td>0.068488</td>\n",
       "    </tr>\n",
       "    <tr>\n",
       "      <th>7175</th>\n",
       "      <td>75</td>\n",
       "      <td>71</td>\n",
       "      <td>5</td>\n",
       "      <td>0.073122</td>\n",
       "    </tr>\n",
       "    <tr>\n",
       "      <th>7175</th>\n",
       "      <td>75</td>\n",
       "      <td>71</td>\n",
       "      <td>6</td>\n",
       "      <td>0.067746</td>\n",
       "    </tr>\n",
       "    <tr>\n",
       "      <th>7175</th>\n",
       "      <td>75</td>\n",
       "      <td>71</td>\n",
       "      <td>7</td>\n",
       "      <td>0.072280</td>\n",
       "    </tr>\n",
       "    <tr>\n",
       "      <th>7175</th>\n",
       "      <td>75</td>\n",
       "      <td>71</td>\n",
       "      <td>8</td>\n",
       "      <td>0.064559</td>\n",
       "    </tr>\n",
       "    <tr>\n",
       "      <th>7175</th>\n",
       "      <td>75</td>\n",
       "      <td>71</td>\n",
       "      <td>9</td>\n",
       "      <td>0.065540</td>\n",
       "    </tr>\n",
       "    <tr>\n",
       "      <th>7175</th>\n",
       "      <td>75</td>\n",
       "      <td>71</td>\n",
       "      <td>10</td>\n",
       "      <td>0.061766</td>\n",
       "    </tr>\n",
       "    <tr>\n",
       "      <th>7175</th>\n",
       "      <td>75</td>\n",
       "      <td>71</td>\n",
       "      <td>11</td>\n",
       "      <td>0.065658</td>\n",
       "    </tr>\n",
       "    <tr>\n",
       "      <th>7175</th>\n",
       "      <td>75</td>\n",
       "      <td>71</td>\n",
       "      <td>12</td>\n",
       "      <td>0.075550</td>\n",
       "    </tr>\n",
       "    <tr>\n",
       "      <th>7175</th>\n",
       "      <td>75</td>\n",
       "      <td>71</td>\n",
       "      <td>13</td>\n",
       "      <td>0.075972</td>\n",
       "    </tr>\n",
       "    <tr>\n",
       "      <th>7175</th>\n",
       "      <td>75</td>\n",
       "      <td>71</td>\n",
       "      <td>14</td>\n",
       "      <td>0.070547</td>\n",
       "    </tr>\n",
       "    <tr>\n",
       "      <th>7175</th>\n",
       "      <td>75</td>\n",
       "      <td>71</td>\n",
       "      <td>15</td>\n",
       "      <td>0.069330</td>\n",
       "    </tr>\n",
       "    <tr>\n",
       "      <th>7175</th>\n",
       "      <td>75</td>\n",
       "      <td>71</td>\n",
       "      <td>16</td>\n",
       "      <td>0.074565</td>\n",
       "    </tr>\n",
       "    <tr>\n",
       "      <th>7175</th>\n",
       "      <td>75</td>\n",
       "      <td>71</td>\n",
       "      <td>17</td>\n",
       "      <td>0.075140</td>\n",
       "    </tr>\n",
       "    <tr>\n",
       "      <th>7175</th>\n",
       "      <td>75</td>\n",
       "      <td>71</td>\n",
       "      <td>18</td>\n",
       "      <td>0.056959</td>\n",
       "    </tr>\n",
       "    <tr>\n",
       "      <th>7175</th>\n",
       "      <td>75</td>\n",
       "      <td>71</td>\n",
       "      <td>19</td>\n",
       "      <td>0.032733</td>\n",
       "    </tr>\n",
       "    <tr>\n",
       "      <th>7175</th>\n",
       "      <td>75</td>\n",
       "      <td>71</td>\n",
       "      <td>20</td>\n",
       "      <td>0.018883</td>\n",
       "    </tr>\n",
       "    <tr>\n",
       "      <th>7175</th>\n",
       "      <td>75</td>\n",
       "      <td>71</td>\n",
       "      <td>21</td>\n",
       "      <td>0.006537</td>\n",
       "    </tr>\n",
       "    <tr>\n",
       "      <th>7175</th>\n",
       "      <td>75</td>\n",
       "      <td>71</td>\n",
       "      <td>22</td>\n",
       "      <td>0.000363</td>\n",
       "    </tr>\n",
       "    <tr>\n",
       "      <th>7175</th>\n",
       "      <td>75</td>\n",
       "      <td>71</td>\n",
       "      <td>23</td>\n",
       "      <td>0.000545</td>\n",
       "    </tr>\n",
       "    <tr>\n",
       "      <th>7175</th>\n",
       "      <td>75</td>\n",
       "      <td>71</td>\n",
       "      <td>24</td>\n",
       "      <td>0.000958</td>\n",
       "    </tr>\n",
       "    <tr>\n",
       "      <th>7175</th>\n",
       "      <td>75</td>\n",
       "      <td>71</td>\n",
       "      <td>25</td>\n",
       "      <td>0.001685</td>\n",
       "    </tr>\n",
       "    <tr>\n",
       "      <th>7175</th>\n",
       "      <td>75</td>\n",
       "      <td>71</td>\n",
       "      <td>26</td>\n",
       "      <td>0.005498</td>\n",
       "    </tr>\n",
       "    <tr>\n",
       "      <th>7175</th>\n",
       "      <td>75</td>\n",
       "      <td>71</td>\n",
       "      <td>27</td>\n",
       "      <td>0.040410</td>\n",
       "    </tr>\n",
       "    <tr>\n",
       "      <th>7175</th>\n",
       "      <td>75</td>\n",
       "      <td>71</td>\n",
       "      <td>28</td>\n",
       "      <td>0.068488</td>\n",
       "    </tr>\n",
       "    <tr>\n",
       "      <th>7175</th>\n",
       "      <td>75</td>\n",
       "      <td>71</td>\n",
       "      <td>29</td>\n",
       "      <td>0.073122</td>\n",
       "    </tr>\n",
       "    <tr>\n",
       "      <th>7175</th>\n",
       "      <td>75</td>\n",
       "      <td>71</td>\n",
       "      <td>30</td>\n",
       "      <td>0.067746</td>\n",
       "    </tr>\n",
       "    <tr>\n",
       "      <th>7175</th>\n",
       "      <td>75</td>\n",
       "      <td>71</td>\n",
       "      <td>31</td>\n",
       "      <td>0.072280</td>\n",
       "    </tr>\n",
       "    <tr>\n",
       "      <th>7175</th>\n",
       "      <td>75</td>\n",
       "      <td>71</td>\n",
       "      <td>32</td>\n",
       "      <td>0.064559</td>\n",
       "    </tr>\n",
       "    <tr>\n",
       "      <th>7175</th>\n",
       "      <td>75</td>\n",
       "      <td>71</td>\n",
       "      <td>33</td>\n",
       "      <td>0.065540</td>\n",
       "    </tr>\n",
       "    <tr>\n",
       "      <th>7175</th>\n",
       "      <td>75</td>\n",
       "      <td>71</td>\n",
       "      <td>34</td>\n",
       "      <td>0.061766</td>\n",
       "    </tr>\n",
       "    <tr>\n",
       "      <th>7175</th>\n",
       "      <td>75</td>\n",
       "      <td>71</td>\n",
       "      <td>35</td>\n",
       "      <td>0.065658</td>\n",
       "    </tr>\n",
       "    <tr>\n",
       "      <th>7175</th>\n",
       "      <td>75</td>\n",
       "      <td>71</td>\n",
       "      <td>36</td>\n",
       "      <td>0.075550</td>\n",
       "    </tr>\n",
       "    <tr>\n",
       "      <th>7175</th>\n",
       "      <td>75</td>\n",
       "      <td>71</td>\n",
       "      <td>37</td>\n",
       "      <td>0.075972</td>\n",
       "    </tr>\n",
       "    <tr>\n",
       "      <th>7175</th>\n",
       "      <td>75</td>\n",
       "      <td>71</td>\n",
       "      <td>38</td>\n",
       "      <td>0.070547</td>\n",
       "    </tr>\n",
       "    <tr>\n",
       "      <th>7175</th>\n",
       "      <td>75</td>\n",
       "      <td>71</td>\n",
       "      <td>39</td>\n",
       "      <td>0.069330</td>\n",
       "    </tr>\n",
       "    <tr>\n",
       "      <th>7175</th>\n",
       "      <td>75</td>\n",
       "      <td>71</td>\n",
       "      <td>40</td>\n",
       "      <td>0.074565</td>\n",
       "    </tr>\n",
       "    <tr>\n",
       "      <th>7175</th>\n",
       "      <td>75</td>\n",
       "      <td>71</td>\n",
       "      <td>41</td>\n",
       "      <td>0.075140</td>\n",
       "    </tr>\n",
       "    <tr>\n",
       "      <th>7175</th>\n",
       "      <td>75</td>\n",
       "      <td>71</td>\n",
       "      <td>42</td>\n",
       "      <td>0.056959</td>\n",
       "    </tr>\n",
       "    <tr>\n",
       "      <th>7175</th>\n",
       "      <td>75</td>\n",
       "      <td>71</td>\n",
       "      <td>43</td>\n",
       "      <td>0.032733</td>\n",
       "    </tr>\n",
       "    <tr>\n",
       "      <th>7175</th>\n",
       "      <td>75</td>\n",
       "      <td>71</td>\n",
       "      <td>44</td>\n",
       "      <td>0.018883</td>\n",
       "    </tr>\n",
       "    <tr>\n",
       "      <th>7175</th>\n",
       "      <td>75</td>\n",
       "      <td>71</td>\n",
       "      <td>45</td>\n",
       "      <td>0.006537</td>\n",
       "    </tr>\n",
       "    <tr>\n",
       "      <th>7175</th>\n",
       "      <td>75</td>\n",
       "      <td>71</td>\n",
       "      <td>46</td>\n",
       "      <td>0.000363</td>\n",
       "    </tr>\n",
       "    <tr>\n",
       "      <th>7175</th>\n",
       "      <td>75</td>\n",
       "      <td>71</td>\n",
       "      <td>47</td>\n",
       "      <td>0.000545</td>\n",
       "    </tr>\n",
       "  </tbody>\n",
       "</table>\n",
       "</div>"
      ],
      "text/plain": [
       "       x   y  hour  emission_value\n",
       "7175  75  71     0        0.000958\n",
       "7175  75  71     1        0.001685\n",
       "7175  75  71     2        0.005498\n",
       "7175  75  71     3        0.040410\n",
       "7175  75  71     4        0.068488\n",
       "7175  75  71     5        0.073122\n",
       "7175  75  71     6        0.067746\n",
       "7175  75  71     7        0.072280\n",
       "7175  75  71     8        0.064559\n",
       "7175  75  71     9        0.065540\n",
       "7175  75  71    10        0.061766\n",
       "7175  75  71    11        0.065658\n",
       "7175  75  71    12        0.075550\n",
       "7175  75  71    13        0.075972\n",
       "7175  75  71    14        0.070547\n",
       "7175  75  71    15        0.069330\n",
       "7175  75  71    16        0.074565\n",
       "7175  75  71    17        0.075140\n",
       "7175  75  71    18        0.056959\n",
       "7175  75  71    19        0.032733\n",
       "7175  75  71    20        0.018883\n",
       "7175  75  71    21        0.006537\n",
       "7175  75  71    22        0.000363\n",
       "7175  75  71    23        0.000545\n",
       "7175  75  71    24        0.000958\n",
       "7175  75  71    25        0.001685\n",
       "7175  75  71    26        0.005498\n",
       "7175  75  71    27        0.040410\n",
       "7175  75  71    28        0.068488\n",
       "7175  75  71    29        0.073122\n",
       "7175  75  71    30        0.067746\n",
       "7175  75  71    31        0.072280\n",
       "7175  75  71    32        0.064559\n",
       "7175  75  71    33        0.065540\n",
       "7175  75  71    34        0.061766\n",
       "7175  75  71    35        0.065658\n",
       "7175  75  71    36        0.075550\n",
       "7175  75  71    37        0.075972\n",
       "7175  75  71    38        0.070547\n",
       "7175  75  71    39        0.069330\n",
       "7175  75  71    40        0.074565\n",
       "7175  75  71    41        0.075140\n",
       "7175  75  71    42        0.056959\n",
       "7175  75  71    43        0.032733\n",
       "7175  75  71    44        0.018883\n",
       "7175  75  71    45        0.006537\n",
       "7175  75  71    46        0.000363\n",
       "7175  75  71    47        0.000545"
      ]
     },
     "execution_count": 269,
     "metadata": {},
     "output_type": "execute_result"
    }
   ],
   "source": [
    "(x,y) = (75,71)\n",
    "df_cell = result_0species.loc[(result_0species[\"x\"] == x) & (result_0species[\"y\"] == y)]\n",
    "df_cell"
   ]
  },
  {
   "cell_type": "markdown",
   "id": "6bf7d67a",
   "metadata": {},
   "source": [
    "# PALM Output files"
   ]
  },
  {
   "cell_type": "markdown",
   "id": "2f7fecc7",
   "metadata": {},
   "source": [
    "### Download"
   ]
  },
  {
   "cell_type": "code",
   "execution_count": 23,
   "id": "bcfd8f5c",
   "metadata": {
    "ExecuteTime": {
     "end_time": "2023-10-04T08:31:55.343907Z",
     "start_time": "2023-10-04T08:31:55.301957300Z"
    }
   },
   "outputs": [],
   "source": [
    "output_emissions_no2_0 = nc.Dataset(\"../data/photoshade_6km10m_lod2_av_masked_M01.000.nc\")\n",
    "output_emissions_no2_1 = nc.Dataset(\"../data/photoshade_6km10m_lod2_av_masked_M01.001.nc\")\n",
    "output_emissions_no2_2 = nc.Dataset(\"../data/photoshade_6km10m_lod2_av_masked_M01.002.nc\")\n",
    "output_emissions_no2_3 = nc.Dataset(\"../data/photoshade_6km10m_lod2_av_masked_M01.003.nc\")\n",
    "output_emissions_no2_4 = nc.Dataset(\"../data/photoshade_6km10m_lod2_av_masked_M01.004.nc\")\n",
    "\n",
    "output_emissions_no2_list = [output_emissions_no2_0,\n",
    "                             output_emissions_no2_1,\n",
    "                             output_emissions_no2_2,\n",
    "                             output_emissions_no2_3,\n",
    "                             output_emissions_no2_4,]"
   ]
  },
  {
   "cell_type": "code",
   "execution_count": 24,
   "outputs": [
    {
     "data": {
      "text/plain": "<class 'netCDF4._netCDF4.Dataset'>\nroot group (NETCDF4 data model, file format HDF5):\n    title: PALM 21.10  run: photoshade_6km10m_lod2.00  host: basit  2022-06-17 16:48:38\n    Conventions: CF-1.7\n    creation_time: 2022-06-17 16:48:38 +02\n    data_content: podsmasked\n    version: 1\n    origin_time: 2017-07-17 00:00:00 +00\n    origin_lat: 52.48975372314453\n    origin_lon: 13.273119926452637\n    origin_x: 382751.5\n    origin_y: 5816914.0\n    origin_z: 25.382944107055664\n    rotation_angle: 0.0\n    dependencies: \n    history: \n    author: Basit Khan, basit.khan@kit.edu\n    contact_person: \n    institution: Karlsruher Institute of Technology, IMK-IFU, Alpin Campus, GaPa\n    acronym: KIT/IMK-IFU\n    campaign: summer iop02\n    location: Berlin\n    site: Berlin Mitte\n    source: PALM 21.10\n    references: text\n    keywords: text\n    licence: \n    comment: created with palm_csd\n    time_avg:  3600.0 s avg\n    VAR_LIST: ;kc_NO;kc_NO2;kc_O3;kc_PM10;\n    dimensions(sizes): time(3), ku_above_surf(8), kw_above_surf(8), x(672), xu(672), y(672), yv(672), zs_3d(8)\n    variables(dimensions): float64 time(time), float64 ku_above_surf(ku_above_surf), float64 kw_above_surf(kw_above_surf), float64 x(x), float64 xu(xu), float64 y(y), float64 yv(yv), float64 E_UTM(x), float64 N_UTM(y), float64 Eu_UTM(xu), float64 Nu_UTM(y), float64 Ev_UTM(x), float64 Nv_UTM(yv), float64 lon(y, x), float64 lat(y, x), float64 lonu(y, xu), float64 latu(y, xu), float64 lonv(yv, x), float64 latv(yv, x), int32 crs(), float64 zs_3d(zs_3d), float32 kc_NO(time, ku_above_surf, y, x), float32 kc_NO2(time, ku_above_surf, y, x), float32 kc_O3(time, ku_above_surf, y, x), float32 kc_PM10(time, ku_above_surf, y, x)\n    groups: "
     },
     "execution_count": 24,
     "metadata": {},
     "output_type": "execute_result"
    }
   ],
   "source": [
    "output_emissions_no2_0"
   ],
   "metadata": {
    "collapsed": false,
    "ExecuteTime": {
     "end_time": "2023-10-04T08:31:56.017980100Z",
     "start_time": "2023-10-04T08:31:56.012793900Z"
    }
   },
   "id": "251328065938338e"
  },
  {
   "cell_type": "code",
   "execution_count": 128,
   "id": "933c3cc0",
   "metadata": {},
   "outputs": [
    {
     "ename": "ValueError",
     "evalue": "MFNetCDF4 only works with NETCDF3_* and NETCDF4_CLASSIC formatted files, not NETCDF4",
     "output_type": "error",
     "traceback": [
      "\u001B[1;31m---------------------------------------------------------------------------\u001B[0m",
      "\u001B[1;31mValueError\u001B[0m                                Traceback (most recent call last)",
      "Cell \u001B[1;32mIn[128], line 2\u001B[0m\n\u001B[0;32m      1\u001B[0m \u001B[38;5;66;03m# or in multifile dataset\u001B[39;00m\n\u001B[1;32m----> 2\u001B[0m f \u001B[38;5;241m=\u001B[39m \u001B[43mnc\u001B[49m\u001B[38;5;241;43m.\u001B[39;49m\u001B[43mMFDataset\u001B[49m\u001B[43m(\u001B[49m\u001B[38;5;124;43m\"\u001B[39;49m\u001B[38;5;124;43m../data/photoshade_6km10m_lod2_av_masked_M01*nc\u001B[39;49m\u001B[38;5;124;43m\"\u001B[39;49m\u001B[43m)\u001B[49m\n",
      "File \u001B[1;32msrc\\netCDF4\\_netCDF4.pyx:6911\u001B[0m, in \u001B[0;36mnetCDF4._netCDF4.MFDataset.__init__\u001B[1;34m()\u001B[0m\n",
      "\u001B[1;31mValueError\u001B[0m: MFNetCDF4 only works with NETCDF3_* and NETCDF4_CLASSIC formatted files, not NETCDF4"
     ]
    }
   ],
   "source": [
    "# or in multifile dataset(doesn't work)\n",
    "# f = nc.MFDataset(\"../data/photoshade_6km10m_lod2_av_masked_M01*nc\")"
   ]
  },
  {
   "cell_type": "code",
   "execution_count": 21,
   "id": "665a6223",
   "metadata": {
    "ExecuteTime": {
     "end_time": "2023-10-04T08:23:54.946064800Z",
     "start_time": "2023-10-04T08:23:54.900606100Z"
    }
   },
   "outputs": [
    {
     "data": {
      "text/plain": "array([147600.22200114, 151200.04600114, 154800.00500114, 158400.10700118,\n       162000.19300133, 165600.31400149, 169200.50900165, 172800.08700181])"
     },
     "execution_count": 21,
     "metadata": {},
     "output_type": "execute_result"
    }
   ],
   "source": [
    "output_emissions_no2_4[\"time\"][:].data"
   ]
  },
  {
   "cell_type": "markdown",
   "source": [
    "### Need to reformat to match input emissions grid dataframe"
   ],
   "metadata": {
    "collapsed": false
   },
   "id": "5c272ced5a63176f"
  },
  {
   "cell_type": "code",
   "execution_count": 98,
   "outputs": [],
   "source": [
    "output_emissions_no2_values = []\n"
   ],
   "metadata": {
    "collapsed": false,
    "ExecuteTime": {
     "end_time": "2023-10-04T09:35:19.512431900Z",
     "start_time": "2023-10-04T09:35:19.476127800Z"
    }
   },
   "id": "13d15f369919cf8c"
  },
  {
   "cell_type": "code",
   "execution_count": 129,
   "outputs": [
    {
     "data": {
      "text/plain": "array([[ 1.01497509e-02,  1.01466635e-02,  1.01436023e-02, ...,\n         1.01645896e-02,  1.01506347e-02,  1.01479013e-02],\n       [-9.99900000e+03,  1.01435138e-02,  1.01412162e-02, ...,\n         1.01605533e-02,  1.01453867e-02,  1.01415450e-02],\n       [-9.99900000e+03, -9.99900000e+03,  1.01285819e-02, ...,\n         1.01507641e-02,  1.01363352e-02,  1.01333056e-02],\n       ...,\n       [ 1.01782894e-02,  1.01692211e-02,  1.01732612e-02, ...,\n         1.01743583e-02,  1.01781739e-02,  1.01791173e-02],\n       [ 1.01683699e-02,  1.01540107e-02,  1.01614557e-02, ...,\n         1.01666236e-02,  1.01637840e-02,  1.01728830e-02],\n       [ 1.01574846e-02,  1.01480503e-02, -9.99900000e+03, ...,\n         1.01642087e-02,  1.01578943e-02, -9.99900000e+03]], dtype=float32)"
     },
     "execution_count": 129,
     "metadata": {},
     "output_type": "execute_result"
    }
   ],
   "source": [
    "output_emissions_no2_0[\"kc_NO2\"][0,0,:,:].data"
   ],
   "metadata": {
    "collapsed": false,
    "ExecuteTime": {
     "end_time": "2023-10-04T09:45:10.859986100Z",
     "start_time": "2023-10-04T09:45:10.820476900Z"
    }
   },
   "id": "c0be9ae6da543478"
  },
  {
   "cell_type": "code",
   "execution_count": 124,
   "outputs": [],
   "source": [
    "result_1species_output = pd.DataFrame()\n",
    "xrange = [i for i in range(50)] # Subsetting specific grid part\n",
    "yrange = [i for i in range(50)] # Subsetting specific grid part\n",
    "pollutant = \"kc_NO\"\n",
    "for output_table in output_emissions_no2_list:\n",
    "    timebins = (output_table[\"time\"][:].data/3600).astype(int) # getting hours array (after conversion from seconds to hours)\n",
    "    for i in range(len(timebins)):\n",
    "        pd_ihour_1species = pd.DataFrame(output_table[pollutant][i,0,yrange,xrange].data)#(netcdf format [hour,y,x])\n",
    "        pd_ihour_1species = pd.melt(pd_ihour_1species,var_name = \"y\",value_name = \"emission_value\")\n",
    "        pd_ihour_1species[\"x\"] = [i%len(yrange) for i in range(pd_ihour_1species.shape[0])]\n",
    "        pd_ihour_1species[\"hour\"] = timebins[i]\n",
    "        result_1species_output= pd.concat([result_1species_output,pd_ihour_1species])"
   ],
   "metadata": {
    "collapsed": false,
    "ExecuteTime": {
     "start_time": "2023-10-04T09:43:43.011345600Z"
    }
   },
   "id": "1710592c0c27c045"
  },
  {
   "cell_type": "code",
   "execution_count": 125,
   "outputs": [
    {
     "data": {
      "text/plain": "       x   y  hour  emission_value\n0      0   0     1    8.815081e-05\n1      1   0     1    0.000000e+00\n2      2   0     1    0.000000e+00\n3      3   0     1    0.000000e+00\n4      4   0     1    9.603330e-05\n...   ..  ..   ...             ...\n2495  45  49    48    3.324763e-09\n2496  46  49    48    2.766754e-09\n2497  47  49    48    2.241912e-09\n2498  48  49    48    1.703787e-09\n2499  49  49    48    1.278929e-09\n\n[120000 rows x 4 columns]",
      "text/html": "<div>\n<style scoped>\n    .dataframe tbody tr th:only-of-type {\n        vertical-align: middle;\n    }\n\n    .dataframe tbody tr th {\n        vertical-align: top;\n    }\n\n    .dataframe thead th {\n        text-align: right;\n    }\n</style>\n<table border=\"1\" class=\"dataframe\">\n  <thead>\n    <tr style=\"text-align: right;\">\n      <th></th>\n      <th>x</th>\n      <th>y</th>\n      <th>hour</th>\n      <th>emission_value</th>\n    </tr>\n  </thead>\n  <tbody>\n    <tr>\n      <th>0</th>\n      <td>0</td>\n      <td>0</td>\n      <td>1</td>\n      <td>8.815081e-05</td>\n    </tr>\n    <tr>\n      <th>1</th>\n      <td>1</td>\n      <td>0</td>\n      <td>1</td>\n      <td>0.000000e+00</td>\n    </tr>\n    <tr>\n      <th>2</th>\n      <td>2</td>\n      <td>0</td>\n      <td>1</td>\n      <td>0.000000e+00</td>\n    </tr>\n    <tr>\n      <th>3</th>\n      <td>3</td>\n      <td>0</td>\n      <td>1</td>\n      <td>0.000000e+00</td>\n    </tr>\n    <tr>\n      <th>4</th>\n      <td>4</td>\n      <td>0</td>\n      <td>1</td>\n      <td>9.603330e-05</td>\n    </tr>\n    <tr>\n      <th>...</th>\n      <td>...</td>\n      <td>...</td>\n      <td>...</td>\n      <td>...</td>\n    </tr>\n    <tr>\n      <th>2495</th>\n      <td>45</td>\n      <td>49</td>\n      <td>48</td>\n      <td>3.324763e-09</td>\n    </tr>\n    <tr>\n      <th>2496</th>\n      <td>46</td>\n      <td>49</td>\n      <td>48</td>\n      <td>2.766754e-09</td>\n    </tr>\n    <tr>\n      <th>2497</th>\n      <td>47</td>\n      <td>49</td>\n      <td>48</td>\n      <td>2.241912e-09</td>\n    </tr>\n    <tr>\n      <th>2498</th>\n      <td>48</td>\n      <td>49</td>\n      <td>48</td>\n      <td>1.703787e-09</td>\n    </tr>\n    <tr>\n      <th>2499</th>\n      <td>49</td>\n      <td>49</td>\n      <td>48</td>\n      <td>1.278929e-09</td>\n    </tr>\n  </tbody>\n</table>\n<p>120000 rows × 4 columns</p>\n</div>"
     },
     "execution_count": 125,
     "metadata": {},
     "output_type": "execute_result"
    }
   ],
   "source": [
    "result_1species_output.replace(-9999,0,inplace=True) # because strange values where there are no pollutants\n",
    "result_1species_output = result_1species_output[[\"x\",\"y\",\"hour\",\"emission_value\"]]\n",
    "result_1species_output"
   ],
   "metadata": {
    "collapsed": false,
    "ExecuteTime": {
     "end_time": "2023-10-04T09:43:43.647874300Z",
     "start_time": "2023-10-04T09:43:43.620649700Z"
    }
   },
   "id": "d01b3d9dc96c0395"
  },
  {
   "cell_type": "code",
   "execution_count": 106,
   "outputs": [
    {
     "data": {
      "text/plain": "       x   y  hour  out_emission_value\n0      0   0     1        8.815081e-05\n1      1   0     1        0.000000e+00\n2      2   0     1        0.000000e+00\n3      3   0     1        0.000000e+00\n4      4   0     1        9.603330e-05\n...   ..  ..   ...                 ...\n2495  45  49    48        3.324763e-09\n2496  46  49    48        2.766754e-09\n2497  47  49    48        2.241912e-09\n2498  48  49    48        1.703787e-09\n2499  49  49    48        1.278929e-09\n\n[120000 rows x 4 columns]",
      "text/html": "<div>\n<style scoped>\n    .dataframe tbody tr th:only-of-type {\n        vertical-align: middle;\n    }\n\n    .dataframe tbody tr th {\n        vertical-align: top;\n    }\n\n    .dataframe thead th {\n        text-align: right;\n    }\n</style>\n<table border=\"1\" class=\"dataframe\">\n  <thead>\n    <tr style=\"text-align: right;\">\n      <th></th>\n      <th>x</th>\n      <th>y</th>\n      <th>hour</th>\n      <th>out_emission_value</th>\n    </tr>\n  </thead>\n  <tbody>\n    <tr>\n      <th>0</th>\n      <td>0</td>\n      <td>0</td>\n      <td>1</td>\n      <td>8.815081e-05</td>\n    </tr>\n    <tr>\n      <th>1</th>\n      <td>1</td>\n      <td>0</td>\n      <td>1</td>\n      <td>0.000000e+00</td>\n    </tr>\n    <tr>\n      <th>2</th>\n      <td>2</td>\n      <td>0</td>\n      <td>1</td>\n      <td>0.000000e+00</td>\n    </tr>\n    <tr>\n      <th>3</th>\n      <td>3</td>\n      <td>0</td>\n      <td>1</td>\n      <td>0.000000e+00</td>\n    </tr>\n    <tr>\n      <th>4</th>\n      <td>4</td>\n      <td>0</td>\n      <td>1</td>\n      <td>9.603330e-05</td>\n    </tr>\n    <tr>\n      <th>...</th>\n      <td>...</td>\n      <td>...</td>\n      <td>...</td>\n      <td>...</td>\n    </tr>\n    <tr>\n      <th>2495</th>\n      <td>45</td>\n      <td>49</td>\n      <td>48</td>\n      <td>3.324763e-09</td>\n    </tr>\n    <tr>\n      <th>2496</th>\n      <td>46</td>\n      <td>49</td>\n      <td>48</td>\n      <td>2.766754e-09</td>\n    </tr>\n    <tr>\n      <th>2497</th>\n      <td>47</td>\n      <td>49</td>\n      <td>48</td>\n      <td>2.241912e-09</td>\n    </tr>\n    <tr>\n      <th>2498</th>\n      <td>48</td>\n      <td>49</td>\n      <td>48</td>\n      <td>1.703787e-09</td>\n    </tr>\n    <tr>\n      <th>2499</th>\n      <td>49</td>\n      <td>49</td>\n      <td>48</td>\n      <td>1.278929e-09</td>\n    </tr>\n  </tbody>\n</table>\n<p>120000 rows × 4 columns</p>\n</div>"
     },
     "execution_count": 106,
     "metadata": {},
     "output_type": "execute_result"
    }
   ],
   "source": [
    "result_1species_output"
   ],
   "metadata": {
    "collapsed": false,
    "ExecuteTime": {
     "end_time": "2023-10-04T09:36:29.467224200Z",
     "start_time": "2023-10-04T09:36:29.423728900Z"
    }
   },
   "id": "40a60ed99b7ecb78"
  },
  {
   "cell_type": "markdown",
   "id": "50135bef",
   "metadata": {},
   "source": [
    "# Plot pollution distribution"
   ]
  },
  {
   "cell_type": "code",
   "execution_count": 136,
   "outputs": [],
   "source": [
    "def make_heatmap_from_pd(result_dataframe,hour):\n",
    "    result_1specieshour = result_dataframe.loc[result_dataframe[\"hour\"] == hour]\n",
    "    result_1specieshour = result_1specieshour[[\"x\",\"y\",\"emission_value\"]]\n",
    "    x, y = result_1specieshour[[\"x\", \"y\"]].max() + 1\n",
    "    v = result_1specieshour[\"emission_value\"].to_numpy().reshape((x, y))\n",
    "    indices = result_1specieshour[[\"x\", 'y']].to_numpy().T\n",
    "\n",
    "    v = np.tile(np.nan, indices.max(axis=1) + 1)\n",
    "    v[tuple(indices)] = result_1specieshour[\"emission_value\"]\n",
    "    ax = sns.heatmap(v)\n",
    "    plt.show()"
   ],
   "metadata": {
    "collapsed": false,
    "ExecuteTime": {
     "end_time": "2023-10-04T09:50:49.329183400Z",
     "start_time": "2023-10-04T09:50:49.291938500Z"
    }
   },
   "id": "127961f7b4aac7c"
  },
  {
   "cell_type": "code",
   "execution_count": 150,
   "outputs": [
    {
     "data": {
      "text/plain": "<Figure size 432x288 with 2 Axes>",
      "image/png": "[encoded data removed]"
     },
     "metadata": {
      "needs_background": "light"
     },
     "output_type": "display_data"
    },
    {
     "data": {
      "text/plain": "<Figure size 432x288 with 2 Axes>",
      "image/png": "[encoded data removed]"
     },
     "metadata": {
      "needs_background": "light"
     },
     "output_type": "display_data"
    }
   ],
   "source": [
    "#plotting\n",
    "hour = 45\n",
    "plt.subplot(2,1,1)\n",
    "make_heatmap_from_pd(result_1species,hour)\n",
    "plt.subplot(2,1,2)\n",
    "make_heatmap_from_pd(result_1species_output,hour)\n",
    "\n"
   ],
   "metadata": {
    "collapsed": false,
    "ExecuteTime": {
     "end_time": "2023-10-04T09:53:26.967808800Z",
     "start_time": "2023-10-04T09:53:26.372168500Z"
    }
   },
   "id": "ab4458c6744ec91b"
  },
  {
   "cell_type": "code",
   "execution_count": 172,
   "outputs": [
    {
     "data": {
      "text/plain": "<Figure size 432x288 with 2 Axes>",
      "image/png": "[encoded data removed]"
     },
     "metadata": {
      "needs_background": "light"
     },
     "output_type": "display_data"
    },
    {
     "data": {
      "text/plain": "<Figure size 432x288 with 2 Axes>",
      "image/png": "[encoded data removed]"
     },
     "metadata": {
      "needs_background": "light"
     },
     "output_type": "display_data"
    }
   ],
   "source": [
    "#Plot ranges\n",
    "xrange = [i for i in range(0,50,1)]\n",
    "yrange = [i for i in range(0,50,1)]\n",
    "#Data preparing\n",
    "in_data = ds[\"emission_values\"][26,0,yrange,xrange,1].data          #[hour,z,y,x,nspecies]\n",
    "out_data = pd.DataFrame(output_emissions_no2_3[\"kc_NO\"][0,0,yrange,xrange].data) #[hour,ku_surf_above,y,x]\n",
    "out_data[out_data ==-9999] = 0\n",
    "#plotting\n",
    "plt.subplot(2,1,1)\n",
    "ax = sns.heatmap(in_data)\n",
    "plt.show()\n",
    "plt.subplot(2,1,2)\n",
    "ax = sns.heatmap(out_data)\n",
    "plt.show()"
   ],
   "metadata": {
    "collapsed": false,
    "ExecuteTime": {
     "end_time": "2023-10-04T13:30:48.528298600Z",
     "start_time": "2023-10-04T13:30:47.865209800Z"
    }
   },
   "id": "3af25125"
  },
  {
   "cell_type": "code",
   "execution_count": null,
   "outputs": [],
   "source": [
    "output_emissions_no2_3[\"time\"]"
   ],
   "metadata": {
    "collapsed": false
   },
   "id": "89cde209526fc017"
  },
  {
   "cell_type": "markdown",
   "source": [
    "# Outputing relevant information in csvs"
   ],
   "metadata": {
    "collapsed": false
   },
   "id": "3d852c1e516e5e07"
  },
  {
   "cell_type": "code",
   "execution_count": 151,
   "outputs": [
    {
     "data": {
      "text/plain": "     x   y  hour  emission_value  nbr  nbl  nbu  nbd\n0    0   0     0             0.0  0.0  0.0  0.0  0.0\n1    0   0     1             0.0  0.0  0.0  0.0  0.0\n2    0   0     2             0.0  0.0  0.0  0.0  0.0\n3    0   0     3             0.0  0.0  0.0  0.0  0.0\n4    0   0     4             0.0  0.0  0.0  0.0  0.0\n..  ..  ..   ...             ...  ...  ...  ...  ...\n43  49  49    43             0.0  0.0  0.0  0.0  0.0\n44  49  49    44             0.0  0.0  0.0  0.0  0.0\n45  49  49    45             0.0  0.0  0.0  0.0  0.0\n46  49  49    46             0.0  0.0  0.0  0.0  0.0\n47  49  49    47             0.0  0.0  0.0  0.0  0.0\n\n[120000 rows x 8 columns]",
      "text/html": "<div>\n<style scoped>\n    .dataframe tbody tr th:only-of-type {\n        vertical-align: middle;\n    }\n\n    .dataframe tbody tr th {\n        vertical-align: top;\n    }\n\n    .dataframe thead th {\n        text-align: right;\n    }\n</style>\n<table border=\"1\" class=\"dataframe\">\n  <thead>\n    <tr style=\"text-align: right;\">\n      <th></th>\n      <th>x</th>\n      <th>y</th>\n      <th>hour</th>\n      <th>emission_value</th>\n      <th>nbr</th>\n      <th>nbl</th>\n      <th>nbu</th>\n      <th>nbd</th>\n    </tr>\n  </thead>\n  <tbody>\n    <tr>\n      <th>0</th>\n      <td>0</td>\n      <td>0</td>\n      <td>0</td>\n      <td>0.0</td>\n      <td>0.0</td>\n      <td>0.0</td>\n      <td>0.0</td>\n      <td>0.0</td>\n    </tr>\n    <tr>\n      <th>1</th>\n      <td>0</td>\n      <td>0</td>\n      <td>1</td>\n      <td>0.0</td>\n      <td>0.0</td>\n      <td>0.0</td>\n      <td>0.0</td>\n      <td>0.0</td>\n    </tr>\n    <tr>\n      <th>2</th>\n      <td>0</td>\n      <td>0</td>\n      <td>2</td>\n      <td>0.0</td>\n      <td>0.0</td>\n      <td>0.0</td>\n      <td>0.0</td>\n      <td>0.0</td>\n    </tr>\n    <tr>\n      <th>3</th>\n      <td>0</td>\n      <td>0</td>\n      <td>3</td>\n      <td>0.0</td>\n      <td>0.0</td>\n      <td>0.0</td>\n      <td>0.0</td>\n      <td>0.0</td>\n    </tr>\n    <tr>\n      <th>4</th>\n      <td>0</td>\n      <td>0</td>\n      <td>4</td>\n      <td>0.0</td>\n      <td>0.0</td>\n      <td>0.0</td>\n      <td>0.0</td>\n      <td>0.0</td>\n    </tr>\n    <tr>\n      <th>...</th>\n      <td>...</td>\n      <td>...</td>\n      <td>...</td>\n      <td>...</td>\n      <td>...</td>\n      <td>...</td>\n      <td>...</td>\n      <td>...</td>\n    </tr>\n    <tr>\n      <th>43</th>\n      <td>49</td>\n      <td>49</td>\n      <td>43</td>\n      <td>0.0</td>\n      <td>0.0</td>\n      <td>0.0</td>\n      <td>0.0</td>\n      <td>0.0</td>\n    </tr>\n    <tr>\n      <th>44</th>\n      <td>49</td>\n      <td>49</td>\n      <td>44</td>\n      <td>0.0</td>\n      <td>0.0</td>\n      <td>0.0</td>\n      <td>0.0</td>\n      <td>0.0</td>\n    </tr>\n    <tr>\n      <th>45</th>\n      <td>49</td>\n      <td>49</td>\n      <td>45</td>\n      <td>0.0</td>\n      <td>0.0</td>\n      <td>0.0</td>\n      <td>0.0</td>\n      <td>0.0</td>\n    </tr>\n    <tr>\n      <th>46</th>\n      <td>49</td>\n      <td>49</td>\n      <td>46</td>\n      <td>0.0</td>\n      <td>0.0</td>\n      <td>0.0</td>\n      <td>0.0</td>\n      <td>0.0</td>\n    </tr>\n    <tr>\n      <th>47</th>\n      <td>49</td>\n      <td>49</td>\n      <td>47</td>\n      <td>0.0</td>\n      <td>0.0</td>\n      <td>0.0</td>\n      <td>0.0</td>\n      <td>0.0</td>\n    </tr>\n  </tbody>\n</table>\n<p>120000 rows × 8 columns</p>\n</div>"
     },
     "execution_count": 151,
     "metadata": {},
     "output_type": "execute_result"
    }
   ],
   "source": [
    "completed_1species = complete_df_with_neighbours(result_1species)\n",
    "completed_1species"
   ],
   "metadata": {
    "collapsed": false,
    "ExecuteTime": {
     "start_time": "2023-10-04T09:55:01.336960300Z"
    }
   },
   "id": "3bd475d7f45dceaf"
  },
  {
   "cell_type": "code",
   "execution_count": 152,
   "outputs": [
    {
     "data": {
      "text/plain": "     x   y  hour  emission_value  nbr           nbl           nbu       nbd\n0    0   0     1    8.815081e-05  0.0  0.000000e+00  0.000000e+00  0.000087\n1    0   0     2    3.298550e-05  0.0  0.000000e+00  0.000000e+00  0.000028\n2    0   0     3    5.620945e-05  0.0  0.000000e+00  0.000000e+00  0.000048\n3    0   0     4    5.168101e-04  0.0  0.000000e+00  0.000000e+00  0.000506\n4    0   0     5    4.583161e-03  0.0  0.000000e+00  0.000000e+00  0.004548\n..  ..  ..   ...             ...  ...           ...           ...       ...\n43  49  49    44    1.665753e-06  0.0  1.603733e-06  1.693905e-06  0.000000\n44  49  49    45    5.869731e-06  0.0  6.138296e-06  6.684226e-06  0.000000\n45  49  49    46    8.536082e-07  0.0  9.832816e-07  8.831243e-07  0.000000\n46  49  49    47    5.267595e-07  0.0  5.749978e-07  5.290955e-07  0.000000\n47  49  49    48    1.278929e-09  0.0  1.703787e-09  1.165521e-09  0.000000\n\n[120000 rows x 8 columns]",
      "text/html": "<div>\n<style scoped>\n    .dataframe tbody tr th:only-of-type {\n        vertical-align: middle;\n    }\n\n    .dataframe tbody tr th {\n        vertical-align: top;\n    }\n\n    .dataframe thead th {\n        text-align: right;\n    }\n</style>\n<table border=\"1\" class=\"dataframe\">\n  <thead>\n    <tr style=\"text-align: right;\">\n      <th></th>\n      <th>x</th>\n      <th>y</th>\n      <th>hour</th>\n      <th>emission_value</th>\n      <th>nbr</th>\n      <th>nbl</th>\n      <th>nbu</th>\n      <th>nbd</th>\n    </tr>\n  </thead>\n  <tbody>\n    <tr>\n      <th>0</th>\n      <td>0</td>\n      <td>0</td>\n      <td>1</td>\n      <td>8.815081e-05</td>\n      <td>0.0</td>\n      <td>0.000000e+00</td>\n      <td>0.000000e+00</td>\n      <td>0.000087</td>\n    </tr>\n    <tr>\n      <th>1</th>\n      <td>0</td>\n      <td>0</td>\n      <td>2</td>\n      <td>3.298550e-05</td>\n      <td>0.0</td>\n      <td>0.000000e+00</td>\n      <td>0.000000e+00</td>\n      <td>0.000028</td>\n    </tr>\n    <tr>\n      <th>2</th>\n      <td>0</td>\n      <td>0</td>\n      <td>3</td>\n      <td>5.620945e-05</td>\n      <td>0.0</td>\n      <td>0.000000e+00</td>\n      <td>0.000000e+00</td>\n      <td>0.000048</td>\n    </tr>\n    <tr>\n      <th>3</th>\n      <td>0</td>\n      <td>0</td>\n      <td>4</td>\n      <td>5.168101e-04</td>\n      <td>0.0</td>\n      <td>0.000000e+00</td>\n      <td>0.000000e+00</td>\n      <td>0.000506</td>\n    </tr>\n    <tr>\n      <th>4</th>\n      <td>0</td>\n      <td>0</td>\n      <td>5</td>\n      <td>4.583161e-03</td>\n      <td>0.0</td>\n      <td>0.000000e+00</td>\n      <td>0.000000e+00</td>\n      <td>0.004548</td>\n    </tr>\n    <tr>\n      <th>...</th>\n      <td>...</td>\n      <td>...</td>\n      <td>...</td>\n      <td>...</td>\n      <td>...</td>\n      <td>...</td>\n      <td>...</td>\n      <td>...</td>\n    </tr>\n    <tr>\n      <th>43</th>\n      <td>49</td>\n      <td>49</td>\n      <td>44</td>\n      <td>1.665753e-06</td>\n      <td>0.0</td>\n      <td>1.603733e-06</td>\n      <td>1.693905e-06</td>\n      <td>0.000000</td>\n    </tr>\n    <tr>\n      <th>44</th>\n      <td>49</td>\n      <td>49</td>\n      <td>45</td>\n      <td>5.869731e-06</td>\n      <td>0.0</td>\n      <td>6.138296e-06</td>\n      <td>6.684226e-06</td>\n      <td>0.000000</td>\n    </tr>\n    <tr>\n      <th>45</th>\n      <td>49</td>\n      <td>49</td>\n      <td>46</td>\n      <td>8.536082e-07</td>\n      <td>0.0</td>\n      <td>9.832816e-07</td>\n      <td>8.831243e-07</td>\n      <td>0.000000</td>\n    </tr>\n    <tr>\n      <th>46</th>\n      <td>49</td>\n      <td>49</td>\n      <td>47</td>\n      <td>5.267595e-07</td>\n      <td>0.0</td>\n      <td>5.749978e-07</td>\n      <td>5.290955e-07</td>\n      <td>0.000000</td>\n    </tr>\n    <tr>\n      <th>47</th>\n      <td>49</td>\n      <td>49</td>\n      <td>48</td>\n      <td>1.278929e-09</td>\n      <td>0.0</td>\n      <td>1.703787e-09</td>\n      <td>1.165521e-09</td>\n      <td>0.000000</td>\n    </tr>\n  </tbody>\n</table>\n<p>120000 rows × 8 columns</p>\n</div>"
     },
     "execution_count": 152,
     "metadata": {},
     "output_type": "execute_result"
    }
   ],
   "source": [
    "completed_1species_out = complete_df_with_neighbours(result_1species_output)\n",
    "completed_1species_out"
   ],
   "metadata": {
    "collapsed": false,
    "ExecuteTime": {
     "start_time": "2023-10-04T09:55:31.922683Z"
    }
   },
   "id": "1f0ce08454c948cd"
  },
  {
   "cell_type": "code",
   "execution_count": 164,
   "outputs": [],
   "source": [
    "completed_1species.to_csv(\"../data/result1_species_in.csv\",index=False,sep =\";\",encoding='utf-8', float_format='%.15f')\n",
    "completed_1species_out.to_csv(\"../data/result1_species_out.csv\",index=False,sep =\";\",encoding='utf-8', float_format='%.15f')\n"
   ],
   "metadata": {
    "collapsed": false,
    "ExecuteTime": {
     "end_time": "2023-10-04T10:03:05.777454700Z",
     "start_time": "2023-10-04T10:03:03.485382800Z"
    }
   },
   "id": "8895286f62cefb42"
  },
  {
   "cell_type": "code",
   "execution_count": null,
   "outputs": [],
   "source": [],
   "metadata": {
    "collapsed": false
   },
   "id": "c8ca2679813c4c22"
  }
 ],
 "metadata": {
  "kernelspec": {
   "display_name": "Python 3 (ipykernel)",
   "language": "python",
   "name": "python3"
  },
  "language_info": {
   "codemirror_mode": {
    "name": "ipython",
    "version": 3
   },
   "file_extension": ".py",
   "mimetype": "text/x-python",
   "name": "python",
   "nbconvert_exporter": "python",
   "pygments_lexer": "ipython3",
   "version": "3.10.9"
  }
 },
 "nbformat": 4,
 "nbformat_minor": 5
}
