{
 "cells": [
  {
   "cell_type": "code",
   "execution_count": 3,
   "id": "45156eb005a13708",
   "metadata": {
    "ExecuteTime": {
     "end_time": "2023-09-27T14:46:26.513830100Z",
     "start_time": "2023-09-27T14:46:23.337503100Z"
    }
   },
   "outputs": [
    {
     "name": "stdout",
     "output_type": "stream",
     "text": [
      "Collecting netcdf4\n",
      "  Downloading netCDF4-1.6.4-cp39-cp39-win_amd64.whl (6.6 MB)\n",
      "Requirement already satisfied: certifi in c:\\users\\zlukich\\appdata\\local\\programs\\python\\python39\\lib\\site-packages (from netcdf4) (2021.10.8)\n",
      "Collecting cftime\n",
      "  Downloading cftime-1.6.2-cp39-cp39-win_amd64.whl (171 kB)\n",
      "Requirement already satisfied: numpy in c:\\users\\zlukich\\appdata\\local\\programs\\python\\python39\\lib\\site-packages (from netcdf4) (1.22.3)\n",
      "Installing collected packages: cftime, netcdf4\n",
      "Successfully installed cftime-1.6.2 netcdf4-1.6.4\n"
     ]
    },
    {
     "name": "stderr",
     "output_type": "stream",
     "text": [
      "WARNING: You are using pip version 21.2.3; however, version 23.2.1 is available.\n",
      "You should consider upgrading via the 'C:\\Users\\zlukich\\AppData\\Local\\Programs\\Python\\Python39\\python.exe -m pip install --upgrade pip' command.\n"
     ]
    }
   ],
   "source": [
    "!pip install netcdf4"
   ]
  },
  {
   "cell_type": "code",
   "execution_count": 1,
   "id": "93bd217b",
   "metadata": {
    "ExecuteTime": {
     "end_time": "2023-11-08T11:01:10.547808900Z",
     "start_time": "2023-11-08T11:01:10.027601100Z"
    }
   },
   "outputs": [],
   "source": [
    "import netCDF4 as nc\n",
    "import sys\n",
    "import pandas as pd\n",
    "import numpy as np\n",
    "import seaborn as sns\n",
    "import matplotlib.pylab as plt\n",
    "pd.options.mode.chained_assignment = None  # default='warn'\n"
   ]
  },
  {
   "cell_type": "markdown",
   "source": [
    "# Helping functions"
   ],
   "metadata": {
    "collapsed": false
   },
   "id": "459d0615"
  },
  {
   "cell_type": "code",
   "execution_count": 2,
   "outputs": [],
   "source": [
    "def get_neighbours(df,x,y):\n",
    "    \n",
    "    result = pd.DataFrame()\n",
    "    \n",
    "    df_cell = df.loc[(df[\"x\"] ==x) & (df[\"y\"] ==y)]\n",
    "    \n",
    "    \n",
    "    new_row_right = df.loc[(df[\"x\"] ==x+1) & (df[\"y\"] ==y)]\n",
    "   #print(new_row_right)\n",
    "    if(len(new_row_right) == 0):\n",
    "        new_row_right = pd.DataFrame({\"x\" : [x+1 for i in range(df_cell.shape[0])],\n",
    "                                      \"y\" : [y for i in range(df_cell.shape[0])],\n",
    "                                      \"emission_value\" : [0 for i in range(df_cell.shape[0])],\n",
    "                                      \"hour\" : df_cell[\"hour\"].values ,\n",
    "                                      \"nb_type\" : [\"nbr\" for i in range(df_cell.shape[0])]})\n",
    "    else:\n",
    "        new_row_right[\"nb_type\"] = \"nbr\"\n",
    "    \n",
    "    \n",
    "    new_row_left = df.loc[(df[\"x\"] ==x-1) & (df[\"y\"] ==y)]\n",
    "    if(len(new_row_left) == 0):\n",
    "        new_row_left = pd.DataFrame({\"x\" : [x-1 for i in range(df_cell.shape[0])],\n",
    "                                      \"y\" : [y for i in range(df_cell.shape[0])],\n",
    "                                      \"emission_value\" : [0 for i in range(df_cell.shape[0])],\n",
    "                                      \"hour\" : df_cell[\"hour\"].values ,\n",
    "                                      \"nb_type\" : [\"nbl\" for i in range(df_cell.shape[0])]})\n",
    "    else:\n",
    "        new_row_left[\"nb_type\"] = \"nbl\"\n",
    "    \n",
    "    \n",
    "    new_row_up = df.loc[(df[\"x\"] ==x) & (df[\"y\"] ==y-1)]\n",
    "    if(len(new_row_up) == 0):\n",
    "        new_row_up = pd.DataFrame({\"x\" : [x for i in range(df_cell.shape[0])],\n",
    "                                      \"y\" : [y-1 for i in range(df_cell.shape[0])],\n",
    "                                      \"emission_value\" : [0 for i in range(df_cell.shape[0])],\n",
    "                                      \"hour\" : df_cell[\"hour\"].values ,\n",
    "                                      \"nb_type\" : [\"nbu\" for i in range(df_cell.shape[0])]})\n",
    "    else:\n",
    "        new_row_up[\"nb_type\"] = \"nbu\"\n",
    "    \n",
    "    \n",
    "    new_row_down = df.loc[(df[\"x\"] ==x) & (df[\"y\"] ==y+1)]\n",
    "    if(len(new_row_down) == 0):\n",
    "        new_row_down = pd.DataFrame({\"x\" : [x for i in range(df_cell.shape[0])],\n",
    "                                      \"y\" : [y+1 for i in range(df_cell.shape[0])],\n",
    "                                      \"emission_value\" : [0 for i in range(df_cell.shape[0])],\n",
    "                                      \"hour\" : df_cell[\"hour\"].values ,\n",
    "                                      \"nb_type\" : [\"nbd\" for i in range(df_cell.shape[0])]})\n",
    "    else:\n",
    "        new_row_down[\"nb_type\"] = \"nbd\"\n",
    "    result = pd.concat([new_row_right,new_row_left,new_row_up,new_row_down])\n",
    "    return result\n",
    "\n",
    "\n",
    "\n",
    "def add_neighbours(df,x,y):\n",
    "    '''\n",
    "    \n",
    "        df_cell: adds neighbours to specific cell\n",
    "    '''\n",
    "    df_cell = df.loc[(df[\"x\"] ==x) & (df[\"y\"] ==y)]\n",
    "    \n",
    "    #print(df_cell)\n",
    "    neighbours = get_neighbours(df,x,y)\n",
    "    \n",
    "    neighbours_right = neighbours.loc[neighbours[\"nb_type\"] == \"nbr\"]\n",
    "    neighbours_left = neighbours.loc[neighbours[\"nb_type\"] == \"nbl\"]\n",
    "    neighbours_up = neighbours.loc[neighbours[\"nb_type\"] == \"nbu\"]\n",
    "    neighbours_down = neighbours.loc[neighbours[\"nb_type\"] == \"nbd\"]\n",
    "    \n",
    "    #print(neighbours_right)\n",
    "    try:\n",
    "        df_to_append = pd.DataFrame({\"nbr\":neighbours_right[\"emission_value\"].values,\n",
    "                                    \"nbl\":neighbours_left[\"emission_value\"].values,\n",
    "                                    \"nbu\":neighbours_up[\"emission_value\"].values,\n",
    "                                    \"nbd\":neighbours_down[\"emission_value\"].values})\n",
    "    except:\n",
    "        df_to_append = pd.DataFrame()\n",
    "        print(\"hello\")\n",
    "        #print(neighbours)\n",
    "        #print(neighbours_right)\n",
    "        #print(neighbours_left)\n",
    "        #print(neighbours_up)\n",
    "        #print(neighbours_down)\n",
    "    #print(df_to_append)\n",
    "    df_to_append = df_to_append.reset_index(drop=True)\n",
    "    df_cell = df_cell.reset_index(drop=True)\n",
    "    result= pd.concat([df_cell,df_to_append],axis = 1)\n",
    "    return result\n",
    "\n",
    "def complete_df_with_neighbours(df):\n",
    "    '''\n",
    "        \n",
    "    '''\n",
    "    maximal_x = max(df[\"x\"])\n",
    "    minimal_x = min(df[\"x\"])\n",
    "    maximal_y = max(df[\"y\"])\n",
    "    minimal_y = min(df[\"y\"])\n",
    "    #print(df.shape[0])\n",
    "    result = pd.DataFrame()\n",
    "    for i in range(minimal_x,maximal_x+1,1):\n",
    "        for j in range(minimal_y,maximal_y+1):\n",
    "            df_cell = add_neighbours(df,i ,j )\n",
    "            #print(df_cell)\n",
    "            result = pd.concat([result,df_cell])\n",
    "    return result\n",
    "    "
   ],
   "metadata": {
    "collapsed": false,
    "ExecuteTime": {
     "end_time": "2023-11-08T11:01:10.547808900Z",
     "start_time": "2023-11-08T11:01:10.516557400Z"
    }
   },
   "id": "79736235"
  },
  {
   "cell_type": "markdown",
   "source": [
    "# Reading .nc files"
   ],
   "metadata": {
    "collapsed": false
   },
   "id": "e332702a"
  },
  {
   "cell_type": "markdown",
   "source": [
    "## Chemistry"
   ],
   "metadata": {
    "collapsed": false
   },
   "id": "383fd96233c76dae"
  },
  {
   "cell_type": "code",
   "execution_count": 3,
   "outputs": [],
   "source": [
    "ds = nc.Dataset(\"../data/photoshade_6km10m_lod2_chemistry.nc\")"
   ],
   "metadata": {
    "collapsed": false,
    "ExecuteTime": {
     "end_time": "2023-11-08T11:01:10.584852600Z",
     "start_time": "2023-11-08T11:01:10.541634400Z"
    }
   },
   "id": "7b230817"
  },
  {
   "cell_type": "markdown",
   "source": [
    "## Static"
   ],
   "metadata": {
    "collapsed": false
   },
   "id": "fdbef10ce986ed87"
  },
  {
   "cell_type": "code",
   "execution_count": 4,
   "outputs": [
    {
     "data": {
      "text/plain": "          x    y  building_height\n0         0    0         0.000000\n1         1    0         7.494203\n2         2    0         9.762539\n3         3    0         7.645858\n4         4    0         0.000000\n...     ...  ...              ...\n451579  667  671        18.275076\n451580  668  671        18.620945\n451581  669  671         0.000000\n451582  670  671         0.000000\n451583  671  671        16.172220\n\n[451584 rows x 3 columns]",
      "text/html": "<div>\n<style scoped>\n    .dataframe tbody tr th:only-of-type {\n        vertical-align: middle;\n    }\n\n    .dataframe tbody tr th {\n        vertical-align: top;\n    }\n\n    .dataframe thead th {\n        text-align: right;\n    }\n</style>\n<table border=\"1\" class=\"dataframe\">\n  <thead>\n    <tr style=\"text-align: right;\">\n      <th></th>\n      <th>x</th>\n      <th>y</th>\n      <th>building_height</th>\n    </tr>\n  </thead>\n  <tbody>\n    <tr>\n      <th>0</th>\n      <td>0</td>\n      <td>0</td>\n      <td>0.000000</td>\n    </tr>\n    <tr>\n      <th>1</th>\n      <td>1</td>\n      <td>0</td>\n      <td>7.494203</td>\n    </tr>\n    <tr>\n      <th>2</th>\n      <td>2</td>\n      <td>0</td>\n      <td>9.762539</td>\n    </tr>\n    <tr>\n      <th>3</th>\n      <td>3</td>\n      <td>0</td>\n      <td>7.645858</td>\n    </tr>\n    <tr>\n      <th>4</th>\n      <td>4</td>\n      <td>0</td>\n      <td>0.000000</td>\n    </tr>\n    <tr>\n      <th>...</th>\n      <td>...</td>\n      <td>...</td>\n      <td>...</td>\n    </tr>\n    <tr>\n      <th>451579</th>\n      <td>667</td>\n      <td>671</td>\n      <td>18.275076</td>\n    </tr>\n    <tr>\n      <th>451580</th>\n      <td>668</td>\n      <td>671</td>\n      <td>18.620945</td>\n    </tr>\n    <tr>\n      <th>451581</th>\n      <td>669</td>\n      <td>671</td>\n      <td>0.000000</td>\n    </tr>\n    <tr>\n      <th>451582</th>\n      <td>670</td>\n      <td>671</td>\n      <td>0.000000</td>\n    </tr>\n    <tr>\n      <th>451583</th>\n      <td>671</td>\n      <td>671</td>\n      <td>16.172220</td>\n    </tr>\n  </tbody>\n</table>\n<p>451584 rows × 3 columns</p>\n</div>"
     },
     "execution_count": 4,
     "metadata": {},
     "output_type": "execute_result"
    }
   ],
   "source": [
    "ds_static = nc.Dataset(\"../data/photoshade_6km10m_lod2_static.nc\")\n",
    "buildings = pd.DataFrame(ds_static[\"buildings_2d\"][:,:].data)\n",
    "buildings = buildings.melt(var_name = \"y\",value_name = \"building_height\")\n",
    "buildings[\"x\"] = [i%672 for i in range(buildings.shape[0])]\n",
    "new_cols_order = [\"x\",\"y\",\"building_height\"]\n",
    "buildings = buildings[new_cols_order]\n",
    "buildings.replace(-9999,0,inplace=True) # because strange values where there are no pollutants\n",
    "buildings"
   ],
   "metadata": {
    "collapsed": false,
    "ExecuteTime": {
     "end_time": "2023-11-08T11:01:10.777462900Z",
     "start_time": "2023-11-08T11:01:10.565564700Z"
    }
   },
   "id": "69ee205a39acc28e"
  },
  {
   "cell_type": "code",
   "execution_count": 5,
   "outputs": [
    {
     "data": {
      "text/plain": "(451584, 3)"
     },
     "execution_count": 5,
     "metadata": {},
     "output_type": "execute_result"
    }
   ],
   "source": [
    "buildings.shape"
   ],
   "metadata": {
    "collapsed": false,
    "ExecuteTime": {
     "end_time": "2023-11-08T11:01:10.777462900Z",
     "start_time": "2023-11-08T11:01:10.772339500Z"
    }
   },
   "id": "f40c3d87f3caf4ea"
  },
  {
   "cell_type": "code",
   "execution_count": 6,
   "id": "e16664ff",
   "metadata": {
    "ExecuteTime": {
     "end_time": "2023-11-08T11:01:10.798707900Z",
     "start_time": "2023-11-08T11:01:10.775076800Z"
    }
   },
   "outputs": [
    {
     "data": {
      "text/plain": "array([[0., 0., 0., ..., 0., 0., 0.],\n       [0., 0., 0., ..., 0., 0., 0.],\n       [0., 0., 0., ..., 0., 0., 0.],\n       ...,\n       [0., 0., 0., ..., 0., 0., 0.],\n       [0., 0., 0., ..., 0., 0., 0.],\n       [0., 0., 0., ..., 0., 0., 0.]], dtype=float32)"
     },
     "execution_count": 6,
     "metadata": {},
     "output_type": "execute_result"
    }
   ],
   "source": [
    "ds[\"emission_values\"][0,0,:,:,0].data"
   ]
  },
  {
   "cell_type": "markdown",
   "id": "5cc4f864",
   "metadata": {},
   "source": [
    "# Save information as CSV file"
   ]
  },
  {
   "cell_type": "code",
   "execution_count": 7,
   "outputs": [],
   "source": [
    "pd_15hour_3species = pd.DataFrame(ds[\"emission_values\"][15,0,:,:,2].data)"
   ],
   "metadata": {
    "collapsed": false,
    "ExecuteTime": {
     "end_time": "2023-11-08T11:01:10.880446300Z",
     "start_time": "2023-11-08T11:01:10.795708500Z"
    }
   },
   "id": "0486b888"
  },
  {
   "cell_type": "code",
   "execution_count": 8,
   "id": "e8738b02",
   "metadata": {
    "scrolled": true,
    "ExecuteTime": {
     "end_time": "2023-11-08T11:01:10.880950300Z",
     "start_time": "2023-11-08T11:01:10.820161300Z"
    }
   },
   "outputs": [],
   "source": [
    "pd_15hour_melted = pd.melt(pd_15hour_3species,var_name = \"y\",value_name = \"emission_value\")"
   ]
  },
  {
   "cell_type": "code",
   "execution_count": 9,
   "id": "629621a8",
   "metadata": {
    "ExecuteTime": {
     "end_time": "2023-11-08T11:01:11.024478800Z",
     "start_time": "2023-11-08T11:01:10.836056Z"
    }
   },
   "outputs": [],
   "source": [
    "pd_15hour_melted[\"x\"] = [i%672 for i in range(pd_15hour_melted.shape[0])]"
   ]
  },
  {
   "cell_type": "code",
   "execution_count": 10,
   "id": "b838bef3",
   "metadata": {
    "ExecuteTime": {
     "end_time": "2023-11-08T11:01:11.025457800Z",
     "start_time": "2023-11-08T11:01:10.949708100Z"
    }
   },
   "outputs": [
    {
     "data": {
      "text/plain": "          y  emission_value    x\n0         0             0.0    0\n1         0             0.0    1\n2         0             0.0    2\n3         0             0.0    3\n4         0             0.0    4\n...     ...             ...  ...\n451579  671             0.0  667\n451580  671             0.0  668\n451581  671             0.0  669\n451582  671             0.0  670\n451583  671             0.0  671\n\n[451584 rows x 3 columns]",
      "text/html": "<div>\n<style scoped>\n    .dataframe tbody tr th:only-of-type {\n        vertical-align: middle;\n    }\n\n    .dataframe tbody tr th {\n        vertical-align: top;\n    }\n\n    .dataframe thead th {\n        text-align: right;\n    }\n</style>\n<table border=\"1\" class=\"dataframe\">\n  <thead>\n    <tr style=\"text-align: right;\">\n      <th></th>\n      <th>y</th>\n      <th>emission_value</th>\n      <th>x</th>\n    </tr>\n  </thead>\n  <tbody>\n    <tr>\n      <th>0</th>\n      <td>0</td>\n      <td>0.0</td>\n      <td>0</td>\n    </tr>\n    <tr>\n      <th>1</th>\n      <td>0</td>\n      <td>0.0</td>\n      <td>1</td>\n    </tr>\n    <tr>\n      <th>2</th>\n      <td>0</td>\n      <td>0.0</td>\n      <td>2</td>\n    </tr>\n    <tr>\n      <th>3</th>\n      <td>0</td>\n      <td>0.0</td>\n      <td>3</td>\n    </tr>\n    <tr>\n      <th>4</th>\n      <td>0</td>\n      <td>0.0</td>\n      <td>4</td>\n    </tr>\n    <tr>\n      <th>...</th>\n      <td>...</td>\n      <td>...</td>\n      <td>...</td>\n    </tr>\n    <tr>\n      <th>451579</th>\n      <td>671</td>\n      <td>0.0</td>\n      <td>667</td>\n    </tr>\n    <tr>\n      <th>451580</th>\n      <td>671</td>\n      <td>0.0</td>\n      <td>668</td>\n    </tr>\n    <tr>\n      <th>451581</th>\n      <td>671</td>\n      <td>0.0</td>\n      <td>669</td>\n    </tr>\n    <tr>\n      <th>451582</th>\n      <td>671</td>\n      <td>0.0</td>\n      <td>670</td>\n    </tr>\n    <tr>\n      <th>451583</th>\n      <td>671</td>\n      <td>0.0</td>\n      <td>671</td>\n    </tr>\n  </tbody>\n</table>\n<p>451584 rows × 3 columns</p>\n</div>"
     },
     "execution_count": 10,
     "metadata": {},
     "output_type": "execute_result"
    }
   ],
   "source": [
    "pd_15hour_melted"
   ]
  },
  {
   "cell_type": "code",
   "execution_count": 11,
   "id": "8e3d7f3b",
   "metadata": {
    "ExecuteTime": {
     "end_time": "2023-11-08T11:01:11.027413900Z",
     "start_time": "2023-11-08T11:01:10.959637200Z"
    }
   },
   "outputs": [
    {
     "data": {
      "text/plain": "          x    y  emission_value\n0         0    0             0.0\n1         1    0             0.0\n2         2    0             0.0\n3         3    0             0.0\n4         4    0             0.0\n...     ...  ...             ...\n451579  667  671             0.0\n451580  668  671             0.0\n451581  669  671             0.0\n451582  670  671             0.0\n451583  671  671             0.0\n\n[451584 rows x 3 columns]",
      "text/html": "<div>\n<style scoped>\n    .dataframe tbody tr th:only-of-type {\n        vertical-align: middle;\n    }\n\n    .dataframe tbody tr th {\n        vertical-align: top;\n    }\n\n    .dataframe thead th {\n        text-align: right;\n    }\n</style>\n<table border=\"1\" class=\"dataframe\">\n  <thead>\n    <tr style=\"text-align: right;\">\n      <th></th>\n      <th>x</th>\n      <th>y</th>\n      <th>emission_value</th>\n    </tr>\n  </thead>\n  <tbody>\n    <tr>\n      <th>0</th>\n      <td>0</td>\n      <td>0</td>\n      <td>0.0</td>\n    </tr>\n    <tr>\n      <th>1</th>\n      <td>1</td>\n      <td>0</td>\n      <td>0.0</td>\n    </tr>\n    <tr>\n      <th>2</th>\n      <td>2</td>\n      <td>0</td>\n      <td>0.0</td>\n    </tr>\n    <tr>\n      <th>3</th>\n      <td>3</td>\n      <td>0</td>\n      <td>0.0</td>\n    </tr>\n    <tr>\n      <th>4</th>\n      <td>4</td>\n      <td>0</td>\n      <td>0.0</td>\n    </tr>\n    <tr>\n      <th>...</th>\n      <td>...</td>\n      <td>...</td>\n      <td>...</td>\n    </tr>\n    <tr>\n      <th>451579</th>\n      <td>667</td>\n      <td>671</td>\n      <td>0.0</td>\n    </tr>\n    <tr>\n      <th>451580</th>\n      <td>668</td>\n      <td>671</td>\n      <td>0.0</td>\n    </tr>\n    <tr>\n      <th>451581</th>\n      <td>669</td>\n      <td>671</td>\n      <td>0.0</td>\n    </tr>\n    <tr>\n      <th>451582</th>\n      <td>670</td>\n      <td>671</td>\n      <td>0.0</td>\n    </tr>\n    <tr>\n      <th>451583</th>\n      <td>671</td>\n      <td>671</td>\n      <td>0.0</td>\n    </tr>\n  </tbody>\n</table>\n<p>451584 rows × 3 columns</p>\n</div>"
     },
     "execution_count": 11,
     "metadata": {},
     "output_type": "execute_result"
    }
   ],
   "source": [
    "new_cols_order = [\"x\",\"y\",\"emission_value\"]\n",
    "pd_15hour_melted = pd_15hour_melted[new_cols_order]\n",
    "pd_15hour_melted"
   ]
  },
  {
   "cell_type": "markdown",
   "id": "34d9ef2c",
   "metadata": {},
   "source": [
    "### DF concatenation"
   ]
  },
  {
   "cell_type": "code",
   "execution_count": 12,
   "outputs": [
    {
     "data": {
      "text/plain": "(300, 300)"
     },
     "execution_count": 12,
     "metadata": {},
     "output_type": "execute_result"
    }
   ],
   "source": [
    "testx = [i for i in range(0,300,1)]\n",
    "testy = [i for i in range(100,400,1)]\n",
    "test = pd.DataFrame(ds[\"emission_values\"][0,0,testy,testx,1].data)\n",
    "test.index = testy\n",
    "test.columns = testx\n",
    "test.shape"
   ],
   "metadata": {
    "collapsed": false,
    "ExecuteTime": {
     "end_time": "2023-11-08T11:01:11.028391Z",
     "start_time": "2023-11-08T11:01:10.982832200Z"
    }
   },
   "id": "758fbeb84dc9c2bc"
  },
  {
   "cell_type": "code",
   "execution_count": 13,
   "id": "6ac35aa7",
   "metadata": {
    "ExecuteTime": {
     "end_time": "2023-11-08T11:01:15.541238800Z",
     "start_time": "2023-11-08T11:01:11.049467700Z"
    }
   },
   "outputs": [],
   "source": [
    "result_nspecies = pd.DataFrame()\n",
    "xrange = [i for i in range(100,250,1)] # Subsetting specific grid part\n",
    "yrange = [i for i in range(200,350,1)] # Subsetting specific grid part\n",
    "for i in range(48):\n",
    "    pd_ihour_nspecies = pd.DataFrame(ds[\"emission_values\"][i,0,yrange,xrange,0].data) #[hour,z,y,x,species]\n",
    "    pd_ihour_nspecies.index = yrange\n",
    "    pd_ihour_nspecies.columns = xrange\n",
    "    pd_ihour_nspecies = pd.melt(pd_ihour_nspecies,var_name = \"x\",value_name = \"emission_value\")\n",
    "    pd_ihour_nspecies[\"y\"] = [i%len(yrange)+yrange[0] for i in range(pd_ihour_nspecies.shape[0])]\n",
    "    pd_ihour_nspecies[\"hour\"] = i\n",
    "    #pd_ihour_nspecies = pd_ihour_nspecies.sort_values([\"x\",\"y\"])\n",
    "    #buildings = buildings.sort_values([\"x\",\"y\"])\n",
    "    #pd_ihour_nspecies[\"building_height\"] = buildings[\"building_height\"]\n",
    "    pd_ihour_nspecies=pd.merge(pd_ihour_nspecies,buildings, how= \"inner\",on = [\"x\",\"y\"])\n",
    "    result_nspecies= pd.concat([result_nspecies,pd_ihour_nspecies])\n"
   ]
  },
  {
   "cell_type": "code",
   "execution_count": 14,
   "outputs": [
    {
     "data": {
      "text/plain": "         x    y  hour  building_height  emission_value\n0      100  200     0              0.0             0.0\n1      100  201     0              0.0             0.0\n2      100  202     0              0.0             0.0\n3      100  203     0              0.0             0.0\n4      100  204     0              0.0             0.0\n...    ...  ...   ...              ...             ...\n22495  249  345    47              0.0             0.0\n22496  249  346    47              0.0             0.0\n22497  249  347    47              0.0             0.0\n22498  249  348    47              0.0             0.0\n22499  249  349    47              0.0             0.0\n\n[1080000 rows x 5 columns]",
      "text/html": "<div>\n<style scoped>\n    .dataframe tbody tr th:only-of-type {\n        vertical-align: middle;\n    }\n\n    .dataframe tbody tr th {\n        vertical-align: top;\n    }\n\n    .dataframe thead th {\n        text-align: right;\n    }\n</style>\n<table border=\"1\" class=\"dataframe\">\n  <thead>\n    <tr style=\"text-align: right;\">\n      <th></th>\n      <th>x</th>\n      <th>y</th>\n      <th>hour</th>\n      <th>building_height</th>\n      <th>emission_value</th>\n    </tr>\n  </thead>\n  <tbody>\n    <tr>\n      <th>0</th>\n      <td>100</td>\n      <td>200</td>\n      <td>0</td>\n      <td>0.0</td>\n      <td>0.0</td>\n    </tr>\n    <tr>\n      <th>1</th>\n      <td>100</td>\n      <td>201</td>\n      <td>0</td>\n      <td>0.0</td>\n      <td>0.0</td>\n    </tr>\n    <tr>\n      <th>2</th>\n      <td>100</td>\n      <td>202</td>\n      <td>0</td>\n      <td>0.0</td>\n      <td>0.0</td>\n    </tr>\n    <tr>\n      <th>3</th>\n      <td>100</td>\n      <td>203</td>\n      <td>0</td>\n      <td>0.0</td>\n      <td>0.0</td>\n    </tr>\n    <tr>\n      <th>4</th>\n      <td>100</td>\n      <td>204</td>\n      <td>0</td>\n      <td>0.0</td>\n      <td>0.0</td>\n    </tr>\n    <tr>\n      <th>...</th>\n      <td>...</td>\n      <td>...</td>\n      <td>...</td>\n      <td>...</td>\n      <td>...</td>\n    </tr>\n    <tr>\n      <th>22495</th>\n      <td>249</td>\n      <td>345</td>\n      <td>47</td>\n      <td>0.0</td>\n      <td>0.0</td>\n    </tr>\n    <tr>\n      <th>22496</th>\n      <td>249</td>\n      <td>346</td>\n      <td>47</td>\n      <td>0.0</td>\n      <td>0.0</td>\n    </tr>\n    <tr>\n      <th>22497</th>\n      <td>249</td>\n      <td>347</td>\n      <td>47</td>\n      <td>0.0</td>\n      <td>0.0</td>\n    </tr>\n    <tr>\n      <th>22498</th>\n      <td>249</td>\n      <td>348</td>\n      <td>47</td>\n      <td>0.0</td>\n      <td>0.0</td>\n    </tr>\n    <tr>\n      <th>22499</th>\n      <td>249</td>\n      <td>349</td>\n      <td>47</td>\n      <td>0.0</td>\n      <td>0.0</td>\n    </tr>\n  </tbody>\n</table>\n<p>1080000 rows × 5 columns</p>\n</div>"
     },
     "execution_count": 14,
     "metadata": {},
     "output_type": "execute_result"
    }
   ],
   "source": [
    "#result_nspecies[\"building_height\"] = buildings.loc[(buildings[\"x\"]<50) & (buildings[\"y\"]<50)][\"building_height\"]\n",
    "new_cols_order = [\"x\",\"y\",\"hour\",\"building_height\",\"emission_value\"]\n",
    "result_nspecies= result_nspecies[new_cols_order]\n",
    "result_nspecies"
   ],
   "metadata": {
    "collapsed": false,
    "ExecuteTime": {
     "end_time": "2023-11-08T11:01:15.791566600Z",
     "start_time": "2023-11-08T11:01:15.746368600Z"
    }
   },
   "id": "f361b7266bb19522"
  },
  {
   "cell_type": "code",
   "execution_count": 25,
   "outputs": [
    {
     "data": {
      "text/plain": "        x    y  hour  emission_value\n6795  145  245     0        0.010485\n6795  145  245     1        0.009814\n6795  145  245     2        0.009888\n6795  145  245     3        0.015903\n6795  145  245     4        0.014886\n6795  145  245     5        0.011034\n6795  145  245     6        0.010920\n6795  145  245     7        0.011924\n6795  145  245     8        0.011256\n6795  145  245     9        0.011479\n6795  145  245    10        0.011397\n6795  145  245    11        0.011926\n6795  145  245    12        0.011663\n6795  145  245    13        0.012079\n6795  145  245    14        0.012155\n6795  145  245    15        0.014315\n6795  145  245    16        0.016685\n6795  145  245    17        0.019157\n6795  145  245    18        0.023375\n6795  145  245    19        0.023619\n6795  145  245    20        0.028136\n6795  145  245    21        0.030332\n6795  145  245    22        0.027109\n6795  145  245    23        0.025185\n6795  145  245    24        0.025681\n6795  145  245    25        0.025187\n6795  145  245    26        0.026513\n6795  145  245    27        0.036122\n6795  145  245    28        0.036803\n6795  145  245    29        0.030031\n6795  145  245    30        0.027914\n6795  145  245    31        0.023702\n6795  145  245    32        0.017996\n6795  145  245    33        0.017039\n6795  145  245    34        0.016721\n6795  145  245    35        0.016824\n6795  145  245    36        0.015744\n6795  145  245    37        0.015393\n6795  145  245    38        0.013221\n6795  145  245    39        0.012952\n6795  145  245    40        0.013286\n6795  145  245    41        0.014375\n6795  145  245    42        0.015083\n6795  145  245    43        0.015088\n6795  145  245    44        0.021483\n6795  145  245    45        0.027386\n6795  145  245    46        0.021147\n6795  145  245    47        0.017160",
      "text/html": "<div>\n<style scoped>\n    .dataframe tbody tr th:only-of-type {\n        vertical-align: middle;\n    }\n\n    .dataframe tbody tr th {\n        vertical-align: top;\n    }\n\n    .dataframe thead th {\n        text-align: right;\n    }\n</style>\n<table border=\"1\" class=\"dataframe\">\n  <thead>\n    <tr style=\"text-align: right;\">\n      <th></th>\n      <th>x</th>\n      <th>y</th>\n      <th>hour</th>\n      <th>emission_value</th>\n    </tr>\n  </thead>\n  <tbody>\n    <tr>\n      <th>6795</th>\n      <td>145</td>\n      <td>245</td>\n      <td>0</td>\n      <td>0.010485</td>\n    </tr>\n    <tr>\n      <th>6795</th>\n      <td>145</td>\n      <td>245</td>\n      <td>1</td>\n      <td>0.009814</td>\n    </tr>\n    <tr>\n      <th>6795</th>\n      <td>145</td>\n      <td>245</td>\n      <td>2</td>\n      <td>0.009888</td>\n    </tr>\n    <tr>\n      <th>6795</th>\n      <td>145</td>\n      <td>245</td>\n      <td>3</td>\n      <td>0.015903</td>\n    </tr>\n    <tr>\n      <th>6795</th>\n      <td>145</td>\n      <td>245</td>\n      <td>4</td>\n      <td>0.014886</td>\n    </tr>\n    <tr>\n      <th>6795</th>\n      <td>145</td>\n      <td>245</td>\n      <td>5</td>\n      <td>0.011034</td>\n    </tr>\n    <tr>\n      <th>6795</th>\n      <td>145</td>\n      <td>245</td>\n      <td>6</td>\n      <td>0.010920</td>\n    </tr>\n    <tr>\n      <th>6795</th>\n      <td>145</td>\n      <td>245</td>\n      <td>7</td>\n      <td>0.011924</td>\n    </tr>\n    <tr>\n      <th>6795</th>\n      <td>145</td>\n      <td>245</td>\n      <td>8</td>\n      <td>0.011256</td>\n    </tr>\n    <tr>\n      <th>6795</th>\n      <td>145</td>\n      <td>245</td>\n      <td>9</td>\n      <td>0.011479</td>\n    </tr>\n    <tr>\n      <th>6795</th>\n      <td>145</td>\n      <td>245</td>\n      <td>10</td>\n      <td>0.011397</td>\n    </tr>\n    <tr>\n      <th>6795</th>\n      <td>145</td>\n      <td>245</td>\n      <td>11</td>\n      <td>0.011926</td>\n    </tr>\n    <tr>\n      <th>6795</th>\n      <td>145</td>\n      <td>245</td>\n      <td>12</td>\n      <td>0.011663</td>\n    </tr>\n    <tr>\n      <th>6795</th>\n      <td>145</td>\n      <td>245</td>\n      <td>13</td>\n      <td>0.012079</td>\n    </tr>\n    <tr>\n      <th>6795</th>\n      <td>145</td>\n      <td>245</td>\n      <td>14</td>\n      <td>0.012155</td>\n    </tr>\n    <tr>\n      <th>6795</th>\n      <td>145</td>\n      <td>245</td>\n      <td>15</td>\n      <td>0.014315</td>\n    </tr>\n    <tr>\n      <th>6795</th>\n      <td>145</td>\n      <td>245</td>\n      <td>16</td>\n      <td>0.016685</td>\n    </tr>\n    <tr>\n      <th>6795</th>\n      <td>145</td>\n      <td>245</td>\n      <td>17</td>\n      <td>0.019157</td>\n    </tr>\n    <tr>\n      <th>6795</th>\n      <td>145</td>\n      <td>245</td>\n      <td>18</td>\n      <td>0.023375</td>\n    </tr>\n    <tr>\n      <th>6795</th>\n      <td>145</td>\n      <td>245</td>\n      <td>19</td>\n      <td>0.023619</td>\n    </tr>\n    <tr>\n      <th>6795</th>\n      <td>145</td>\n      <td>245</td>\n      <td>20</td>\n      <td>0.028136</td>\n    </tr>\n    <tr>\n      <th>6795</th>\n      <td>145</td>\n      <td>245</td>\n      <td>21</td>\n      <td>0.030332</td>\n    </tr>\n    <tr>\n      <th>6795</th>\n      <td>145</td>\n      <td>245</td>\n      <td>22</td>\n      <td>0.027109</td>\n    </tr>\n    <tr>\n      <th>6795</th>\n      <td>145</td>\n      <td>245</td>\n      <td>23</td>\n      <td>0.025185</td>\n    </tr>\n    <tr>\n      <th>6795</th>\n      <td>145</td>\n      <td>245</td>\n      <td>24</td>\n      <td>0.025681</td>\n    </tr>\n    <tr>\n      <th>6795</th>\n      <td>145</td>\n      <td>245</td>\n      <td>25</td>\n      <td>0.025187</td>\n    </tr>\n    <tr>\n      <th>6795</th>\n      <td>145</td>\n      <td>245</td>\n      <td>26</td>\n      <td>0.026513</td>\n    </tr>\n    <tr>\n      <th>6795</th>\n      <td>145</td>\n      <td>245</td>\n      <td>27</td>\n      <td>0.036122</td>\n    </tr>\n    <tr>\n      <th>6795</th>\n      <td>145</td>\n      <td>245</td>\n      <td>28</td>\n      <td>0.036803</td>\n    </tr>\n    <tr>\n      <th>6795</th>\n      <td>145</td>\n      <td>245</td>\n      <td>29</td>\n      <td>0.030031</td>\n    </tr>\n    <tr>\n      <th>6795</th>\n      <td>145</td>\n      <td>245</td>\n      <td>30</td>\n      <td>0.027914</td>\n    </tr>\n    <tr>\n      <th>6795</th>\n      <td>145</td>\n      <td>245</td>\n      <td>31</td>\n      <td>0.023702</td>\n    </tr>\n    <tr>\n      <th>6795</th>\n      <td>145</td>\n      <td>245</td>\n      <td>32</td>\n      <td>0.017996</td>\n    </tr>\n    <tr>\n      <th>6795</th>\n      <td>145</td>\n      <td>245</td>\n      <td>33</td>\n      <td>0.017039</td>\n    </tr>\n    <tr>\n      <th>6795</th>\n      <td>145</td>\n      <td>245</td>\n      <td>34</td>\n      <td>0.016721</td>\n    </tr>\n    <tr>\n      <th>6795</th>\n      <td>145</td>\n      <td>245</td>\n      <td>35</td>\n      <td>0.016824</td>\n    </tr>\n    <tr>\n      <th>6795</th>\n      <td>145</td>\n      <td>245</td>\n      <td>36</td>\n      <td>0.015744</td>\n    </tr>\n    <tr>\n      <th>6795</th>\n      <td>145</td>\n      <td>245</td>\n      <td>37</td>\n      <td>0.015393</td>\n    </tr>\n    <tr>\n      <th>6795</th>\n      <td>145</td>\n      <td>245</td>\n      <td>38</td>\n      <td>0.013221</td>\n    </tr>\n    <tr>\n      <th>6795</th>\n      <td>145</td>\n      <td>245</td>\n      <td>39</td>\n      <td>0.012952</td>\n    </tr>\n    <tr>\n      <th>6795</th>\n      <td>145</td>\n      <td>245</td>\n      <td>40</td>\n      <td>0.013286</td>\n    </tr>\n    <tr>\n      <th>6795</th>\n      <td>145</td>\n      <td>245</td>\n      <td>41</td>\n      <td>0.014375</td>\n    </tr>\n    <tr>\n      <th>6795</th>\n      <td>145</td>\n      <td>245</td>\n      <td>42</td>\n      <td>0.015083</td>\n    </tr>\n    <tr>\n      <th>6795</th>\n      <td>145</td>\n      <td>245</td>\n      <td>43</td>\n      <td>0.015088</td>\n    </tr>\n    <tr>\n      <th>6795</th>\n      <td>145</td>\n      <td>245</td>\n      <td>44</td>\n      <td>0.021483</td>\n    </tr>\n    <tr>\n      <th>6795</th>\n      <td>145</td>\n      <td>245</td>\n      <td>45</td>\n      <td>0.027386</td>\n    </tr>\n    <tr>\n      <th>6795</th>\n      <td>145</td>\n      <td>245</td>\n      <td>46</td>\n      <td>0.021147</td>\n    </tr>\n    <tr>\n      <th>6795</th>\n      <td>145</td>\n      <td>245</td>\n      <td>47</td>\n      <td>0.017160</td>\n    </tr>\n  </tbody>\n</table>\n</div>"
     },
     "execution_count": 25,
     "metadata": {},
     "output_type": "execute_result"
    }
   ],
   "source": [
    "result_1species_output.loc[(( result_nspecies[\"x\"] == 145) & (result_nspecies[\"y\"] == 245))]"
   ],
   "metadata": {
    "collapsed": false,
    "ExecuteTime": {
     "end_time": "2023-11-08T11:04:23.950584200Z",
     "start_time": "2023-11-08T11:04:23.922576100Z"
    }
   },
   "id": "10a3bf411336c3b1"
  },
  {
   "cell_type": "markdown",
   "id": "6bf7d67a",
   "metadata": {},
   "source": [
    "# PALM Output files"
   ]
  },
  {
   "cell_type": "markdown",
   "id": "2f7fecc7",
   "metadata": {},
   "source": [
    "### Download"
   ]
  },
  {
   "cell_type": "code",
   "execution_count": 15,
   "id": "bcfd8f5c",
   "metadata": {
    "ExecuteTime": {
     "end_time": "2023-11-08T11:01:15.897414200Z",
     "start_time": "2023-11-08T11:01:15.790267600Z"
    }
   },
   "outputs": [],
   "source": [
    "output_emissions_no2_0 = nc.Dataset(\"../data/photoshade_6km10m_lod2_av_masked_M01.000.nc\")\n",
    "output_emissions_no2_1 = nc.Dataset(\"../data/photoshade_6km10m_lod2_av_masked_M01.001.nc\")\n",
    "output_emissions_no2_2 = nc.Dataset(\"../data/photoshade_6km10m_lod2_av_masked_M01.002.nc\")\n",
    "output_emissions_no2_3 = nc.Dataset(\"../data/photoshade_6km10m_lod2_av_masked_M01.003.nc\")\n",
    "output_emissions_no2_4 = nc.Dataset(\"../data/photoshade_6km10m_lod2_av_masked_M01.004.nc\")\n",
    "\n",
    "output_emissions_no2_list = [output_emissions_no2_0,\n",
    "                             output_emissions_no2_1,\n",
    "                             output_emissions_no2_2,\n",
    "                             output_emissions_no2_3,\n",
    "                             output_emissions_no2_4,]"
   ]
  },
  {
   "cell_type": "code",
   "execution_count": 16,
   "outputs": [
    {
     "data": {
      "text/plain": "<class 'netCDF4._netCDF4.Dataset'>\nroot group (NETCDF4 data model, file format HDF5):\n    title: PALM 21.10  run: photoshade_6km10m_lod2.00  host: basit  2022-06-17 16:48:38\n    Conventions: CF-1.7\n    creation_time: 2022-06-17 16:48:38 +02\n    data_content: podsmasked\n    version: 1\n    origin_time: 2017-07-17 00:00:00 +00\n    origin_lat: 52.48975372314453\n    origin_lon: 13.273119926452637\n    origin_x: 382751.5\n    origin_y: 5816914.0\n    origin_z: 25.382944107055664\n    rotation_angle: 0.0\n    dependencies: \n    history: \n    author: Basit Khan, basit.khan@kit.edu\n    contact_person: \n    institution: Karlsruher Institute of Technology, IMK-IFU, Alpin Campus, GaPa\n    acronym: KIT/IMK-IFU\n    campaign: summer iop02\n    location: Berlin\n    site: Berlin Mitte\n    source: PALM 21.10\n    references: text\n    keywords: text\n    licence: \n    comment: created with palm_csd\n    time_avg:  3600.0 s avg\n    VAR_LIST: ;kc_NO;kc_NO2;kc_O3;kc_PM10;\n    dimensions(sizes): time(3), ku_above_surf(8), kw_above_surf(8), x(672), xu(672), y(672), yv(672), zs_3d(8)\n    variables(dimensions): float64 time(time), float64 ku_above_surf(ku_above_surf), float64 kw_above_surf(kw_above_surf), float64 x(x), float64 xu(xu), float64 y(y), float64 yv(yv), float64 E_UTM(x), float64 N_UTM(y), float64 Eu_UTM(xu), float64 Nu_UTM(y), float64 Ev_UTM(x), float64 Nv_UTM(yv), float64 lon(y, x), float64 lat(y, x), float64 lonu(y, xu), float64 latu(y, xu), float64 lonv(yv, x), float64 latv(yv, x), int32 crs(), float64 zs_3d(zs_3d), float32 kc_NO(time, ku_above_surf, y, x), float32 kc_NO2(time, ku_above_surf, y, x), float32 kc_O3(time, ku_above_surf, y, x), float32 kc_PM10(time, ku_above_surf, y, x)\n    groups: "
     },
     "execution_count": 16,
     "metadata": {},
     "output_type": "execute_result"
    }
   ],
   "source": [
    "output_emissions_no2_0"
   ],
   "metadata": {
    "collapsed": false,
    "ExecuteTime": {
     "end_time": "2023-11-08T11:01:15.897918Z",
     "start_time": "2023-11-08T11:01:15.858382700Z"
    }
   },
   "id": "251328065938338e"
  },
  {
   "cell_type": "markdown",
   "source": [
    "### Need to reformat to match input emissions grid dataframe"
   ],
   "metadata": {
    "collapsed": false
   },
   "id": "5c272ced5a63176f"
  },
  {
   "cell_type": "code",
   "execution_count": 17,
   "outputs": [],
   "source": [
    "result_1species_output = pd.DataFrame()\n",
    "xrange = [i for i in range(100,250,1)] # Subsetting specific grid part\n",
    "yrange = [i for i in range(200,350,1)] # Subsetting specific grid part\n",
    "pollutant = \"kc_NO2\"\n",
    "for output_table in output_emissions_no2_list:\n",
    "    timebins = (output_table[\"time\"][:].data/3600).astype(int) # getting hours array (after conversion from seconds to hours)\n",
    "    for i in range(len(timebins)):\n",
    "        pd_ihour_1species = pd.DataFrame(output_table[pollutant][i,0,yrange,xrange].data)#(netcdf format [hour,y,x])\n",
    "        pd_ihour_1species.index = yrange\n",
    "        pd_ihour_1species.columns = xrange\n",
    "        pd_ihour_1species = pd.melt(pd_ihour_1species,var_name = \"x\",value_name = \"emission_value\")\n",
    "        pd_ihour_1species[\"y\"] = [i%len(yrange)+yrange[0] for i in range(pd_ihour_nspecies.shape[0])]\n",
    "        pd_ihour_1species[\"hour\"] = timebins[i]-1\n",
    "        result_1species_output= pd.concat([result_1species_output,pd_ihour_1species])"
   ],
   "metadata": {
    "collapsed": false,
    "ExecuteTime": {
     "end_time": "2023-11-08T11:01:17.200Z",
     "start_time": "2023-11-08T11:01:15.865795400Z"
    }
   },
   "id": "1710592c0c27c045"
  },
  {
   "cell_type": "code",
   "execution_count": 18,
   "outputs": [
    {
     "data": {
      "text/plain": "         x    y  hour  emission_value\n0      100  200     0        0.010562\n1      100  201     0        0.010540\n2      100  202     0        0.010534\n3      100  203     0        0.010544\n4      100  204     0        0.010544\n...    ...  ...   ...             ...\n22495  249  345    47        0.018223\n22496  249  346    47        0.018224\n22497  249  347    47        0.018220\n22498  249  348    47        0.018217\n22499  249  349    47        0.018218\n\n[1080000 rows x 4 columns]",
      "text/html": "<div>\n<style scoped>\n    .dataframe tbody tr th:only-of-type {\n        vertical-align: middle;\n    }\n\n    .dataframe tbody tr th {\n        vertical-align: top;\n    }\n\n    .dataframe thead th {\n        text-align: right;\n    }\n</style>\n<table border=\"1\" class=\"dataframe\">\n  <thead>\n    <tr style=\"text-align: right;\">\n      <th></th>\n      <th>x</th>\n      <th>y</th>\n      <th>hour</th>\n      <th>emission_value</th>\n    </tr>\n  </thead>\n  <tbody>\n    <tr>\n      <th>0</th>\n      <td>100</td>\n      <td>200</td>\n      <td>0</td>\n      <td>0.010562</td>\n    </tr>\n    <tr>\n      <th>1</th>\n      <td>100</td>\n      <td>201</td>\n      <td>0</td>\n      <td>0.010540</td>\n    </tr>\n    <tr>\n      <th>2</th>\n      <td>100</td>\n      <td>202</td>\n      <td>0</td>\n      <td>0.010534</td>\n    </tr>\n    <tr>\n      <th>3</th>\n      <td>100</td>\n      <td>203</td>\n      <td>0</td>\n      <td>0.010544</td>\n    </tr>\n    <tr>\n      <th>4</th>\n      <td>100</td>\n      <td>204</td>\n      <td>0</td>\n      <td>0.010544</td>\n    </tr>\n    <tr>\n      <th>...</th>\n      <td>...</td>\n      <td>...</td>\n      <td>...</td>\n      <td>...</td>\n    </tr>\n    <tr>\n      <th>22495</th>\n      <td>249</td>\n      <td>345</td>\n      <td>47</td>\n      <td>0.018223</td>\n    </tr>\n    <tr>\n      <th>22496</th>\n      <td>249</td>\n      <td>346</td>\n      <td>47</td>\n      <td>0.018224</td>\n    </tr>\n    <tr>\n      <th>22497</th>\n      <td>249</td>\n      <td>347</td>\n      <td>47</td>\n      <td>0.018220</td>\n    </tr>\n    <tr>\n      <th>22498</th>\n      <td>249</td>\n      <td>348</td>\n      <td>47</td>\n      <td>0.018217</td>\n    </tr>\n    <tr>\n      <th>22499</th>\n      <td>249</td>\n      <td>349</td>\n      <td>47</td>\n      <td>0.018218</td>\n    </tr>\n  </tbody>\n</table>\n<p>1080000 rows × 4 columns</p>\n</div>"
     },
     "execution_count": 18,
     "metadata": {},
     "output_type": "execute_result"
    }
   ],
   "source": [
    "result_1species_output.replace(-9999,0,inplace=True) # because strange values where there are no pollutants\n",
    "result_1species_output = result_1species_output[[\"x\",\"y\",\"hour\",\"emission_value\"]]\n",
    "result_1species_output"
   ],
   "metadata": {
    "collapsed": false,
    "ExecuteTime": {
     "end_time": "2023-11-08T11:01:17.261690200Z",
     "start_time": "2023-11-08T11:01:17.199019400Z"
    }
   },
   "id": "d01b3d9dc96c0395"
  },
  {
   "cell_type": "markdown",
   "id": "50135bef",
   "metadata": {},
   "source": [
    "# Plot pollution distribution"
   ]
  },
  {
   "cell_type": "code",
   "execution_count": 19,
   "outputs": [],
   "source": [
    "def make_heatmap_from_pd(result_dataframe,hour,target_name = \"emission_value\"):\n",
    "    result_1specieshour = result_dataframe.loc[result_dataframe[\"hour\"] == hour]\n",
    "    result_1specieshour = result_1specieshour[[\"x\",\"y\",target_name]]\n",
    "    x = result_1specieshour[\"x\"].max() - result_1specieshour[\"x\"].min() + 1\n",
    "    y = result_1specieshour[\"y\"].max() - result_1specieshour[\"y\"].min() + 1\n",
    "    v = result_1specieshour[target_name].to_numpy().reshape((x, y))\n",
    "    indices = result_1specieshour[[\"x\", 'y']].to_numpy().T\n",
    "    indices[0] = indices[0] - indices[0].min()\n",
    "    indices[1] = indices[1] - indices[1].min()\n",
    "\n",
    "    v = np.tile(np.nan, indices.max(axis=1)+1)\n",
    "    v[tuple(indices)] = result_1specieshour[target_name]\n",
    "    ax = sns.heatmap(v)\n",
    "    plt.show()"
   ],
   "metadata": {
    "collapsed": false,
    "ExecuteTime": {
     "end_time": "2023-11-08T11:01:17.368757100Z",
     "start_time": "2023-11-08T11:01:17.304703200Z"
    }
   },
   "id": "127961f7b4aac7c"
  },
  {
   "cell_type": "code",
   "execution_count": 20,
   "outputs": [
    {
     "data": {
      "text/plain": "<Figure size 432x288 with 2 Axes>",
      "image/png": "[encoded data removed]"
     },
     "metadata": {
      "needs_background": "light"
     },
     "output_type": "display_data"
    },
    {
     "data": {
      "text/plain": "<Figure size 432x288 with 2 Axes>",
      "image/png": "[encoded data removed]"
     },
     "metadata": {
      "needs_background": "light"
     },
     "output_type": "display_data"
    }
   ],
   "source": [
    "#plotting\n",
    "hour = 28\n",
    "plt.subplot(2,1,1)\n",
    "make_heatmap_from_pd(result_nspecies,hour)\n",
    "plt.subplot(2,1,2)\n",
    "make_heatmap_from_pd(result_1species_output,hour)"
   ],
   "metadata": {
    "collapsed": false,
    "ExecuteTime": {
     "end_time": "2023-11-08T11:01:19.338729800Z",
     "start_time": "2023-11-08T11:01:18.583547600Z"
    }
   },
   "id": "ab4458c6744ec91b"
  },
  {
   "cell_type": "code",
   "execution_count": 23,
   "outputs": [
    {
     "data": {
      "text/plain": "                 x            y    hour  emission_value\ncount  9577.000000  9577.000000  9577.0     9577.000000\nmean    173.024434   279.858724     4.0        0.015161\nstd      43.364853    47.457746     0.0        0.004913\nmin     100.000000   200.000000     4.0        0.010854\n25%     135.000000   234.000000     4.0        0.012344\n50%     171.000000   281.000000     4.0        0.013211\n75%     209.000000   326.000000     4.0        0.015498\nmax     249.000000   349.000000     4.0        0.040637",
      "text/html": "<div>\n<style scoped>\n    .dataframe tbody tr th:only-of-type {\n        vertical-align: middle;\n    }\n\n    .dataframe tbody tr th {\n        vertical-align: top;\n    }\n\n    .dataframe thead th {\n        text-align: right;\n    }\n</style>\n<table border=\"1\" class=\"dataframe\">\n  <thead>\n    <tr style=\"text-align: right;\">\n      <th></th>\n      <th>x</th>\n      <th>y</th>\n      <th>hour</th>\n      <th>emission_value</th>\n    </tr>\n  </thead>\n  <tbody>\n    <tr>\n      <th>count</th>\n      <td>9577.000000</td>\n      <td>9577.000000</td>\n      <td>9577.0</td>\n      <td>9577.000000</td>\n    </tr>\n    <tr>\n      <th>mean</th>\n      <td>173.024434</td>\n      <td>279.858724</td>\n      <td>4.0</td>\n      <td>0.015161</td>\n    </tr>\n    <tr>\n      <th>std</th>\n      <td>43.364853</td>\n      <td>47.457746</td>\n      <td>0.0</td>\n      <td>0.004913</td>\n    </tr>\n    <tr>\n      <th>min</th>\n      <td>100.000000</td>\n      <td>200.000000</td>\n      <td>4.0</td>\n      <td>0.010854</td>\n    </tr>\n    <tr>\n      <th>25%</th>\n      <td>135.000000</td>\n      <td>234.000000</td>\n      <td>4.0</td>\n      <td>0.012344</td>\n    </tr>\n    <tr>\n      <th>50%</th>\n      <td>171.000000</td>\n      <td>281.000000</td>\n      <td>4.0</td>\n      <td>0.013211</td>\n    </tr>\n    <tr>\n      <th>75%</th>\n      <td>209.000000</td>\n      <td>326.000000</td>\n      <td>4.0</td>\n      <td>0.015498</td>\n    </tr>\n    <tr>\n      <th>max</th>\n      <td>249.000000</td>\n      <td>349.000000</td>\n      <td>4.0</td>\n      <td>0.040637</td>\n    </tr>\n  </tbody>\n</table>\n</div>"
     },
     "execution_count": 23,
     "metadata": {},
     "output_type": "execute_result"
    }
   ],
   "source": [
    "result_1species_output.loc[(result_1species_output[\"emission_value\"]!=0) & (result_1species_output[\"hour\"]==4)].describe()"
   ],
   "metadata": {
    "collapsed": false,
    "ExecuteTime": {
     "end_time": "2023-11-03T10:07:14.899296300Z",
     "start_time": "2023-11-03T10:07:14.864908100Z"
    }
   },
   "id": "ade2dd66d6031ff3"
  },
  {
   "cell_type": "code",
   "execution_count": 81,
   "outputs": [
    {
     "data": {
      "text/plain": "<Figure size 432x288 with 2 Axes>",
      "image/png": "[encoded data removed]"
     },
     "metadata": {
      "needs_background": "light"
     },
     "output_type": "display_data"
    }
   ],
   "source": [
    "b_height = ds_static[\"buildings_2d\"][:50,:50].data\n",
    "b_height[b_height == -9999] = 0\n",
    "ax = sns.heatmap(b_height)\n",
    "plt.show()"
   ],
   "metadata": {
    "collapsed": false,
    "ExecuteTime": {
     "end_time": "2023-11-01T11:05:30.745194100Z",
     "start_time": "2023-11-01T11:05:30.298664Z"
    }
   },
   "id": "bfdd3e67daae3a05"
  },
  {
   "cell_type": "code",
   "execution_count": 249,
   "outputs": [
    {
     "data": {
      "text/plain": "<Figure size 432x288 with 2 Axes>",
      "image/png": "[encoded data removed]"
     },
     "metadata": {
      "needs_background": "light"
     },
     "output_type": "display_data"
    }
   ],
   "source": [
    "make_heatmap_from_pd(result_nspecies,hour,target_name=\"building_height\")"
   ],
   "metadata": {
    "collapsed": false,
    "ExecuteTime": {
     "end_time": "2023-11-01T12:17:03.704546800Z",
     "start_time": "2023-11-01T12:17:03.405163100Z"
    }
   },
   "id": "c031c82a1a1f5cdf"
  },
  {
   "cell_type": "code",
   "execution_count": 172,
   "outputs": [
    {
     "data": {
      "text/plain": "<Figure size 432x288 with 2 Axes>",
      "image/png": "[encoded data removed]"
     },
     "metadata": {
      "needs_background": "light"
     },
     "output_type": "display_data"
    },
    {
     "data": {
      "text/plain": "<Figure size 432x288 with 2 Axes>",
      "image/png": "[encoded data removed]"
     },
     "metadata": {
      "needs_background": "light"
     },
     "output_type": "display_data"
    }
   ],
   "source": [
    "#Plot ranges\n",
    "xrange = [i for i in range(0,50,1)]\n",
    "yrange = [i for i in range(0,50,1)]\n",
    "#Data preparing\n",
    "in_data = ds[\"emission_values\"][26,0,yrange,xrange,1].data          #[hour,z,y,x,nspecies]\n",
    "out_data = pd.DataFrame(output_emissions_no2_3[\"kc_NO\"][0,0,yrange,xrange].data) #[hour,ku_surf_above,y,x]\n",
    "out_data[out_data ==-9999] = 0\n",
    "#plotting\n",
    "plt.subplot(2,1,1)\n",
    "ax = sns.heatmap(in_data)\n",
    "plt.show()\n",
    "plt.subplot(2,1,2)\n",
    "ax = sns.heatmap(out_data)\n",
    "plt.show()"
   ],
   "metadata": {
    "collapsed": false,
    "ExecuteTime": {
     "end_time": "2023-10-04T13:30:48.528298600Z",
     "start_time": "2023-10-04T13:30:47.865209800Z"
    }
   },
   "id": "3af25125"
  },
  {
   "cell_type": "markdown",
   "source": [
    "# Outputing relevant information in csvs"
   ],
   "metadata": {
    "collapsed": false
   },
   "id": "3d852c1e516e5e07"
  },
  {
   "cell_type": "code",
   "execution_count": 287,
   "outputs": [
    {
     "data": {
      "text/plain": "      x    y  hour  building_height  emission_value  nbr  nbl  nbu  nbd\n0   100  200     0              0.0             0.0  0.0  0.0  0.0  0.0\n1   100  200     1              0.0             0.0  0.0  0.0  0.0  0.0\n2   100  200     2              0.0             0.0  0.0  0.0  0.0  0.0\n3   100  200     3              0.0             0.0  0.0  0.0  0.0  0.0\n4   100  200     4              0.0             0.0  0.0  0.0  0.0  0.0\n..  ...  ...   ...              ...             ...  ...  ...  ...  ...\n43  249  349    43              0.0             0.0  0.0  0.0  0.0  0.0\n44  249  349    44              0.0             0.0  0.0  0.0  0.0  0.0\n45  249  349    45              0.0             0.0  0.0  0.0  0.0  0.0\n46  249  349    46              0.0             0.0  0.0  0.0  0.0  0.0\n47  249  349    47              0.0             0.0  0.0  0.0  0.0  0.0\n\n[1080000 rows x 9 columns]",
      "text/html": "<div>\n<style scoped>\n    .dataframe tbody tr th:only-of-type {\n        vertical-align: middle;\n    }\n\n    .dataframe tbody tr th {\n        vertical-align: top;\n    }\n\n    .dataframe thead th {\n        text-align: right;\n    }\n</style>\n<table border=\"1\" class=\"dataframe\">\n  <thead>\n    <tr style=\"text-align: right;\">\n      <th></th>\n      <th>x</th>\n      <th>y</th>\n      <th>hour</th>\n      <th>building_height</th>\n      <th>emission_value</th>\n      <th>nbr</th>\n      <th>nbl</th>\n      <th>nbu</th>\n      <th>nbd</th>\n    </tr>\n  </thead>\n  <tbody>\n    <tr>\n      <th>0</th>\n      <td>100</td>\n      <td>200</td>\n      <td>0</td>\n      <td>0.0</td>\n      <td>0.0</td>\n      <td>0.0</td>\n      <td>0.0</td>\n      <td>0.0</td>\n      <td>0.0</td>\n    </tr>\n    <tr>\n      <th>1</th>\n      <td>100</td>\n      <td>200</td>\n      <td>1</td>\n      <td>0.0</td>\n      <td>0.0</td>\n      <td>0.0</td>\n      <td>0.0</td>\n      <td>0.0</td>\n      <td>0.0</td>\n    </tr>\n    <tr>\n      <th>2</th>\n      <td>100</td>\n      <td>200</td>\n      <td>2</td>\n      <td>0.0</td>\n      <td>0.0</td>\n      <td>0.0</td>\n      <td>0.0</td>\n      <td>0.0</td>\n      <td>0.0</td>\n    </tr>\n    <tr>\n      <th>3</th>\n      <td>100</td>\n      <td>200</td>\n      <td>3</td>\n      <td>0.0</td>\n      <td>0.0</td>\n      <td>0.0</td>\n      <td>0.0</td>\n      <td>0.0</td>\n      <td>0.0</td>\n    </tr>\n    <tr>\n      <th>4</th>\n      <td>100</td>\n      <td>200</td>\n      <td>4</td>\n      <td>0.0</td>\n      <td>0.0</td>\n      <td>0.0</td>\n      <td>0.0</td>\n      <td>0.0</td>\n      <td>0.0</td>\n    </tr>\n    <tr>\n      <th>...</th>\n      <td>...</td>\n      <td>...</td>\n      <td>...</td>\n      <td>...</td>\n      <td>...</td>\n      <td>...</td>\n      <td>...</td>\n      <td>...</td>\n      <td>...</td>\n    </tr>\n    <tr>\n      <th>43</th>\n      <td>249</td>\n      <td>349</td>\n      <td>43</td>\n      <td>0.0</td>\n      <td>0.0</td>\n      <td>0.0</td>\n      <td>0.0</td>\n      <td>0.0</td>\n      <td>0.0</td>\n    </tr>\n    <tr>\n      <th>44</th>\n      <td>249</td>\n      <td>349</td>\n      <td>44</td>\n      <td>0.0</td>\n      <td>0.0</td>\n      <td>0.0</td>\n      <td>0.0</td>\n      <td>0.0</td>\n      <td>0.0</td>\n    </tr>\n    <tr>\n      <th>45</th>\n      <td>249</td>\n      <td>349</td>\n      <td>45</td>\n      <td>0.0</td>\n      <td>0.0</td>\n      <td>0.0</td>\n      <td>0.0</td>\n      <td>0.0</td>\n      <td>0.0</td>\n    </tr>\n    <tr>\n      <th>46</th>\n      <td>249</td>\n      <td>349</td>\n      <td>46</td>\n      <td>0.0</td>\n      <td>0.0</td>\n      <td>0.0</td>\n      <td>0.0</td>\n      <td>0.0</td>\n      <td>0.0</td>\n    </tr>\n    <tr>\n      <th>47</th>\n      <td>249</td>\n      <td>349</td>\n      <td>47</td>\n      <td>0.0</td>\n      <td>0.0</td>\n      <td>0.0</td>\n      <td>0.0</td>\n      <td>0.0</td>\n      <td>0.0</td>\n    </tr>\n  </tbody>\n</table>\n<p>1080000 rows × 9 columns</p>\n</div>"
     },
     "execution_count": 287,
     "metadata": {},
     "output_type": "execute_result"
    }
   ],
   "source": [
    "completed_1species = complete_df_with_neighbours(result_nspecies)\n",
    "completed_1species"
   ],
   "metadata": {
    "collapsed": false,
    "ExecuteTime": {
     "end_time": "2023-11-01T13:31:31.935335500Z",
     "start_time": "2023-11-01T13:20:19.067603400Z"
    }
   },
   "id": "3bd475d7f45dceaf"
  },
  {
   "cell_type": "code",
   "execution_count": 288,
   "outputs": [
    {
     "data": {
      "text/plain": "      x    y  hour  emission_value       nbr       nbl       nbu       nbd\n0   100  200     0        0.010562  0.010604  0.000000  0.000000  0.010540\n1   100  200     1        0.009452  0.009498  0.000000  0.000000  0.009446\n2   100  200     2        0.009615  0.009675  0.000000  0.000000  0.009610\n3   100  200     3        0.014870  0.015073  0.000000  0.000000  0.014857\n4   100  200     4        0.013692  0.013605  0.000000  0.000000  0.013702\n..  ...  ...   ...             ...       ...       ...       ...       ...\n43  249  349    43        0.011732  0.000000  0.011800  0.011717  0.000000\n44  249  349    44        0.013980  0.000000  0.014070  0.013944  0.000000\n45  249  349    45        0.017794  0.000000  0.017873  0.017751  0.000000\n46  249  349    46        0.018918  0.000000  0.018957  0.018886  0.000000\n47  249  349    47        0.018218  0.000000  0.018241  0.018217  0.000000\n\n[1080000 rows x 8 columns]",
      "text/html": "<div>\n<style scoped>\n    .dataframe tbody tr th:only-of-type {\n        vertical-align: middle;\n    }\n\n    .dataframe tbody tr th {\n        vertical-align: top;\n    }\n\n    .dataframe thead th {\n        text-align: right;\n    }\n</style>\n<table border=\"1\" class=\"dataframe\">\n  <thead>\n    <tr style=\"text-align: right;\">\n      <th></th>\n      <th>x</th>\n      <th>y</th>\n      <th>hour</th>\n      <th>emission_value</th>\n      <th>nbr</th>\n      <th>nbl</th>\n      <th>nbu</th>\n      <th>nbd</th>\n    </tr>\n  </thead>\n  <tbody>\n    <tr>\n      <th>0</th>\n      <td>100</td>\n      <td>200</td>\n      <td>0</td>\n      <td>0.010562</td>\n      <td>0.010604</td>\n      <td>0.000000</td>\n      <td>0.000000</td>\n      <td>0.010540</td>\n    </tr>\n    <tr>\n      <th>1</th>\n      <td>100</td>\n      <td>200</td>\n      <td>1</td>\n      <td>0.009452</td>\n      <td>0.009498</td>\n      <td>0.000000</td>\n      <td>0.000000</td>\n      <td>0.009446</td>\n    </tr>\n    <tr>\n      <th>2</th>\n      <td>100</td>\n      <td>200</td>\n      <td>2</td>\n      <td>0.009615</td>\n      <td>0.009675</td>\n      <td>0.000000</td>\n      <td>0.000000</td>\n      <td>0.009610</td>\n    </tr>\n    <tr>\n      <th>3</th>\n      <td>100</td>\n      <td>200</td>\n      <td>3</td>\n      <td>0.014870</td>\n      <td>0.015073</td>\n      <td>0.000000</td>\n      <td>0.000000</td>\n      <td>0.014857</td>\n    </tr>\n    <tr>\n      <th>4</th>\n      <td>100</td>\n      <td>200</td>\n      <td>4</td>\n      <td>0.013692</td>\n      <td>0.013605</td>\n      <td>0.000000</td>\n      <td>0.000000</td>\n      <td>0.013702</td>\n    </tr>\n    <tr>\n      <th>...</th>\n      <td>...</td>\n      <td>...</td>\n      <td>...</td>\n      <td>...</td>\n      <td>...</td>\n      <td>...</td>\n      <td>...</td>\n      <td>...</td>\n    </tr>\n    <tr>\n      <th>43</th>\n      <td>249</td>\n      <td>349</td>\n      <td>43</td>\n      <td>0.011732</td>\n      <td>0.000000</td>\n      <td>0.011800</td>\n      <td>0.011717</td>\n      <td>0.000000</td>\n    </tr>\n    <tr>\n      <th>44</th>\n      <td>249</td>\n      <td>349</td>\n      <td>44</td>\n      <td>0.013980</td>\n      <td>0.000000</td>\n      <td>0.014070</td>\n      <td>0.013944</td>\n      <td>0.000000</td>\n    </tr>\n    <tr>\n      <th>45</th>\n      <td>249</td>\n      <td>349</td>\n      <td>45</td>\n      <td>0.017794</td>\n      <td>0.000000</td>\n      <td>0.017873</td>\n      <td>0.017751</td>\n      <td>0.000000</td>\n    </tr>\n    <tr>\n      <th>46</th>\n      <td>249</td>\n      <td>349</td>\n      <td>46</td>\n      <td>0.018918</td>\n      <td>0.000000</td>\n      <td>0.018957</td>\n      <td>0.018886</td>\n      <td>0.000000</td>\n    </tr>\n    <tr>\n      <th>47</th>\n      <td>249</td>\n      <td>349</td>\n      <td>47</td>\n      <td>0.018218</td>\n      <td>0.000000</td>\n      <td>0.018241</td>\n      <td>0.018217</td>\n      <td>0.000000</td>\n    </tr>\n  </tbody>\n</table>\n<p>1080000 rows × 8 columns</p>\n</div>"
     },
     "execution_count": 288,
     "metadata": {},
     "output_type": "execute_result"
    }
   ],
   "source": [
    "completed_1species_out = complete_df_with_neighbours(result_1species_output)\n",
    "completed_1species_out"
   ],
   "metadata": {
    "collapsed": false,
    "ExecuteTime": {
     "end_time": "2023-11-01T13:42:16.983259900Z",
     "start_time": "2023-11-01T13:31:31.934344200Z"
    }
   },
   "id": "1f0ce08454c948cd"
  },
  {
   "cell_type": "code",
   "execution_count": 291,
   "outputs": [],
   "source": [
    "completed_1species.to_csv(\"../data/result1_species_in.csv\",index=False,sep =\";\",encoding='utf-8', float_format='%.15f')\n",
    "completed_1species_out.to_csv(\"../data/result1_species_out.csv\",index=False,sep =\";\",encoding='utf-8', float_format='%.15f')\n"
   ],
   "metadata": {
    "collapsed": false,
    "ExecuteTime": {
     "end_time": "2023-11-01T13:42:51.632315600Z",
     "start_time": "2023-11-01T13:42:31.774343100Z"
    }
   },
   "id": "8895286f62cefb42"
  },
  {
   "cell_type": "code",
   "execution_count": null,
   "outputs": [],
   "source": [],
   "metadata": {
    "collapsed": false
   },
   "id": "c8ca2679813c4c22"
  }
 ],
 "metadata": {
  "kernelspec": {
   "display_name": "Python 3 (ipykernel)",
   "language": "python",
   "name": "python3"
  },
  "language_info": {
   "codemirror_mode": {
    "name": "ipython",
    "version": 3
   },
   "file_extension": ".py",
   "mimetype": "text/x-python",
   "name": "python",
   "nbconvert_exporter": "python",
   "pygments_lexer": "ipython3",
   "version": "3.10.9"
  }
 },
 "nbformat": 4,
 "nbformat_minor": 5
}
