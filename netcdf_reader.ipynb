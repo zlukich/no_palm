{
 "cells": [
  {
   "cell_type": "code",
   "execution_count": null,
   "outputs": [],
   "source": [],
   "metadata": {
    "collapsed": false
   },
   "id": "b788a5a6f6b66514"
  },
  {
   "cell_type": "code",
   "execution_count": 1,
   "id": "93bd217b",
   "metadata": {
    "ExecuteTime": {
     "end_time": "2024-01-04T14:41:46.070469300Z",
     "start_time": "2024-01-04T14:41:45.627758100Z"
    }
   },
   "outputs": [],
   "source": [
    "import netCDF4 as nc\n",
    "import sys\n",
    "import pandas as pd\n",
    "import numpy as np\n",
    "import seaborn as sns\n",
    "import matplotlib.pylab as plt\n",
    "pd.options.mode.chained_assignment = None  # default='warn'\n"
   ]
  },
  {
   "cell_type": "markdown",
   "source": [
    "# Helping functions"
   ],
   "metadata": {
    "collapsed": false
   },
   "id": "459d0615"
  },
  {
   "cell_type": "code",
   "execution_count": 2,
   "outputs": [],
   "source": [
    "def get_neighbours(df,x,y):\n",
    "    \n",
    "    result = pd.DataFrame()\n",
    "    \n",
    "    df_cell = df.loc[(df[\"x\"] ==x) & (df[\"y\"] ==y)]\n",
    "    \n",
    "    \n",
    "    new_row_right = df.loc[(df[\"x\"] ==x+1) & (df[\"y\"] ==y)]\n",
    "   #print(new_row_right)\n",
    "    if(len(new_row_right) == 0):\n",
    "        new_row_right = pd.DataFrame({\"x\" : [x+1 for i in range(df_cell.shape[0])],\n",
    "                                      \"y\" : [y for i in range(df_cell.shape[0])],\n",
    "                                      \"emission_value\" : [0 for i in range(df_cell.shape[0])],\n",
    "                                      \"hour\" : df_cell[\"hour\"].values ,\n",
    "                                      \"nb_type\" : [\"nbr\" for i in range(df_cell.shape[0])]})\n",
    "    else:\n",
    "        new_row_right[\"nb_type\"] = \"nbr\"\n",
    "    \n",
    "    \n",
    "    new_row_left = df.loc[(df[\"x\"] ==x-1) & (df[\"y\"] ==y)]\n",
    "    if(len(new_row_left) == 0):\n",
    "        new_row_left = pd.DataFrame({\"x\" : [x-1 for i in range(df_cell.shape[0])],\n",
    "                                      \"y\" : [y for i in range(df_cell.shape[0])],\n",
    "                                      \"emission_value\" : [0 for i in range(df_cell.shape[0])],\n",
    "                                      \"hour\" : df_cell[\"hour\"].values ,\n",
    "                                      \"nb_type\" : [\"nbl\" for i in range(df_cell.shape[0])]})\n",
    "    else:\n",
    "        new_row_left[\"nb_type\"] = \"nbl\"\n",
    "    \n",
    "    \n",
    "    new_row_up = df.loc[(df[\"x\"] ==x) & (df[\"y\"] ==y-1)]\n",
    "    if(len(new_row_up) == 0):\n",
    "        new_row_up = pd.DataFrame({\"x\" : [x for i in range(df_cell.shape[0])],\n",
    "                                      \"y\" : [y-1 for i in range(df_cell.shape[0])],\n",
    "                                      \"emission_value\" : [0 for i in range(df_cell.shape[0])],\n",
    "                                      \"hour\" : df_cell[\"hour\"].values ,\n",
    "                                      \"nb_type\" : [\"nbu\" for i in range(df_cell.shape[0])]})\n",
    "    else:\n",
    "        new_row_up[\"nb_type\"] = \"nbu\"\n",
    "    \n",
    "    \n",
    "    new_row_down = df.loc[(df[\"x\"] ==x) & (df[\"y\"] ==y+1)]\n",
    "    if(len(new_row_down) == 0):\n",
    "        new_row_down = pd.DataFrame({\"x\" : [x for i in range(df_cell.shape[0])],\n",
    "                                      \"y\" : [y+1 for i in range(df_cell.shape[0])],\n",
    "                                      \"emission_value\" : [0 for i in range(df_cell.shape[0])],\n",
    "                                      \"hour\" : df_cell[\"hour\"].values ,\n",
    "                                      \"nb_type\" : [\"nbd\" for i in range(df_cell.shape[0])]})\n",
    "    else:\n",
    "        new_row_down[\"nb_type\"] = \"nbd\"\n",
    "    result = pd.concat([new_row_right,new_row_left,new_row_up,new_row_down])\n",
    "    return result\n",
    "\n",
    "\n",
    "\n",
    "def add_neighbours(df,x,y):\n",
    "    '''\n",
    "    \n",
    "        df_cell: adds neighbours to specific cell\n",
    "    '''\n",
    "    df_cell = df.loc[(df[\"x\"] ==x) & (df[\"y\"] ==y)]\n",
    "    \n",
    "    neighbours = get_neighbours(df,x,y)\n",
    "    \n",
    "    neighbours_right = neighbours.loc[neighbours[\"nb_type\"] == \"nbr\"]\n",
    "    neighbours_left = neighbours.loc[neighbours[\"nb_type\"] == \"nbl\"]\n",
    "    neighbours_up = neighbours.loc[neighbours[\"nb_type\"] == \"nbu\"]\n",
    "    neighbours_down = neighbours.loc[neighbours[\"nb_type\"] == \"nbd\"]\n",
    "    \n",
    "    try:\n",
    "        df_to_append = pd.DataFrame({\"nbr\":neighbours_right[\"emission_value\"].values,\n",
    "                                    \"nbl\":neighbours_left[\"emission_value\"].values,\n",
    "                                    \"nbu\":neighbours_up[\"emission_value\"].values,\n",
    "                                    \"nbd\":neighbours_down[\"emission_value\"].values})\n",
    "    except:\n",
    "        df_to_append = pd.DataFrame()\n",
    "        \n",
    "    df_to_append = df_to_append.reset_index(drop=True)\n",
    "    df_cell = df_cell.reset_index(drop=True)\n",
    "    result= pd.concat([df_cell,df_to_append],axis = 1)\n",
    "    return result\n",
    "\n",
    "def complete_df_with_neighbours(df):\n",
    "    '''\n",
    "        \n",
    "    '''\n",
    "    maximal_x = max(df[\"x\"])\n",
    "    minimal_x = min(df[\"x\"])\n",
    "    maximal_y = max(df[\"y\"])\n",
    "    minimal_y = min(df[\"y\"])\n",
    "    #print(df.shape[0])\n",
    "    result = pd.DataFrame()\n",
    "    for i in range(minimal_x,maximal_x+1,1):\n",
    "        for j in range(minimal_y,maximal_y+1):\n",
    "            df_cell = add_neighbours(df,i ,j )\n",
    "            #print(df_cell)\n",
    "            result = pd.concat([result,df_cell])\n",
    "    return result\n",
    "    "
   ],
   "metadata": {
    "collapsed": false,
    "ExecuteTime": {
     "end_time": "2024-01-04T14:41:46.123243700Z",
     "start_time": "2024-01-04T14:41:46.082250800Z"
    }
   },
   "id": "79736235"
  },
  {
   "cell_type": "markdown",
   "source": [
    "## Optimizing the functions"
   ],
   "metadata": {
    "collapsed": false
   },
   "id": "a5546ae82dc36ce6"
  },
  {
   "cell_type": "markdown",
   "source": [
    "### by another call functions"
   ],
   "metadata": {
    "collapsed": false
   },
   "id": "6c6339533831eea5"
  },
  {
   "cell_type": "code",
   "execution_count": 51,
   "outputs": [],
   "source": [
    "def get_neighbours_optimized(df,x,y):\n",
    "    \n",
    "    result = pd.DataFrame()\n",
    "\n",
    "    # Define neighbor coordinates\n",
    "    neighbors_coords = [(x+1, y, \"nbr\"), (x-1, y, \"nbl\"), (x, y-1, \"nbu\"), (x, y+1, \"nbd\")]\n",
    "\n",
    "    for nx, ny, nb_type in neighbors_coords:\n",
    "        new_row = df.loc[(df[\"x\"] == nx) & (df[\"y\"] == ny)].copy()\n",
    "\n",
    "        if len(new_row) == 0:\n",
    "            new_row = pd.DataFrame({\n",
    "                \"x\": [nx] * df.shape[0],\n",
    "                \"y\": [ny] * df.shape[0],\n",
    "                \"emission_value\": [0] * df.shape[0],\n",
    "                \"hour\": df[\"hour\"].values,\n",
    "                \"nb_type\": [nb_type] * df.shape[0]\n",
    "            })\n",
    "        else:\n",
    "            new_row[\"nb_type\"] = nb_type\n",
    "\n",
    "        result = pd.concat([result, new_row])\n",
    "\n",
    "    return result.reset_index(drop=True)\n",
    "\n",
    "\n",
    "\n",
    "def add_neighbours_optimized(df,x,y):\n",
    "    '''\n",
    "    \n",
    "        df_cell: adds neighbours to specific cell\n",
    "    '''\n",
    "    df_cell = df[(df[\"x\"] == x) & (df[\"y\"] == y)]\n",
    "\n",
    "    neighbours = get_neighbours_optimized(df_cell, x, y)\n",
    "\n",
    "    neighbours_right = neighbours[neighbours[\"nb_type\"] == \"nbr\"]\n",
    "    neighbours_left = neighbours[neighbours[\"nb_type\"] == \"nbl\"]\n",
    "    neighbours_up = neighbours[neighbours[\"nb_type\"] == \"nbu\"]\n",
    "    neighbours_down = neighbours[neighbours[\"nb_type\"] == \"nbd\"]\n",
    "\n",
    "    if not neighbours_right.empty:\n",
    "        df_cell.loc[:, \"nbr\"] = neighbours_right[\"emission_value\"].values\n",
    "    if not neighbours_left.empty:\n",
    "        df_cell.loc[:, \"nbl\"] = neighbours_left[\"emission_value\"].values\n",
    "    if not neighbours_up.empty:\n",
    "        df_cell.loc[:, \"nbu\"] = neighbours_up[\"emission_value\"].values\n",
    "    if not neighbours_down.empty:\n",
    "        df_cell.loc[:, \"nbd\"] = neighbours_down[\"emission_value\"].values\n",
    "\n",
    "    return df_cell.reset_index(drop=True)\n",
    "\n",
    "def complete_df_with_neighbours_optimized(df):\n",
    "    '''\n",
    "        \n",
    "    '''\n",
    "    maximal_x = df[\"x\"].max()\n",
    "    minimal_x = df[\"x\"].min()\n",
    "    maximal_y = df[\"y\"].max()\n",
    "    minimal_y = df[\"y\"].min()\n",
    "\n",
    "    result = []\n",
    "\n",
    "    for i in range(minimal_x, maximal_x + 1):\n",
    "        for j in range(minimal_y, maximal_y + 1):\n",
    "            df_cell = add_neighbours_optimized(df, i, j)\n",
    "            result.append(df_cell)\n",
    "\n",
    "    return pd.concat(result, ignore_index=True)"
   ],
   "metadata": {
    "collapsed": false,
    "ExecuteTime": {
     "end_time": "2024-01-04T15:32:46.544305900Z",
     "start_time": "2024-01-04T15:32:46.528513600Z"
    }
   },
   "id": "515cd878f913deac"
  },
  {
   "cell_type": "code",
   "execution_count": 44,
   "outputs": [
    {
     "data": {
      "text/plain": "          x    y  hour  building_height  emission_value\n0       600  600     0              0.0             0.0\n1       600  600     1              0.0             0.0\n2       600  600     2              0.0             0.0\n3       600  600     3              0.0             0.0\n4       600  600     4              0.0             0.0\n...     ...  ...   ...              ...             ...\n307195  679  679    43              0.0             0.0\n307196  679  679    44              0.0             0.0\n307197  679  679    45              0.0             0.0\n307198  679  679    46              0.0             0.0\n307199  679  679    47              0.0             0.0\n\n[307200 rows x 5 columns]",
      "text/html": "<div>\n<style scoped>\n    .dataframe tbody tr th:only-of-type {\n        vertical-align: middle;\n    }\n\n    .dataframe tbody tr th {\n        vertical-align: top;\n    }\n\n    .dataframe thead th {\n        text-align: right;\n    }\n</style>\n<table border=\"1\" class=\"dataframe\">\n  <thead>\n    <tr style=\"text-align: right;\">\n      <th></th>\n      <th>x</th>\n      <th>y</th>\n      <th>hour</th>\n      <th>building_height</th>\n      <th>emission_value</th>\n    </tr>\n  </thead>\n  <tbody>\n    <tr>\n      <th>0</th>\n      <td>600</td>\n      <td>600</td>\n      <td>0</td>\n      <td>0.0</td>\n      <td>0.0</td>\n    </tr>\n    <tr>\n      <th>1</th>\n      <td>600</td>\n      <td>600</td>\n      <td>1</td>\n      <td>0.0</td>\n      <td>0.0</td>\n    </tr>\n    <tr>\n      <th>2</th>\n      <td>600</td>\n      <td>600</td>\n      <td>2</td>\n      <td>0.0</td>\n      <td>0.0</td>\n    </tr>\n    <tr>\n      <th>3</th>\n      <td>600</td>\n      <td>600</td>\n      <td>3</td>\n      <td>0.0</td>\n      <td>0.0</td>\n    </tr>\n    <tr>\n      <th>4</th>\n      <td>600</td>\n      <td>600</td>\n      <td>4</td>\n      <td>0.0</td>\n      <td>0.0</td>\n    </tr>\n    <tr>\n      <th>...</th>\n      <td>...</td>\n      <td>...</td>\n      <td>...</td>\n      <td>...</td>\n      <td>...</td>\n    </tr>\n    <tr>\n      <th>307195</th>\n      <td>679</td>\n      <td>679</td>\n      <td>43</td>\n      <td>0.0</td>\n      <td>0.0</td>\n    </tr>\n    <tr>\n      <th>307196</th>\n      <td>679</td>\n      <td>679</td>\n      <td>44</td>\n      <td>0.0</td>\n      <td>0.0</td>\n    </tr>\n    <tr>\n      <th>307197</th>\n      <td>679</td>\n      <td>679</td>\n      <td>45</td>\n      <td>0.0</td>\n      <td>0.0</td>\n    </tr>\n    <tr>\n      <th>307198</th>\n      <td>679</td>\n      <td>679</td>\n      <td>46</td>\n      <td>0.0</td>\n      <td>0.0</td>\n    </tr>\n    <tr>\n      <th>307199</th>\n      <td>679</td>\n      <td>679</td>\n      <td>47</td>\n      <td>0.0</td>\n      <td>0.0</td>\n    </tr>\n  </tbody>\n</table>\n<p>307200 rows × 5 columns</p>\n</div>"
     },
     "execution_count": 44,
     "metadata": {},
     "output_type": "execute_result"
    }
   ],
   "source": [
    "result_nspecies"
   ],
   "metadata": {
    "collapsed": false,
    "ExecuteTime": {
     "end_time": "2024-01-04T15:30:02.226389200Z",
     "start_time": "2024-01-04T15:30:02.181498600Z"
    }
   },
   "id": "1fbe16b2edae25e5"
  },
  {
   "cell_type": "code",
   "execution_count": 50,
   "outputs": [
    {
     "data": {
      "text/plain": "      x    y  hour  building_height  emission_value  nbr  nbl  nbu  nbd\n0   600  600     0              0.0             0.0  0.0  0.0  0.0  0.0\n1   600  600     1              0.0             0.0  0.0  0.0  0.0  0.0\n2   600  600     2              0.0             0.0  0.0  0.0  0.0  0.0\n3   600  600     3              0.0             0.0  0.0  0.0  0.0  0.0\n4   600  600     4              0.0             0.0  0.0  0.0  0.0  0.0\n5   600  600     5              0.0             0.0  0.0  0.0  0.0  0.0\n6   600  600     6              0.0             0.0  0.0  0.0  0.0  0.0\n7   600  600     7              0.0             0.0  0.0  0.0  0.0  0.0\n8   600  600     8              0.0             0.0  0.0  0.0  0.0  0.0\n9   600  600     9              0.0             0.0  0.0  0.0  0.0  0.0\n10  600  600    10              0.0             0.0  0.0  0.0  0.0  0.0\n11  600  600    11              0.0             0.0  0.0  0.0  0.0  0.0\n12  600  600    12              0.0             0.0  0.0  0.0  0.0  0.0\n13  600  600    13              0.0             0.0  0.0  0.0  0.0  0.0\n14  600  600    14              0.0             0.0  0.0  0.0  0.0  0.0\n15  600  600    15              0.0             0.0  0.0  0.0  0.0  0.0\n16  600  600    16              0.0             0.0  0.0  0.0  0.0  0.0\n17  600  600    17              0.0             0.0  0.0  0.0  0.0  0.0\n18  600  600    18              0.0             0.0  0.0  0.0  0.0  0.0\n19  600  600    19              0.0             0.0  0.0  0.0  0.0  0.0\n20  600  600    20              0.0             0.0  0.0  0.0  0.0  0.0\n21  600  600    21              0.0             0.0  0.0  0.0  0.0  0.0\n22  600  600    22              0.0             0.0  0.0  0.0  0.0  0.0\n23  600  600    23              0.0             0.0  0.0  0.0  0.0  0.0\n24  600  600    24              0.0             0.0  0.0  0.0  0.0  0.0\n25  600  600    25              0.0             0.0  0.0  0.0  0.0  0.0\n26  600  600    26              0.0             0.0  0.0  0.0  0.0  0.0\n27  600  600    27              0.0             0.0  0.0  0.0  0.0  0.0\n28  600  600    28              0.0             0.0  0.0  0.0  0.0  0.0\n29  600  600    29              0.0             0.0  0.0  0.0  0.0  0.0\n30  600  600    30              0.0             0.0  0.0  0.0  0.0  0.0\n31  600  600    31              0.0             0.0  0.0  0.0  0.0  0.0\n32  600  600    32              0.0             0.0  0.0  0.0  0.0  0.0\n33  600  600    33              0.0             0.0  0.0  0.0  0.0  0.0\n34  600  600    34              0.0             0.0  0.0  0.0  0.0  0.0\n35  600  600    35              0.0             0.0  0.0  0.0  0.0  0.0\n36  600  600    36              0.0             0.0  0.0  0.0  0.0  0.0\n37  600  600    37              0.0             0.0  0.0  0.0  0.0  0.0\n38  600  600    38              0.0             0.0  0.0  0.0  0.0  0.0\n39  600  600    39              0.0             0.0  0.0  0.0  0.0  0.0\n40  600  600    40              0.0             0.0  0.0  0.0  0.0  0.0\n41  600  600    41              0.0             0.0  0.0  0.0  0.0  0.0\n42  600  600    42              0.0             0.0  0.0  0.0  0.0  0.0\n43  600  600    43              0.0             0.0  0.0  0.0  0.0  0.0\n44  600  600    44              0.0             0.0  0.0  0.0  0.0  0.0\n45  600  600    45              0.0             0.0  0.0  0.0  0.0  0.0\n46  600  600    46              0.0             0.0  0.0  0.0  0.0  0.0\n47  600  600    47              0.0             0.0  0.0  0.0  0.0  0.0",
      "text/html": "<div>\n<style scoped>\n    .dataframe tbody tr th:only-of-type {\n        vertical-align: middle;\n    }\n\n    .dataframe tbody tr th {\n        vertical-align: top;\n    }\n\n    .dataframe thead th {\n        text-align: right;\n    }\n</style>\n<table border=\"1\" class=\"dataframe\">\n  <thead>\n    <tr style=\"text-align: right;\">\n      <th></th>\n      <th>x</th>\n      <th>y</th>\n      <th>hour</th>\n      <th>building_height</th>\n      <th>emission_value</th>\n      <th>nbr</th>\n      <th>nbl</th>\n      <th>nbu</th>\n      <th>nbd</th>\n    </tr>\n  </thead>\n  <tbody>\n    <tr>\n      <th>0</th>\n      <td>600</td>\n      <td>600</td>\n      <td>0</td>\n      <td>0.0</td>\n      <td>0.0</td>\n      <td>0.0</td>\n      <td>0.0</td>\n      <td>0.0</td>\n      <td>0.0</td>\n    </tr>\n    <tr>\n      <th>1</th>\n      <td>600</td>\n      <td>600</td>\n      <td>1</td>\n      <td>0.0</td>\n      <td>0.0</td>\n      <td>0.0</td>\n      <td>0.0</td>\n      <td>0.0</td>\n      <td>0.0</td>\n    </tr>\n    <tr>\n      <th>2</th>\n      <td>600</td>\n      <td>600</td>\n      <td>2</td>\n      <td>0.0</td>\n      <td>0.0</td>\n      <td>0.0</td>\n      <td>0.0</td>\n      <td>0.0</td>\n      <td>0.0</td>\n    </tr>\n    <tr>\n      <th>3</th>\n      <td>600</td>\n      <td>600</td>\n      <td>3</td>\n      <td>0.0</td>\n      <td>0.0</td>\n      <td>0.0</td>\n      <td>0.0</td>\n      <td>0.0</td>\n      <td>0.0</td>\n    </tr>\n    <tr>\n      <th>4</th>\n      <td>600</td>\n      <td>600</td>\n      <td>4</td>\n      <td>0.0</td>\n      <td>0.0</td>\n      <td>0.0</td>\n      <td>0.0</td>\n      <td>0.0</td>\n      <td>0.0</td>\n    </tr>\n    <tr>\n      <th>5</th>\n      <td>600</td>\n      <td>600</td>\n      <td>5</td>\n      <td>0.0</td>\n      <td>0.0</td>\n      <td>0.0</td>\n      <td>0.0</td>\n      <td>0.0</td>\n      <td>0.0</td>\n    </tr>\n    <tr>\n      <th>6</th>\n      <td>600</td>\n      <td>600</td>\n      <td>6</td>\n      <td>0.0</td>\n      <td>0.0</td>\n      <td>0.0</td>\n      <td>0.0</td>\n      <td>0.0</td>\n      <td>0.0</td>\n    </tr>\n    <tr>\n      <th>7</th>\n      <td>600</td>\n      <td>600</td>\n      <td>7</td>\n      <td>0.0</td>\n      <td>0.0</td>\n      <td>0.0</td>\n      <td>0.0</td>\n      <td>0.0</td>\n      <td>0.0</td>\n    </tr>\n    <tr>\n      <th>8</th>\n      <td>600</td>\n      <td>600</td>\n      <td>8</td>\n      <td>0.0</td>\n      <td>0.0</td>\n      <td>0.0</td>\n      <td>0.0</td>\n      <td>0.0</td>\n      <td>0.0</td>\n    </tr>\n    <tr>\n      <th>9</th>\n      <td>600</td>\n      <td>600</td>\n      <td>9</td>\n      <td>0.0</td>\n      <td>0.0</td>\n      <td>0.0</td>\n      <td>0.0</td>\n      <td>0.0</td>\n      <td>0.0</td>\n    </tr>\n    <tr>\n      <th>10</th>\n      <td>600</td>\n      <td>600</td>\n      <td>10</td>\n      <td>0.0</td>\n      <td>0.0</td>\n      <td>0.0</td>\n      <td>0.0</td>\n      <td>0.0</td>\n      <td>0.0</td>\n    </tr>\n    <tr>\n      <th>11</th>\n      <td>600</td>\n      <td>600</td>\n      <td>11</td>\n      <td>0.0</td>\n      <td>0.0</td>\n      <td>0.0</td>\n      <td>0.0</td>\n      <td>0.0</td>\n      <td>0.0</td>\n    </tr>\n    <tr>\n      <th>12</th>\n      <td>600</td>\n      <td>600</td>\n      <td>12</td>\n      <td>0.0</td>\n      <td>0.0</td>\n      <td>0.0</td>\n      <td>0.0</td>\n      <td>0.0</td>\n      <td>0.0</td>\n    </tr>\n    <tr>\n      <th>13</th>\n      <td>600</td>\n      <td>600</td>\n      <td>13</td>\n      <td>0.0</td>\n      <td>0.0</td>\n      <td>0.0</td>\n      <td>0.0</td>\n      <td>0.0</td>\n      <td>0.0</td>\n    </tr>\n    <tr>\n      <th>14</th>\n      <td>600</td>\n      <td>600</td>\n      <td>14</td>\n      <td>0.0</td>\n      <td>0.0</td>\n      <td>0.0</td>\n      <td>0.0</td>\n      <td>0.0</td>\n      <td>0.0</td>\n    </tr>\n    <tr>\n      <th>15</th>\n      <td>600</td>\n      <td>600</td>\n      <td>15</td>\n      <td>0.0</td>\n      <td>0.0</td>\n      <td>0.0</td>\n      <td>0.0</td>\n      <td>0.0</td>\n      <td>0.0</td>\n    </tr>\n    <tr>\n      <th>16</th>\n      <td>600</td>\n      <td>600</td>\n      <td>16</td>\n      <td>0.0</td>\n      <td>0.0</td>\n      <td>0.0</td>\n      <td>0.0</td>\n      <td>0.0</td>\n      <td>0.0</td>\n    </tr>\n    <tr>\n      <th>17</th>\n      <td>600</td>\n      <td>600</td>\n      <td>17</td>\n      <td>0.0</td>\n      <td>0.0</td>\n      <td>0.0</td>\n      <td>0.0</td>\n      <td>0.0</td>\n      <td>0.0</td>\n    </tr>\n    <tr>\n      <th>18</th>\n      <td>600</td>\n      <td>600</td>\n      <td>18</td>\n      <td>0.0</td>\n      <td>0.0</td>\n      <td>0.0</td>\n      <td>0.0</td>\n      <td>0.0</td>\n      <td>0.0</td>\n    </tr>\n    <tr>\n      <th>19</th>\n      <td>600</td>\n      <td>600</td>\n      <td>19</td>\n      <td>0.0</td>\n      <td>0.0</td>\n      <td>0.0</td>\n      <td>0.0</td>\n      <td>0.0</td>\n      <td>0.0</td>\n    </tr>\n    <tr>\n      <th>20</th>\n      <td>600</td>\n      <td>600</td>\n      <td>20</td>\n      <td>0.0</td>\n      <td>0.0</td>\n      <td>0.0</td>\n      <td>0.0</td>\n      <td>0.0</td>\n      <td>0.0</td>\n    </tr>\n    <tr>\n      <th>21</th>\n      <td>600</td>\n      <td>600</td>\n      <td>21</td>\n      <td>0.0</td>\n      <td>0.0</td>\n      <td>0.0</td>\n      <td>0.0</td>\n      <td>0.0</td>\n      <td>0.0</td>\n    </tr>\n    <tr>\n      <th>22</th>\n      <td>600</td>\n      <td>600</td>\n      <td>22</td>\n      <td>0.0</td>\n      <td>0.0</td>\n      <td>0.0</td>\n      <td>0.0</td>\n      <td>0.0</td>\n      <td>0.0</td>\n    </tr>\n    <tr>\n      <th>23</th>\n      <td>600</td>\n      <td>600</td>\n      <td>23</td>\n      <td>0.0</td>\n      <td>0.0</td>\n      <td>0.0</td>\n      <td>0.0</td>\n      <td>0.0</td>\n      <td>0.0</td>\n    </tr>\n    <tr>\n      <th>24</th>\n      <td>600</td>\n      <td>600</td>\n      <td>24</td>\n      <td>0.0</td>\n      <td>0.0</td>\n      <td>0.0</td>\n      <td>0.0</td>\n      <td>0.0</td>\n      <td>0.0</td>\n    </tr>\n    <tr>\n      <th>25</th>\n      <td>600</td>\n      <td>600</td>\n      <td>25</td>\n      <td>0.0</td>\n      <td>0.0</td>\n      <td>0.0</td>\n      <td>0.0</td>\n      <td>0.0</td>\n      <td>0.0</td>\n    </tr>\n    <tr>\n      <th>26</th>\n      <td>600</td>\n      <td>600</td>\n      <td>26</td>\n      <td>0.0</td>\n      <td>0.0</td>\n      <td>0.0</td>\n      <td>0.0</td>\n      <td>0.0</td>\n      <td>0.0</td>\n    </tr>\n    <tr>\n      <th>27</th>\n      <td>600</td>\n      <td>600</td>\n      <td>27</td>\n      <td>0.0</td>\n      <td>0.0</td>\n      <td>0.0</td>\n      <td>0.0</td>\n      <td>0.0</td>\n      <td>0.0</td>\n    </tr>\n    <tr>\n      <th>28</th>\n      <td>600</td>\n      <td>600</td>\n      <td>28</td>\n      <td>0.0</td>\n      <td>0.0</td>\n      <td>0.0</td>\n      <td>0.0</td>\n      <td>0.0</td>\n      <td>0.0</td>\n    </tr>\n    <tr>\n      <th>29</th>\n      <td>600</td>\n      <td>600</td>\n      <td>29</td>\n      <td>0.0</td>\n      <td>0.0</td>\n      <td>0.0</td>\n      <td>0.0</td>\n      <td>0.0</td>\n      <td>0.0</td>\n    </tr>\n    <tr>\n      <th>30</th>\n      <td>600</td>\n      <td>600</td>\n      <td>30</td>\n      <td>0.0</td>\n      <td>0.0</td>\n      <td>0.0</td>\n      <td>0.0</td>\n      <td>0.0</td>\n      <td>0.0</td>\n    </tr>\n    <tr>\n      <th>31</th>\n      <td>600</td>\n      <td>600</td>\n      <td>31</td>\n      <td>0.0</td>\n      <td>0.0</td>\n      <td>0.0</td>\n      <td>0.0</td>\n      <td>0.0</td>\n      <td>0.0</td>\n    </tr>\n    <tr>\n      <th>32</th>\n      <td>600</td>\n      <td>600</td>\n      <td>32</td>\n      <td>0.0</td>\n      <td>0.0</td>\n      <td>0.0</td>\n      <td>0.0</td>\n      <td>0.0</td>\n      <td>0.0</td>\n    </tr>\n    <tr>\n      <th>33</th>\n      <td>600</td>\n      <td>600</td>\n      <td>33</td>\n      <td>0.0</td>\n      <td>0.0</td>\n      <td>0.0</td>\n      <td>0.0</td>\n      <td>0.0</td>\n      <td>0.0</td>\n    </tr>\n    <tr>\n      <th>34</th>\n      <td>600</td>\n      <td>600</td>\n      <td>34</td>\n      <td>0.0</td>\n      <td>0.0</td>\n      <td>0.0</td>\n      <td>0.0</td>\n      <td>0.0</td>\n      <td>0.0</td>\n    </tr>\n    <tr>\n      <th>35</th>\n      <td>600</td>\n      <td>600</td>\n      <td>35</td>\n      <td>0.0</td>\n      <td>0.0</td>\n      <td>0.0</td>\n      <td>0.0</td>\n      <td>0.0</td>\n      <td>0.0</td>\n    </tr>\n    <tr>\n      <th>36</th>\n      <td>600</td>\n      <td>600</td>\n      <td>36</td>\n      <td>0.0</td>\n      <td>0.0</td>\n      <td>0.0</td>\n      <td>0.0</td>\n      <td>0.0</td>\n      <td>0.0</td>\n    </tr>\n    <tr>\n      <th>37</th>\n      <td>600</td>\n      <td>600</td>\n      <td>37</td>\n      <td>0.0</td>\n      <td>0.0</td>\n      <td>0.0</td>\n      <td>0.0</td>\n      <td>0.0</td>\n      <td>0.0</td>\n    </tr>\n    <tr>\n      <th>38</th>\n      <td>600</td>\n      <td>600</td>\n      <td>38</td>\n      <td>0.0</td>\n      <td>0.0</td>\n      <td>0.0</td>\n      <td>0.0</td>\n      <td>0.0</td>\n      <td>0.0</td>\n    </tr>\n    <tr>\n      <th>39</th>\n      <td>600</td>\n      <td>600</td>\n      <td>39</td>\n      <td>0.0</td>\n      <td>0.0</td>\n      <td>0.0</td>\n      <td>0.0</td>\n      <td>0.0</td>\n      <td>0.0</td>\n    </tr>\n    <tr>\n      <th>40</th>\n      <td>600</td>\n      <td>600</td>\n      <td>40</td>\n      <td>0.0</td>\n      <td>0.0</td>\n      <td>0.0</td>\n      <td>0.0</td>\n      <td>0.0</td>\n      <td>0.0</td>\n    </tr>\n    <tr>\n      <th>41</th>\n      <td>600</td>\n      <td>600</td>\n      <td>41</td>\n      <td>0.0</td>\n      <td>0.0</td>\n      <td>0.0</td>\n      <td>0.0</td>\n      <td>0.0</td>\n      <td>0.0</td>\n    </tr>\n    <tr>\n      <th>42</th>\n      <td>600</td>\n      <td>600</td>\n      <td>42</td>\n      <td>0.0</td>\n      <td>0.0</td>\n      <td>0.0</td>\n      <td>0.0</td>\n      <td>0.0</td>\n      <td>0.0</td>\n    </tr>\n    <tr>\n      <th>43</th>\n      <td>600</td>\n      <td>600</td>\n      <td>43</td>\n      <td>0.0</td>\n      <td>0.0</td>\n      <td>0.0</td>\n      <td>0.0</td>\n      <td>0.0</td>\n      <td>0.0</td>\n    </tr>\n    <tr>\n      <th>44</th>\n      <td>600</td>\n      <td>600</td>\n      <td>44</td>\n      <td>0.0</td>\n      <td>0.0</td>\n      <td>0.0</td>\n      <td>0.0</td>\n      <td>0.0</td>\n      <td>0.0</td>\n    </tr>\n    <tr>\n      <th>45</th>\n      <td>600</td>\n      <td>600</td>\n      <td>45</td>\n      <td>0.0</td>\n      <td>0.0</td>\n      <td>0.0</td>\n      <td>0.0</td>\n      <td>0.0</td>\n      <td>0.0</td>\n    </tr>\n    <tr>\n      <th>46</th>\n      <td>600</td>\n      <td>600</td>\n      <td>46</td>\n      <td>0.0</td>\n      <td>0.0</td>\n      <td>0.0</td>\n      <td>0.0</td>\n      <td>0.0</td>\n      <td>0.0</td>\n    </tr>\n    <tr>\n      <th>47</th>\n      <td>600</td>\n      <td>600</td>\n      <td>47</td>\n      <td>0.0</td>\n      <td>0.0</td>\n      <td>0.0</td>\n      <td>0.0</td>\n      <td>0.0</td>\n      <td>0.0</td>\n    </tr>\n  </tbody>\n</table>\n</div>"
     },
     "execution_count": 50,
     "metadata": {},
     "output_type": "execute_result"
    }
   ],
   "source": [
    "add_neighbours(result_nspecies,600,600)"
   ],
   "metadata": {
    "collapsed": false,
    "ExecuteTime": {
     "end_time": "2024-01-04T15:32:44.360631300Z",
     "start_time": "2024-01-04T15:32:44.312096Z"
    }
   },
   "id": "a0761a07067c25b0"
  },
  {
   "cell_type": "code",
   "execution_count": 49,
   "outputs": [
    {
     "data": {
      "text/plain": "      x    y  hour  building_height  emission_value  nbr  nbl  nbu  nbd\n0   600  600     0              0.0             0.0    0    0    0    0\n1   600  600     1              0.0             0.0    0    0    0    0\n2   600  600     2              0.0             0.0    0    0    0    0\n3   600  600     3              0.0             0.0    0    0    0    0\n4   600  600     4              0.0             0.0    0    0    0    0\n5   600  600     5              0.0             0.0    0    0    0    0\n6   600  600     6              0.0             0.0    0    0    0    0\n7   600  600     7              0.0             0.0    0    0    0    0\n8   600  600     8              0.0             0.0    0    0    0    0\n9   600  600     9              0.0             0.0    0    0    0    0\n10  600  600    10              0.0             0.0    0    0    0    0\n11  600  600    11              0.0             0.0    0    0    0    0\n12  600  600    12              0.0             0.0    0    0    0    0\n13  600  600    13              0.0             0.0    0    0    0    0\n14  600  600    14              0.0             0.0    0    0    0    0\n15  600  600    15              0.0             0.0    0    0    0    0\n16  600  600    16              0.0             0.0    0    0    0    0\n17  600  600    17              0.0             0.0    0    0    0    0\n18  600  600    18              0.0             0.0    0    0    0    0\n19  600  600    19              0.0             0.0    0    0    0    0\n20  600  600    20              0.0             0.0    0    0    0    0\n21  600  600    21              0.0             0.0    0    0    0    0\n22  600  600    22              0.0             0.0    0    0    0    0\n23  600  600    23              0.0             0.0    0    0    0    0\n24  600  600    24              0.0             0.0    0    0    0    0\n25  600  600    25              0.0             0.0    0    0    0    0\n26  600  600    26              0.0             0.0    0    0    0    0\n27  600  600    27              0.0             0.0    0    0    0    0\n28  600  600    28              0.0             0.0    0    0    0    0\n29  600  600    29              0.0             0.0    0    0    0    0\n30  600  600    30              0.0             0.0    0    0    0    0\n31  600  600    31              0.0             0.0    0    0    0    0\n32  600  600    32              0.0             0.0    0    0    0    0\n33  600  600    33              0.0             0.0    0    0    0    0\n34  600  600    34              0.0             0.0    0    0    0    0\n35  600  600    35              0.0             0.0    0    0    0    0\n36  600  600    36              0.0             0.0    0    0    0    0\n37  600  600    37              0.0             0.0    0    0    0    0\n38  600  600    38              0.0             0.0    0    0    0    0\n39  600  600    39              0.0             0.0    0    0    0    0\n40  600  600    40              0.0             0.0    0    0    0    0\n41  600  600    41              0.0             0.0    0    0    0    0\n42  600  600    42              0.0             0.0    0    0    0    0\n43  600  600    43              0.0             0.0    0    0    0    0\n44  600  600    44              0.0             0.0    0    0    0    0\n45  600  600    45              0.0             0.0    0    0    0    0\n46  600  600    46              0.0             0.0    0    0    0    0\n47  600  600    47              0.0             0.0    0    0    0    0",
      "text/html": "<div>\n<style scoped>\n    .dataframe tbody tr th:only-of-type {\n        vertical-align: middle;\n    }\n\n    .dataframe tbody tr th {\n        vertical-align: top;\n    }\n\n    .dataframe thead th {\n        text-align: right;\n    }\n</style>\n<table border=\"1\" class=\"dataframe\">\n  <thead>\n    <tr style=\"text-align: right;\">\n      <th></th>\n      <th>x</th>\n      <th>y</th>\n      <th>hour</th>\n      <th>building_height</th>\n      <th>emission_value</th>\n      <th>nbr</th>\n      <th>nbl</th>\n      <th>nbu</th>\n      <th>nbd</th>\n    </tr>\n  </thead>\n  <tbody>\n    <tr>\n      <th>0</th>\n      <td>600</td>\n      <td>600</td>\n      <td>0</td>\n      <td>0.0</td>\n      <td>0.0</td>\n      <td>0</td>\n      <td>0</td>\n      <td>0</td>\n      <td>0</td>\n    </tr>\n    <tr>\n      <th>1</th>\n      <td>600</td>\n      <td>600</td>\n      <td>1</td>\n      <td>0.0</td>\n      <td>0.0</td>\n      <td>0</td>\n      <td>0</td>\n      <td>0</td>\n      <td>0</td>\n    </tr>\n    <tr>\n      <th>2</th>\n      <td>600</td>\n      <td>600</td>\n      <td>2</td>\n      <td>0.0</td>\n      <td>0.0</td>\n      <td>0</td>\n      <td>0</td>\n      <td>0</td>\n      <td>0</td>\n    </tr>\n    <tr>\n      <th>3</th>\n      <td>600</td>\n      <td>600</td>\n      <td>3</td>\n      <td>0.0</td>\n      <td>0.0</td>\n      <td>0</td>\n      <td>0</td>\n      <td>0</td>\n      <td>0</td>\n    </tr>\n    <tr>\n      <th>4</th>\n      <td>600</td>\n      <td>600</td>\n      <td>4</td>\n      <td>0.0</td>\n      <td>0.0</td>\n      <td>0</td>\n      <td>0</td>\n      <td>0</td>\n      <td>0</td>\n    </tr>\n    <tr>\n      <th>5</th>\n      <td>600</td>\n      <td>600</td>\n      <td>5</td>\n      <td>0.0</td>\n      <td>0.0</td>\n      <td>0</td>\n      <td>0</td>\n      <td>0</td>\n      <td>0</td>\n    </tr>\n    <tr>\n      <th>6</th>\n      <td>600</td>\n      <td>600</td>\n      <td>6</td>\n      <td>0.0</td>\n      <td>0.0</td>\n      <td>0</td>\n      <td>0</td>\n      <td>0</td>\n      <td>0</td>\n    </tr>\n    <tr>\n      <th>7</th>\n      <td>600</td>\n      <td>600</td>\n      <td>7</td>\n      <td>0.0</td>\n      <td>0.0</td>\n      <td>0</td>\n      <td>0</td>\n      <td>0</td>\n      <td>0</td>\n    </tr>\n    <tr>\n      <th>8</th>\n      <td>600</td>\n      <td>600</td>\n      <td>8</td>\n      <td>0.0</td>\n      <td>0.0</td>\n      <td>0</td>\n      <td>0</td>\n      <td>0</td>\n      <td>0</td>\n    </tr>\n    <tr>\n      <th>9</th>\n      <td>600</td>\n      <td>600</td>\n      <td>9</td>\n      <td>0.0</td>\n      <td>0.0</td>\n      <td>0</td>\n      <td>0</td>\n      <td>0</td>\n      <td>0</td>\n    </tr>\n    <tr>\n      <th>10</th>\n      <td>600</td>\n      <td>600</td>\n      <td>10</td>\n      <td>0.0</td>\n      <td>0.0</td>\n      <td>0</td>\n      <td>0</td>\n      <td>0</td>\n      <td>0</td>\n    </tr>\n    <tr>\n      <th>11</th>\n      <td>600</td>\n      <td>600</td>\n      <td>11</td>\n      <td>0.0</td>\n      <td>0.0</td>\n      <td>0</td>\n      <td>0</td>\n      <td>0</td>\n      <td>0</td>\n    </tr>\n    <tr>\n      <th>12</th>\n      <td>600</td>\n      <td>600</td>\n      <td>12</td>\n      <td>0.0</td>\n      <td>0.0</td>\n      <td>0</td>\n      <td>0</td>\n      <td>0</td>\n      <td>0</td>\n    </tr>\n    <tr>\n      <th>13</th>\n      <td>600</td>\n      <td>600</td>\n      <td>13</td>\n      <td>0.0</td>\n      <td>0.0</td>\n      <td>0</td>\n      <td>0</td>\n      <td>0</td>\n      <td>0</td>\n    </tr>\n    <tr>\n      <th>14</th>\n      <td>600</td>\n      <td>600</td>\n      <td>14</td>\n      <td>0.0</td>\n      <td>0.0</td>\n      <td>0</td>\n      <td>0</td>\n      <td>0</td>\n      <td>0</td>\n    </tr>\n    <tr>\n      <th>15</th>\n      <td>600</td>\n      <td>600</td>\n      <td>15</td>\n      <td>0.0</td>\n      <td>0.0</td>\n      <td>0</td>\n      <td>0</td>\n      <td>0</td>\n      <td>0</td>\n    </tr>\n    <tr>\n      <th>16</th>\n      <td>600</td>\n      <td>600</td>\n      <td>16</td>\n      <td>0.0</td>\n      <td>0.0</td>\n      <td>0</td>\n      <td>0</td>\n      <td>0</td>\n      <td>0</td>\n    </tr>\n    <tr>\n      <th>17</th>\n      <td>600</td>\n      <td>600</td>\n      <td>17</td>\n      <td>0.0</td>\n      <td>0.0</td>\n      <td>0</td>\n      <td>0</td>\n      <td>0</td>\n      <td>0</td>\n    </tr>\n    <tr>\n      <th>18</th>\n      <td>600</td>\n      <td>600</td>\n      <td>18</td>\n      <td>0.0</td>\n      <td>0.0</td>\n      <td>0</td>\n      <td>0</td>\n      <td>0</td>\n      <td>0</td>\n    </tr>\n    <tr>\n      <th>19</th>\n      <td>600</td>\n      <td>600</td>\n      <td>19</td>\n      <td>0.0</td>\n      <td>0.0</td>\n      <td>0</td>\n      <td>0</td>\n      <td>0</td>\n      <td>0</td>\n    </tr>\n    <tr>\n      <th>20</th>\n      <td>600</td>\n      <td>600</td>\n      <td>20</td>\n      <td>0.0</td>\n      <td>0.0</td>\n      <td>0</td>\n      <td>0</td>\n      <td>0</td>\n      <td>0</td>\n    </tr>\n    <tr>\n      <th>21</th>\n      <td>600</td>\n      <td>600</td>\n      <td>21</td>\n      <td>0.0</td>\n      <td>0.0</td>\n      <td>0</td>\n      <td>0</td>\n      <td>0</td>\n      <td>0</td>\n    </tr>\n    <tr>\n      <th>22</th>\n      <td>600</td>\n      <td>600</td>\n      <td>22</td>\n      <td>0.0</td>\n      <td>0.0</td>\n      <td>0</td>\n      <td>0</td>\n      <td>0</td>\n      <td>0</td>\n    </tr>\n    <tr>\n      <th>23</th>\n      <td>600</td>\n      <td>600</td>\n      <td>23</td>\n      <td>0.0</td>\n      <td>0.0</td>\n      <td>0</td>\n      <td>0</td>\n      <td>0</td>\n      <td>0</td>\n    </tr>\n    <tr>\n      <th>24</th>\n      <td>600</td>\n      <td>600</td>\n      <td>24</td>\n      <td>0.0</td>\n      <td>0.0</td>\n      <td>0</td>\n      <td>0</td>\n      <td>0</td>\n      <td>0</td>\n    </tr>\n    <tr>\n      <th>25</th>\n      <td>600</td>\n      <td>600</td>\n      <td>25</td>\n      <td>0.0</td>\n      <td>0.0</td>\n      <td>0</td>\n      <td>0</td>\n      <td>0</td>\n      <td>0</td>\n    </tr>\n    <tr>\n      <th>26</th>\n      <td>600</td>\n      <td>600</td>\n      <td>26</td>\n      <td>0.0</td>\n      <td>0.0</td>\n      <td>0</td>\n      <td>0</td>\n      <td>0</td>\n      <td>0</td>\n    </tr>\n    <tr>\n      <th>27</th>\n      <td>600</td>\n      <td>600</td>\n      <td>27</td>\n      <td>0.0</td>\n      <td>0.0</td>\n      <td>0</td>\n      <td>0</td>\n      <td>0</td>\n      <td>0</td>\n    </tr>\n    <tr>\n      <th>28</th>\n      <td>600</td>\n      <td>600</td>\n      <td>28</td>\n      <td>0.0</td>\n      <td>0.0</td>\n      <td>0</td>\n      <td>0</td>\n      <td>0</td>\n      <td>0</td>\n    </tr>\n    <tr>\n      <th>29</th>\n      <td>600</td>\n      <td>600</td>\n      <td>29</td>\n      <td>0.0</td>\n      <td>0.0</td>\n      <td>0</td>\n      <td>0</td>\n      <td>0</td>\n      <td>0</td>\n    </tr>\n    <tr>\n      <th>30</th>\n      <td>600</td>\n      <td>600</td>\n      <td>30</td>\n      <td>0.0</td>\n      <td>0.0</td>\n      <td>0</td>\n      <td>0</td>\n      <td>0</td>\n      <td>0</td>\n    </tr>\n    <tr>\n      <th>31</th>\n      <td>600</td>\n      <td>600</td>\n      <td>31</td>\n      <td>0.0</td>\n      <td>0.0</td>\n      <td>0</td>\n      <td>0</td>\n      <td>0</td>\n      <td>0</td>\n    </tr>\n    <tr>\n      <th>32</th>\n      <td>600</td>\n      <td>600</td>\n      <td>32</td>\n      <td>0.0</td>\n      <td>0.0</td>\n      <td>0</td>\n      <td>0</td>\n      <td>0</td>\n      <td>0</td>\n    </tr>\n    <tr>\n      <th>33</th>\n      <td>600</td>\n      <td>600</td>\n      <td>33</td>\n      <td>0.0</td>\n      <td>0.0</td>\n      <td>0</td>\n      <td>0</td>\n      <td>0</td>\n      <td>0</td>\n    </tr>\n    <tr>\n      <th>34</th>\n      <td>600</td>\n      <td>600</td>\n      <td>34</td>\n      <td>0.0</td>\n      <td>0.0</td>\n      <td>0</td>\n      <td>0</td>\n      <td>0</td>\n      <td>0</td>\n    </tr>\n    <tr>\n      <th>35</th>\n      <td>600</td>\n      <td>600</td>\n      <td>35</td>\n      <td>0.0</td>\n      <td>0.0</td>\n      <td>0</td>\n      <td>0</td>\n      <td>0</td>\n      <td>0</td>\n    </tr>\n    <tr>\n      <th>36</th>\n      <td>600</td>\n      <td>600</td>\n      <td>36</td>\n      <td>0.0</td>\n      <td>0.0</td>\n      <td>0</td>\n      <td>0</td>\n      <td>0</td>\n      <td>0</td>\n    </tr>\n    <tr>\n      <th>37</th>\n      <td>600</td>\n      <td>600</td>\n      <td>37</td>\n      <td>0.0</td>\n      <td>0.0</td>\n      <td>0</td>\n      <td>0</td>\n      <td>0</td>\n      <td>0</td>\n    </tr>\n    <tr>\n      <th>38</th>\n      <td>600</td>\n      <td>600</td>\n      <td>38</td>\n      <td>0.0</td>\n      <td>0.0</td>\n      <td>0</td>\n      <td>0</td>\n      <td>0</td>\n      <td>0</td>\n    </tr>\n    <tr>\n      <th>39</th>\n      <td>600</td>\n      <td>600</td>\n      <td>39</td>\n      <td>0.0</td>\n      <td>0.0</td>\n      <td>0</td>\n      <td>0</td>\n      <td>0</td>\n      <td>0</td>\n    </tr>\n    <tr>\n      <th>40</th>\n      <td>600</td>\n      <td>600</td>\n      <td>40</td>\n      <td>0.0</td>\n      <td>0.0</td>\n      <td>0</td>\n      <td>0</td>\n      <td>0</td>\n      <td>0</td>\n    </tr>\n    <tr>\n      <th>41</th>\n      <td>600</td>\n      <td>600</td>\n      <td>41</td>\n      <td>0.0</td>\n      <td>0.0</td>\n      <td>0</td>\n      <td>0</td>\n      <td>0</td>\n      <td>0</td>\n    </tr>\n    <tr>\n      <th>42</th>\n      <td>600</td>\n      <td>600</td>\n      <td>42</td>\n      <td>0.0</td>\n      <td>0.0</td>\n      <td>0</td>\n      <td>0</td>\n      <td>0</td>\n      <td>0</td>\n    </tr>\n    <tr>\n      <th>43</th>\n      <td>600</td>\n      <td>600</td>\n      <td>43</td>\n      <td>0.0</td>\n      <td>0.0</td>\n      <td>0</td>\n      <td>0</td>\n      <td>0</td>\n      <td>0</td>\n    </tr>\n    <tr>\n      <th>44</th>\n      <td>600</td>\n      <td>600</td>\n      <td>44</td>\n      <td>0.0</td>\n      <td>0.0</td>\n      <td>0</td>\n      <td>0</td>\n      <td>0</td>\n      <td>0</td>\n    </tr>\n    <tr>\n      <th>45</th>\n      <td>600</td>\n      <td>600</td>\n      <td>45</td>\n      <td>0.0</td>\n      <td>0.0</td>\n      <td>0</td>\n      <td>0</td>\n      <td>0</td>\n      <td>0</td>\n    </tr>\n    <tr>\n      <th>46</th>\n      <td>600</td>\n      <td>600</td>\n      <td>46</td>\n      <td>0.0</td>\n      <td>0.0</td>\n      <td>0</td>\n      <td>0</td>\n      <td>0</td>\n      <td>0</td>\n    </tr>\n    <tr>\n      <th>47</th>\n      <td>600</td>\n      <td>600</td>\n      <td>47</td>\n      <td>0.0</td>\n      <td>0.0</td>\n      <td>0</td>\n      <td>0</td>\n      <td>0</td>\n      <td>0</td>\n    </tr>\n  </tbody>\n</table>\n</div>"
     },
     "execution_count": 49,
     "metadata": {},
     "output_type": "execute_result"
    }
   ],
   "source": [
    "add_neighbours_optimized(result_nspecies,600,600)\n"
   ],
   "metadata": {
    "collapsed": false,
    "ExecuteTime": {
     "end_time": "2024-01-04T15:32:41.197475100Z",
     "start_time": "2024-01-04T15:32:41.155182700Z"
    }
   },
   "id": "7b9fd06e234c53a0"
  },
  {
   "cell_type": "markdown",
   "source": [
    "### by another get neighbours call structure"
   ],
   "metadata": {
    "collapsed": false
   },
   "id": "5b5e25fcb0422a9"
  },
  {
   "cell_type": "code",
   "execution_count": null,
   "outputs": [],
   "source": [
    "def get_neighbours_optimized(df,x,y):\n",
    "    \n",
    "    result = pd.DataFrame()\n",
    "\n",
    "    # Define neighbor coordinates\n",
    "    neighbors_coords = [(x+1, y, \"nbr\"), (x-1, y, \"nbl\"), (x, y-1, \"nbu\"), (x, y+1, \"nbd\")]\n",
    "\n",
    "    for nx, ny, nb_type in neighbors_coords:\n",
    "        new_row = df.loc[(df[\"x\"] == nx) & (df[\"y\"] == ny)].copy()\n",
    "\n",
    "        if len(new_row) == 0:\n",
    "            new_row = pd.DataFrame({\n",
    "                \"x\": [nx] * df.shape[0],\n",
    "                \"y\": [ny] * df.shape[0],\n",
    "                \"emission_value\": [0] * df.shape[0],\n",
    "                \"hour\": df[\"hour\"].values,\n",
    "                \"nb_type\": [nb_type] * df.shape[0]\n",
    "            })\n",
    "        else:\n",
    "            new_row[\"nb_type\"] = nb_type\n",
    "\n",
    "        result = pd.concat([result, new_row])\n",
    "\n",
    "    return result.reset_index(drop=True)\n",
    "\n",
    "\n",
    "\n",
    "def add_neighbours_optimized(df,x,y):\n",
    "    '''\n",
    "    \n",
    "        df_cell: adds neighbours to specific cell\n",
    "    '''\n",
    "    df_cell = df[(df[\"x\"] == x) & (df[\"y\"] == y)]\n",
    "\n",
    "    neighbours = get_neighbours(df, x, y)\n",
    "\n",
    "    neighbours_right = neighbours[neighbours[\"nb_type\"] == \"nbr\"]\n",
    "    neighbours_left = neighbours[neighbours[\"nb_type\"] == \"nbl\"]\n",
    "    neighbours_up = neighbours[neighbours[\"nb_type\"] == \"nbu\"]\n",
    "    neighbours_down = neighbours[neighbours[\"nb_type\"] == \"nbd\"]\n",
    "\n",
    "    if not neighbours_right.empty:\n",
    "        df_cell.loc[:, \"nbr\"] = neighbours_right[\"emission_value\"].values\n",
    "    if not neighbours_left.empty:\n",
    "        df_cell.loc[:, \"nbl\"] = neighbours_left[\"emission_value\"].values\n",
    "    if not neighbours_up.empty:\n",
    "        df_cell.loc[:, \"nbu\"] = neighbours_up[\"emission_value\"].values\n",
    "    if not neighbours_down.empty:\n",
    "        df_cell.loc[:, \"nbd\"] = neighbours_down[\"emission_value\"].values\n",
    "\n",
    "    return df_cell.reset_index(drop=True)\n",
    "\n",
    "def complete_df_with_neighbours_optimized(df):\n",
    "    '''\n",
    "        \n",
    "    '''\n",
    "    maximal_x = df[\"x\"].max()\n",
    "    minimal_x = df[\"x\"].min()\n",
    "    maximal_y = df[\"y\"].max()\n",
    "    minimal_y = df[\"y\"].min()\n",
    "\n",
    "    result = []\n",
    "\n",
    "    for i in range(minimal_x, maximal_x + 1):\n",
    "        for j in range(minimal_y, maximal_y + 1):\n",
    "            df_cell = add_neighbours(df, i, j)\n",
    "            result.append(df_cell)\n",
    "\n",
    "    return pd.concat(result, ignore_index=True)"
   ],
   "metadata": {
    "collapsed": false
   },
   "id": "5a14e92fea28242d"
  },
  {
   "cell_type": "markdown",
   "source": [
    "# Reading .nc files"
   ],
   "metadata": {
    "collapsed": false
   },
   "id": "e332702a"
  },
  {
   "cell_type": "markdown",
   "source": [
    "## Chemistry"
   ],
   "metadata": {
    "collapsed": false
   },
   "id": "383fd96233c76dae"
  },
  {
   "cell_type": "code",
   "execution_count": 3,
   "outputs": [],
   "source": [
    "ds = nc.Dataset(\"../data/VALM01_v2_chemistry_N02.nc\")"
   ],
   "metadata": {
    "collapsed": false,
    "ExecuteTime": {
     "end_time": "2024-01-04T14:43:04.411817200Z",
     "start_time": "2024-01-04T14:43:04.267671700Z"
    }
   },
   "id": "7b230817"
  },
  {
   "cell_type": "markdown",
   "source": [
    "## Static"
   ],
   "metadata": {
    "collapsed": false
   },
   "id": "fdbef10ce986ed87"
  },
  {
   "cell_type": "code",
   "execution_count": 4,
   "outputs": [
    {
     "data": {
      "text/plain": "            x  building_height\n0           0          -9999.0\n1           0          -9999.0\n2           0          -9999.0\n3           0          -9999.0\n4           0          -9999.0\n...       ...              ...\n7183355  2943          -9999.0\n7183356  2943          -9999.0\n7183357  2943          -9999.0\n7183358  2943          -9999.0\n7183359  2943          -9999.0\n\n[7183360 rows x 2 columns]",
      "text/html": "<div>\n<style scoped>\n    .dataframe tbody tr th:only-of-type {\n        vertical-align: middle;\n    }\n\n    .dataframe tbody tr th {\n        vertical-align: top;\n    }\n\n    .dataframe thead th {\n        text-align: right;\n    }\n</style>\n<table border=\"1\" class=\"dataframe\">\n  <thead>\n    <tr style=\"text-align: right;\">\n      <th></th>\n      <th>x</th>\n      <th>building_height</th>\n    </tr>\n  </thead>\n  <tbody>\n    <tr>\n      <th>0</th>\n      <td>0</td>\n      <td>-9999.0</td>\n    </tr>\n    <tr>\n      <th>1</th>\n      <td>0</td>\n      <td>-9999.0</td>\n    </tr>\n    <tr>\n      <th>2</th>\n      <td>0</td>\n      <td>-9999.0</td>\n    </tr>\n    <tr>\n      <th>3</th>\n      <td>0</td>\n      <td>-9999.0</td>\n    </tr>\n    <tr>\n      <th>4</th>\n      <td>0</td>\n      <td>-9999.0</td>\n    </tr>\n    <tr>\n      <th>...</th>\n      <td>...</td>\n      <td>...</td>\n    </tr>\n    <tr>\n      <th>7183355</th>\n      <td>2943</td>\n      <td>-9999.0</td>\n    </tr>\n    <tr>\n      <th>7183356</th>\n      <td>2943</td>\n      <td>-9999.0</td>\n    </tr>\n    <tr>\n      <th>7183357</th>\n      <td>2943</td>\n      <td>-9999.0</td>\n    </tr>\n    <tr>\n      <th>7183358</th>\n      <td>2943</td>\n      <td>-9999.0</td>\n    </tr>\n    <tr>\n      <th>7183359</th>\n      <td>2943</td>\n      <td>-9999.0</td>\n    </tr>\n  </tbody>\n</table>\n<p>7183360 rows × 2 columns</p>\n</div>"
     },
     "execution_count": 4,
     "metadata": {},
     "output_type": "execute_result"
    }
   ],
   "source": [
    "ds_static = nc.Dataset(\"../data/VALM01_v2_static.nc\")\n",
    "buildings = pd.DataFrame(ds_static[\"buildings_2d\"][:,:].data)\n",
    "buildings = buildings.melt(var_name = \"x\",value_name = \"building_height\")\n",
    "buildings"
   ],
   "metadata": {
    "collapsed": false,
    "ExecuteTime": {
     "end_time": "2024-01-04T14:43:05.102965800Z",
     "start_time": "2024-01-04T14:43:04.565379300Z"
    }
   },
   "id": "4c368955a9f45d47"
  },
  {
   "cell_type": "code",
   "execution_count": 5,
   "outputs": [
    {
     "data": {
      "text/plain": "            x     y  building_height\n0           0     0              0.0\n1           0     1              0.0\n2           0     2              0.0\n3           0     3              0.0\n4           0     4              0.0\n...       ...   ...              ...\n7183355  2943  2435              0.0\n7183356  2943  2436              0.0\n7183357  2943  2437              0.0\n7183358  2943  2438              0.0\n7183359  2943  2439              0.0\n\n[7183360 rows x 3 columns]",
      "text/html": "<div>\n<style scoped>\n    .dataframe tbody tr th:only-of-type {\n        vertical-align: middle;\n    }\n\n    .dataframe tbody tr th {\n        vertical-align: top;\n    }\n\n    .dataframe thead th {\n        text-align: right;\n    }\n</style>\n<table border=\"1\" class=\"dataframe\">\n  <thead>\n    <tr style=\"text-align: right;\">\n      <th></th>\n      <th>x</th>\n      <th>y</th>\n      <th>building_height</th>\n    </tr>\n  </thead>\n  <tbody>\n    <tr>\n      <th>0</th>\n      <td>0</td>\n      <td>0</td>\n      <td>0.0</td>\n    </tr>\n    <tr>\n      <th>1</th>\n      <td>0</td>\n      <td>1</td>\n      <td>0.0</td>\n    </tr>\n    <tr>\n      <th>2</th>\n      <td>0</td>\n      <td>2</td>\n      <td>0.0</td>\n    </tr>\n    <tr>\n      <th>3</th>\n      <td>0</td>\n      <td>3</td>\n      <td>0.0</td>\n    </tr>\n    <tr>\n      <th>4</th>\n      <td>0</td>\n      <td>4</td>\n      <td>0.0</td>\n    </tr>\n    <tr>\n      <th>...</th>\n      <td>...</td>\n      <td>...</td>\n      <td>...</td>\n    </tr>\n    <tr>\n      <th>7183355</th>\n      <td>2943</td>\n      <td>2435</td>\n      <td>0.0</td>\n    </tr>\n    <tr>\n      <th>7183356</th>\n      <td>2943</td>\n      <td>2436</td>\n      <td>0.0</td>\n    </tr>\n    <tr>\n      <th>7183357</th>\n      <td>2943</td>\n      <td>2437</td>\n      <td>0.0</td>\n    </tr>\n    <tr>\n      <th>7183358</th>\n      <td>2943</td>\n      <td>2438</td>\n      <td>0.0</td>\n    </tr>\n    <tr>\n      <th>7183359</th>\n      <td>2943</td>\n      <td>2439</td>\n      <td>0.0</td>\n    </tr>\n  </tbody>\n</table>\n<p>7183360 rows × 3 columns</p>\n</div>"
     },
     "execution_count": 5,
     "metadata": {},
     "output_type": "execute_result"
    }
   ],
   "source": [
    "ds_static = nc.Dataset(\"../data/VALM01_v2_static.nc\")\n",
    "buildings = pd.DataFrame(ds_static[\"buildings_2d\"][:,:].data)\n",
    "buildings = buildings.melt(var_name = \"x\",value_name = \"building_height\")\n",
    "buildings[\"y\"] = [i%2440 for i in range(buildings.shape[0])]\n",
    "new_cols_order = [\"x\",\"y\",\"building_height\"]\n",
    "buildings = buildings[new_cols_order]\n",
    "buildings.replace(-9999,0,inplace=True) # because strange values where there are no pollutants\n",
    "buildings"
   ],
   "metadata": {
    "collapsed": false,
    "ExecuteTime": {
     "end_time": "2024-01-04T14:43:08.332631100Z",
     "start_time": "2024-01-04T14:43:04.791846900Z"
    }
   },
   "id": "69ee205a39acc28e"
  },
  {
   "cell_type": "code",
   "execution_count": 6,
   "outputs": [
    {
     "data": {
      "text/plain": "array([[-9999., -9999., -9999., ..., -9999., -9999., -9999.],\n       [-9999., -9999., -9999., ..., -9999., -9999., -9999.],\n       [-9999., -9999., -9999., ..., -9999., -9999., -9999.],\n       ...,\n       [-9999., -9999., -9999., ..., -9999., -9999., -9999.],\n       [-9999., -9999., -9999., ..., -9999., -9999., -9999.],\n       [-9999., -9999., -9999., ..., -9999., -9999., -9999.]],\n      dtype=float32)"
     },
     "execution_count": 6,
     "metadata": {},
     "output_type": "execute_result"
    }
   ],
   "source": [
    "ds_static[\"buildings_2d\"][:,:].data"
   ],
   "metadata": {
    "collapsed": false,
    "ExecuteTime": {
     "end_time": "2024-01-04T14:43:08.926522900Z",
     "start_time": "2024-01-04T14:43:08.858488800Z"
    }
   },
   "id": "f40c3d87f3caf4ea"
  },
  {
   "cell_type": "markdown",
   "id": "5cc4f864",
   "metadata": {},
   "source": [
    "# Save information as CSV file"
   ]
  },
  {
   "cell_type": "markdown",
   "id": "34d9ef2c",
   "metadata": {},
   "source": [
    "### DF concatenation"
   ]
  },
  {
   "cell_type": "code",
   "execution_count": 23,
   "id": "6ac35aa7",
   "metadata": {
    "ExecuteTime": {
     "end_time": "2024-01-04T15:07:17.381838300Z",
     "start_time": "2024-01-04T15:07:15.750436300Z"
    }
   },
   "outputs": [],
   "source": [
    "result_nspecies = pd.DataFrame()\n",
    "xrange = [i for i in range(600,680,1)] # Subsetting specific grid part\n",
    "yrange = [i for i in range(600,680,1)] # Subsetting specific grid part\n",
    "for i in range(48):\n",
    "    pd_ihour_nspecies = pd.DataFrame(ds[\"emission_values\"][i,0,yrange,xrange,0].data) #[hour,z,y,x,species]\n",
    "    pd_ihour_nspecies.index = yrange\n",
    "    pd_ihour_nspecies.columns = xrange\n",
    "    pd_ihour_nspecies = pd.melt(pd_ihour_nspecies,var_name = \"x\",value_name = \"emission_value\")\n",
    "    pd_ihour_nspecies[\"y\"] = [i%len(yrange)+yrange[0] for i in range(pd_ihour_nspecies.shape[0])]\n",
    "    pd_ihour_nspecies[\"hour\"] = i\n",
    "    #pd_ihour_nspecies = pd_ihour_nspecies.sort_values([\"x\",\"y\"])\n",
    "    #buildings = buildings.sort_values([\"x\",\"y\"])\n",
    "    #pd_ihour_nspecies[\"building_height\"] = buildings[\"building_height\"]\n",
    "    #pd_ihour_nspecies=pd.merge(pd_ihour_nspecies,buildings, how= \"inner\",on = [\"x\",\"y\"])\n",
    "    result_nspecies= pd.concat([result_nspecies,pd_ihour_nspecies])\n",
    "\n",
    "result_nspecies=pd.merge(result_nspecies,buildings, how= \"inner\",on = [\"x\",\"y\"])"
   ]
  },
  {
   "cell_type": "code",
   "execution_count": 24,
   "outputs": [
    {
     "data": {
      "text/plain": "          x    y  hour  building_height  emission_value\n0       600  600     0              0.0             0.0\n1       600  600     1              0.0             0.0\n2       600  600     2              0.0             0.0\n3       600  600     3              0.0             0.0\n4       600  600     4              0.0             0.0\n...     ...  ...   ...              ...             ...\n307195  679  679    43              0.0             0.0\n307196  679  679    44              0.0             0.0\n307197  679  679    45              0.0             0.0\n307198  679  679    46              0.0             0.0\n307199  679  679    47              0.0             0.0\n\n[307200 rows x 5 columns]",
      "text/html": "<div>\n<style scoped>\n    .dataframe tbody tr th:only-of-type {\n        vertical-align: middle;\n    }\n\n    .dataframe tbody tr th {\n        vertical-align: top;\n    }\n\n    .dataframe thead th {\n        text-align: right;\n    }\n</style>\n<table border=\"1\" class=\"dataframe\">\n  <thead>\n    <tr style=\"text-align: right;\">\n      <th></th>\n      <th>x</th>\n      <th>y</th>\n      <th>hour</th>\n      <th>building_height</th>\n      <th>emission_value</th>\n    </tr>\n  </thead>\n  <tbody>\n    <tr>\n      <th>0</th>\n      <td>600</td>\n      <td>600</td>\n      <td>0</td>\n      <td>0.0</td>\n      <td>0.0</td>\n    </tr>\n    <tr>\n      <th>1</th>\n      <td>600</td>\n      <td>600</td>\n      <td>1</td>\n      <td>0.0</td>\n      <td>0.0</td>\n    </tr>\n    <tr>\n      <th>2</th>\n      <td>600</td>\n      <td>600</td>\n      <td>2</td>\n      <td>0.0</td>\n      <td>0.0</td>\n    </tr>\n    <tr>\n      <th>3</th>\n      <td>600</td>\n      <td>600</td>\n      <td>3</td>\n      <td>0.0</td>\n      <td>0.0</td>\n    </tr>\n    <tr>\n      <th>4</th>\n      <td>600</td>\n      <td>600</td>\n      <td>4</td>\n      <td>0.0</td>\n      <td>0.0</td>\n    </tr>\n    <tr>\n      <th>...</th>\n      <td>...</td>\n      <td>...</td>\n      <td>...</td>\n      <td>...</td>\n      <td>...</td>\n    </tr>\n    <tr>\n      <th>307195</th>\n      <td>679</td>\n      <td>679</td>\n      <td>43</td>\n      <td>0.0</td>\n      <td>0.0</td>\n    </tr>\n    <tr>\n      <th>307196</th>\n      <td>679</td>\n      <td>679</td>\n      <td>44</td>\n      <td>0.0</td>\n      <td>0.0</td>\n    </tr>\n    <tr>\n      <th>307197</th>\n      <td>679</td>\n      <td>679</td>\n      <td>45</td>\n      <td>0.0</td>\n      <td>0.0</td>\n    </tr>\n    <tr>\n      <th>307198</th>\n      <td>679</td>\n      <td>679</td>\n      <td>46</td>\n      <td>0.0</td>\n      <td>0.0</td>\n    </tr>\n    <tr>\n      <th>307199</th>\n      <td>679</td>\n      <td>679</td>\n      <td>47</td>\n      <td>0.0</td>\n      <td>0.0</td>\n    </tr>\n  </tbody>\n</table>\n<p>307200 rows × 5 columns</p>\n</div>"
     },
     "execution_count": 24,
     "metadata": {},
     "output_type": "execute_result"
    }
   ],
   "source": [
    "#result_nspecies[\"building_height\"] = buildings.loc[(buildings[\"x\"]<50) & (buildings[\"y\"]<50)][\"building_height\"]\n",
    "new_cols_order = [\"x\",\"y\",\"hour\",\"building_height\",\"emission_value\"]\n",
    "result_nspecies= result_nspecies[new_cols_order]\n",
    "result_nspecies"
   ],
   "metadata": {
    "collapsed": false,
    "ExecuteTime": {
     "end_time": "2024-01-04T15:07:17.417789Z",
     "start_time": "2024-01-04T15:07:17.372677900Z"
    }
   },
   "id": "f361b7266bb19522"
  },
  {
   "cell_type": "markdown",
   "id": "6bf7d67a",
   "metadata": {},
   "source": [
    "# PALM Output files"
   ]
  },
  {
   "cell_type": "markdown",
   "id": "2f7fecc7",
   "metadata": {},
   "source": [
    "### Download"
   ]
  },
  {
   "cell_type": "code",
   "execution_count": 10,
   "id": "bcfd8f5c",
   "metadata": {
    "ExecuteTime": {
     "end_time": "2024-01-04T14:44:10.368825Z",
     "start_time": "2024-01-04T14:44:10.144830200Z"
    }
   },
   "outputs": [],
   "source": [
    "output_emissions_no2_0 = nc.Dataset(\"../data/photoshade_6km10m_lod2_av_masked_M01.000.nc\")\n",
    "output_emissions_no2_1 = nc.Dataset(\"../data/photoshade_6km10m_lod2_av_masked_M01.001.nc\")\n",
    "output_emissions_no2_2 = nc.Dataset(\"../data/photoshade_6km10m_lod2_av_masked_M01.002.nc\")\n",
    "output_emissions_no2_3 = nc.Dataset(\"../data/photoshade_6km10m_lod2_av_masked_M01.003.nc\")\n",
    "output_emissions_no2_4 = nc.Dataset(\"../data/photoshade_6km10m_lod2_av_masked_M01.004.nc\")\n",
    "\n",
    "output_emissions_no2_list = [output_emissions_no2_0,\n",
    "                             output_emissions_no2_1,\n",
    "                             output_emissions_no2_2,\n",
    "                             output_emissions_no2_3,\n",
    "                             output_emissions_no2_4,]"
   ]
  },
  {
   "cell_type": "code",
   "execution_count": 11,
   "outputs": [
    {
     "data": {
      "text/plain": "<class 'netCDF4._netCDF4.Dataset'>\nroot group (NETCDF4 data model, file format HDF5):\n    title: PALM 21.10  run: photoshade_6km10m_lod2.00  host: basit  2022-06-17 16:48:38\n    Conventions: CF-1.7\n    creation_time: 2022-06-17 16:48:38 +02\n    data_content: podsmasked\n    version: 1\n    origin_time: 2017-07-17 00:00:00 +00\n    origin_lat: 52.48975372314453\n    origin_lon: 13.273119926452637\n    origin_x: 382751.5\n    origin_y: 5816914.0\n    origin_z: 25.382944107055664\n    rotation_angle: 0.0\n    dependencies: \n    history: \n    author: Basit Khan, basit.khan@kit.edu\n    contact_person: \n    institution: Karlsruher Institute of Technology, IMK-IFU, Alpin Campus, GaPa\n    acronym: KIT/IMK-IFU\n    campaign: summer iop02\n    location: Berlin\n    site: Berlin Mitte\n    source: PALM 21.10\n    references: text\n    keywords: text\n    licence: \n    comment: created with palm_csd\n    time_avg:  3600.0 s avg\n    VAR_LIST: ;kc_NO;kc_NO2;kc_O3;kc_PM10;\n    dimensions(sizes): time(3), ku_above_surf(8), kw_above_surf(8), x(672), xu(672), y(672), yv(672), zs_3d(8)\n    variables(dimensions): float64 time(time), float64 ku_above_surf(ku_above_surf), float64 kw_above_surf(kw_above_surf), float64 x(x), float64 xu(xu), float64 y(y), float64 yv(yv), float64 E_UTM(x), float64 N_UTM(y), float64 Eu_UTM(xu), float64 Nu_UTM(y), float64 Ev_UTM(x), float64 Nv_UTM(yv), float64 lon(y, x), float64 lat(y, x), float64 lonu(y, xu), float64 latu(y, xu), float64 lonv(yv, x), float64 latv(yv, x), int32 crs(), float64 zs_3d(zs_3d), float32 kc_NO(time, ku_above_surf, y, x), float32 kc_NO2(time, ku_above_surf, y, x), float32 kc_O3(time, ku_above_surf, y, x), float32 kc_PM10(time, ku_above_surf, y, x)\n    groups: "
     },
     "execution_count": 11,
     "metadata": {},
     "output_type": "execute_result"
    }
   ],
   "source": [
    "output_emissions_no2_0"
   ],
   "metadata": {
    "collapsed": false,
    "ExecuteTime": {
     "end_time": "2024-01-04T14:44:10.405187900Z",
     "start_time": "2024-01-04T14:44:10.290864200Z"
    }
   },
   "id": "251328065938338e"
  },
  {
   "cell_type": "markdown",
   "source": [
    "### Need to reformat to match input emissions grid dataframe"
   ],
   "metadata": {
    "collapsed": false
   },
   "id": "5c272ced5a63176f"
  },
  {
   "cell_type": "code",
   "execution_count": 26,
   "outputs": [],
   "source": [
    "result_1species_output = pd.DataFrame()\n",
    "xrange = [i for i in range(100,180,1)] # Subsetting specific grid part\n",
    "yrange = [i for i in range(100,180,1)] # Subsetting specific grid part\n",
    "pollutant = \"kc_NO2\"\n",
    "for output_table in output_emissions_no2_list:\n",
    "    timebins = (output_table[\"time\"][:].data/3600).astype(int) # getting hours array (after conversion from seconds to hours)\n",
    "    for i in range(len(timebins)):\n",
    "        pd_ihour_1species = pd.DataFrame(output_table[pollutant][i,0,yrange,xrange].data)#(netcdf format [hour,y,x])\n",
    "        pd_ihour_1species.index = yrange\n",
    "        pd_ihour_1species.columns = xrange\n",
    "        pd_ihour_1species = pd.melt(pd_ihour_1species,var_name = \"x\",value_name = \"emission_value\")\n",
    "        pd_ihour_1species[\"y\"] = [i%len(yrange)+yrange[0] for i in range(pd_ihour_1species.shape[0])]\n",
    "        pd_ihour_1species[\"hour\"] = timebins[i]-1\n",
    "        result_1species_output= pd.concat([result_1species_output,pd_ihour_1species])"
   ],
   "metadata": {
    "collapsed": false,
    "ExecuteTime": {
     "end_time": "2024-01-04T15:08:03.814442900Z",
     "start_time": "2024-01-04T15:08:03.320256500Z"
    }
   },
   "id": "1710592c0c27c045"
  },
  {
   "cell_type": "code",
   "execution_count": 27,
   "outputs": [
    {
     "data": {
      "text/plain": "        x    y  hour  emission_value\n0     100  100     0        0.010025\n1     100  101     0        0.010029\n2     100  102     0        0.010041\n3     100  103     0        0.010055\n4     100  104     0        0.010065\n...   ...  ...   ...             ...\n6395  179  175    47        0.000000\n6396  179  176    47        0.000000\n6397  179  177    47        0.000000\n6398  179  178    47        0.000000\n6399  179  179    47        0.000000\n\n[307200 rows x 4 columns]",
      "text/html": "<div>\n<style scoped>\n    .dataframe tbody tr th:only-of-type {\n        vertical-align: middle;\n    }\n\n    .dataframe tbody tr th {\n        vertical-align: top;\n    }\n\n    .dataframe thead th {\n        text-align: right;\n    }\n</style>\n<table border=\"1\" class=\"dataframe\">\n  <thead>\n    <tr style=\"text-align: right;\">\n      <th></th>\n      <th>x</th>\n      <th>y</th>\n      <th>hour</th>\n      <th>emission_value</th>\n    </tr>\n  </thead>\n  <tbody>\n    <tr>\n      <th>0</th>\n      <td>100</td>\n      <td>100</td>\n      <td>0</td>\n      <td>0.010025</td>\n    </tr>\n    <tr>\n      <th>1</th>\n      <td>100</td>\n      <td>101</td>\n      <td>0</td>\n      <td>0.010029</td>\n    </tr>\n    <tr>\n      <th>2</th>\n      <td>100</td>\n      <td>102</td>\n      <td>0</td>\n      <td>0.010041</td>\n    </tr>\n    <tr>\n      <th>3</th>\n      <td>100</td>\n      <td>103</td>\n      <td>0</td>\n      <td>0.010055</td>\n    </tr>\n    <tr>\n      <th>4</th>\n      <td>100</td>\n      <td>104</td>\n      <td>0</td>\n      <td>0.010065</td>\n    </tr>\n    <tr>\n      <th>...</th>\n      <td>...</td>\n      <td>...</td>\n      <td>...</td>\n      <td>...</td>\n    </tr>\n    <tr>\n      <th>6395</th>\n      <td>179</td>\n      <td>175</td>\n      <td>47</td>\n      <td>0.000000</td>\n    </tr>\n    <tr>\n      <th>6396</th>\n      <td>179</td>\n      <td>176</td>\n      <td>47</td>\n      <td>0.000000</td>\n    </tr>\n    <tr>\n      <th>6397</th>\n      <td>179</td>\n      <td>177</td>\n      <td>47</td>\n      <td>0.000000</td>\n    </tr>\n    <tr>\n      <th>6398</th>\n      <td>179</td>\n      <td>178</td>\n      <td>47</td>\n      <td>0.000000</td>\n    </tr>\n    <tr>\n      <th>6399</th>\n      <td>179</td>\n      <td>179</td>\n      <td>47</td>\n      <td>0.000000</td>\n    </tr>\n  </tbody>\n</table>\n<p>307200 rows × 4 columns</p>\n</div>"
     },
     "execution_count": 27,
     "metadata": {},
     "output_type": "execute_result"
    }
   ],
   "source": [
    "result_1species_output.replace(-9999,0,inplace=True) # because strange values where there are no pollutants\n",
    "result_1species_output = result_1species_output[[\"x\",\"y\",\"hour\",\"emission_value\"]]\n",
    "result_1species_output"
   ],
   "metadata": {
    "collapsed": false,
    "ExecuteTime": {
     "end_time": "2024-01-04T15:08:05.631551800Z",
     "start_time": "2024-01-04T15:08:05.574603Z"
    }
   },
   "id": "d01b3d9dc96c0395"
  },
  {
   "cell_type": "markdown",
   "id": "50135bef",
   "metadata": {},
   "source": [
    "# Plot pollution distribution"
   ]
  },
  {
   "cell_type": "code",
   "execution_count": 28,
   "outputs": [],
   "source": [
    "def make_heatmap_from_pd(result_dataframe,hour,target_name = \"emission_value\"):\n",
    "    result_1specieshour = result_dataframe.loc[result_dataframe[\"hour\"] == hour]\n",
    "    result_1specieshour = result_1specieshour[[\"x\",\"y\",target_name]]\n",
    "    x = result_1specieshour[\"x\"].max() - result_1specieshour[\"x\"].min() + 1\n",
    "    y = result_1specieshour[\"y\"].max() - result_1specieshour[\"y\"].min() + 1\n",
    "    v = result_1specieshour[target_name].to_numpy().reshape((x, y))\n",
    "    indices = result_1specieshour[[\"x\", 'y']].to_numpy().T\n",
    "    indices[0] = indices[0] - indices[0].min()\n",
    "    indices[1] = indices[1] - indices[1].min()\n",
    "\n",
    "    v = np.tile(np.nan, indices.max(axis=1)+1)\n",
    "    v[tuple(indices)] = result_1specieshour[target_name]\n",
    "    ax = sns.heatmap(v)\n",
    "    ax.invert_yaxis()\n",
    "    plt.show()"
   ],
   "metadata": {
    "collapsed": false,
    "ExecuteTime": {
     "end_time": "2024-01-04T15:08:09.426284600Z",
     "start_time": "2024-01-04T15:08:09.401350300Z"
    }
   },
   "id": "127961f7b4aac7c"
  },
  {
   "cell_type": "code",
   "execution_count": 29,
   "outputs": [
    {
     "data": {
      "text/plain": "<Figure size 432x288 with 2 Axes>",
      "image/png": "[encoded data removed]"
     },
     "metadata": {
      "needs_background": "light"
     },
     "output_type": "display_data"
    }
   ],
   "source": [
    "#plotting\n",
    "hour = 36\n",
    "plt.subplot(2,1,1)\n",
    "make_heatmap_from_pd(result_nspecies,hour,target_name=\"building_height\")\n",
    "#plt.subplot(2,1,2)\n",
    "#make_heatmap_from_pd(result_1species_output,hour,target_name=\"emission_value\")"
   ],
   "metadata": {
    "collapsed": false,
    "ExecuteTime": {
     "end_time": "2024-01-04T15:08:11.641690700Z",
     "start_time": "2024-01-04T15:08:10.977632800Z"
    }
   },
   "id": "ab4458c6744ec91b"
  },
  {
   "cell_type": "code",
   "execution_count": null,
   "outputs": [],
   "source": [
    "b_height = ds_static[\"buildings_2d\"][:,:].data\n",
    "b_height[b_height == -9999] = 0\n",
    "ax = sns.heatmap(b_height)\n",
    "plt.show()"
   ],
   "metadata": {
    "collapsed": false,
    "ExecuteTime": {
     "end_time": "2023-11-15T10:39:00.677026900Z",
     "start_time": "2023-11-15T10:39:00.675995100Z"
    }
   },
   "id": "bfdd3e67daae3a05"
  },
  {
   "cell_type": "code",
   "execution_count": null,
   "outputs": [],
   "source": [
    "make_heatmap_from_pd(result_nspecies,hour,target_name=\"building_height\")"
   ],
   "metadata": {
    "collapsed": false,
    "ExecuteTime": {
     "start_time": "2023-11-15T10:39:00.677026900Z"
    }
   },
   "id": "c031c82a1a1f5cdf"
  },
  {
   "cell_type": "code",
   "execution_count": null,
   "outputs": [],
   "source": [
    "#Plot ranges\n",
    "xrange = [i for i in range(0,670,1)]\n",
    "yrange = [i for i in range(0,670,1)]\n",
    "#Data preparing\n",
    "in_data = ds[\"emission_values\"][0,0,yrange,xrange,1].data          #[hour,z,y,x,nspecies]\n",
    "out_data = pd.DataFrame(output_emissions_no2_3[\"kc_NO\"][0,0,yrange,xrange].data) #[hour,ku_surf_above,y,x]\n",
    "out_data[out_data ==-9999] = 0\n",
    "#plotting\n",
    "plt.subplot(2,1,1)\n",
    "ax = sns.heatmap(in_data)\n",
    "plt.show()\n",
    "plt.subplot(2,1,2)\n",
    "ax = sns.heatmap(out_data)\n",
    "plt.show()"
   ],
   "metadata": {
    "collapsed": false,
    "ExecuteTime": {
     "end_time": "2023-11-15T10:39:00.713502500Z",
     "start_time": "2023-11-15T10:39:00.678078800Z"
    }
   },
   "id": "3af25125"
  },
  {
   "cell_type": "markdown",
   "source": [
    "# Outputing relevant information in csvs"
   ],
   "metadata": {
    "collapsed": false
   },
   "id": "3d852c1e516e5e07"
  },
  {
   "cell_type": "code",
   "execution_count": 52,
   "outputs": [
    {
     "data": {
      "text/plain": "      x    y  hour  building_height  emission_value  nbr  nbl  nbu  nbd\n0   600  600     0              0.0             0.0  0.0  0.0  0.0  0.0\n1   600  600     1              0.0             0.0  0.0  0.0  0.0  0.0\n2   600  600     2              0.0             0.0  0.0  0.0  0.0  0.0\n3   600  600     3              0.0             0.0  0.0  0.0  0.0  0.0\n4   600  600     4              0.0             0.0  0.0  0.0  0.0  0.0\n..  ...  ...   ...              ...             ...  ...  ...  ...  ...\n43  679  679    43              0.0             0.0  0.0  0.0  0.0  0.0\n44  679  679    44              0.0             0.0  0.0  0.0  0.0  0.0\n45  679  679    45              0.0             0.0  0.0  0.0  0.0  0.0\n46  679  679    46              0.0             0.0  0.0  0.0  0.0  0.0\n47  679  679    47              0.0             0.0  0.0  0.0  0.0  0.0\n\n[307200 rows x 9 columns]",
      "text/html": "<div>\n<style scoped>\n    .dataframe tbody tr th:only-of-type {\n        vertical-align: middle;\n    }\n\n    .dataframe tbody tr th {\n        vertical-align: top;\n    }\n\n    .dataframe thead th {\n        text-align: right;\n    }\n</style>\n<table border=\"1\" class=\"dataframe\">\n  <thead>\n    <tr style=\"text-align: right;\">\n      <th></th>\n      <th>x</th>\n      <th>y</th>\n      <th>hour</th>\n      <th>building_height</th>\n      <th>emission_value</th>\n      <th>nbr</th>\n      <th>nbl</th>\n      <th>nbu</th>\n      <th>nbd</th>\n    </tr>\n  </thead>\n  <tbody>\n    <tr>\n      <th>0</th>\n      <td>600</td>\n      <td>600</td>\n      <td>0</td>\n      <td>0.0</td>\n      <td>0.0</td>\n      <td>0.0</td>\n      <td>0.0</td>\n      <td>0.0</td>\n      <td>0.0</td>\n    </tr>\n    <tr>\n      <th>1</th>\n      <td>600</td>\n      <td>600</td>\n      <td>1</td>\n      <td>0.0</td>\n      <td>0.0</td>\n      <td>0.0</td>\n      <td>0.0</td>\n      <td>0.0</td>\n      <td>0.0</td>\n    </tr>\n    <tr>\n      <th>2</th>\n      <td>600</td>\n      <td>600</td>\n      <td>2</td>\n      <td>0.0</td>\n      <td>0.0</td>\n      <td>0.0</td>\n      <td>0.0</td>\n      <td>0.0</td>\n      <td>0.0</td>\n    </tr>\n    <tr>\n      <th>3</th>\n      <td>600</td>\n      <td>600</td>\n      <td>3</td>\n      <td>0.0</td>\n      <td>0.0</td>\n      <td>0.0</td>\n      <td>0.0</td>\n      <td>0.0</td>\n      <td>0.0</td>\n    </tr>\n    <tr>\n      <th>4</th>\n      <td>600</td>\n      <td>600</td>\n      <td>4</td>\n      <td>0.0</td>\n      <td>0.0</td>\n      <td>0.0</td>\n      <td>0.0</td>\n      <td>0.0</td>\n      <td>0.0</td>\n    </tr>\n    <tr>\n      <th>...</th>\n      <td>...</td>\n      <td>...</td>\n      <td>...</td>\n      <td>...</td>\n      <td>...</td>\n      <td>...</td>\n      <td>...</td>\n      <td>...</td>\n      <td>...</td>\n    </tr>\n    <tr>\n      <th>43</th>\n      <td>679</td>\n      <td>679</td>\n      <td>43</td>\n      <td>0.0</td>\n      <td>0.0</td>\n      <td>0.0</td>\n      <td>0.0</td>\n      <td>0.0</td>\n      <td>0.0</td>\n    </tr>\n    <tr>\n      <th>44</th>\n      <td>679</td>\n      <td>679</td>\n      <td>44</td>\n      <td>0.0</td>\n      <td>0.0</td>\n      <td>0.0</td>\n      <td>0.0</td>\n      <td>0.0</td>\n      <td>0.0</td>\n    </tr>\n    <tr>\n      <th>45</th>\n      <td>679</td>\n      <td>679</td>\n      <td>45</td>\n      <td>0.0</td>\n      <td>0.0</td>\n      <td>0.0</td>\n      <td>0.0</td>\n      <td>0.0</td>\n      <td>0.0</td>\n    </tr>\n    <tr>\n      <th>46</th>\n      <td>679</td>\n      <td>679</td>\n      <td>46</td>\n      <td>0.0</td>\n      <td>0.0</td>\n      <td>0.0</td>\n      <td>0.0</td>\n      <td>0.0</td>\n      <td>0.0</td>\n    </tr>\n    <tr>\n      <th>47</th>\n      <td>679</td>\n      <td>679</td>\n      <td>47</td>\n      <td>0.0</td>\n      <td>0.0</td>\n      <td>0.0</td>\n      <td>0.0</td>\n      <td>0.0</td>\n      <td>0.0</td>\n    </tr>\n  </tbody>\n</table>\n<p>307200 rows × 9 columns</p>\n</div>"
     },
     "execution_count": 52,
     "metadata": {},
     "output_type": "execute_result"
    }
   ],
   "source": [
    "completed_1species = complete_df_with_neighbours(result_nspecies)\n",
    "completed_1species"
   ],
   "metadata": {
    "collapsed": false,
    "ExecuteTime": {
     "end_time": "2024-01-04T15:33:54.270451Z",
     "start_time": "2024-01-04T15:32:49.480401900Z"
    }
   },
   "id": "3bd475d7f45dceaf"
  },
  {
   "cell_type": "code",
   "execution_count": 53,
   "outputs": [
    {
     "data": {
      "text/plain": "          x    y  hour  building_height  emission_value  nbr  nbl  nbu  nbd\n0       600  600     0              0.0             0.0    0    0    0    0\n1       600  600     1              0.0             0.0    0    0    0    0\n2       600  600     2              0.0             0.0    0    0    0    0\n3       600  600     3              0.0             0.0    0    0    0    0\n4       600  600     4              0.0             0.0    0    0    0    0\n...     ...  ...   ...              ...             ...  ...  ...  ...  ...\n307195  679  679    43              0.0             0.0    0    0    0    0\n307196  679  679    44              0.0             0.0    0    0    0    0\n307197  679  679    45              0.0             0.0    0    0    0    0\n307198  679  679    46              0.0             0.0    0    0    0    0\n307199  679  679    47              0.0             0.0    0    0    0    0\n\n[307200 rows x 9 columns]",
      "text/html": "<div>\n<style scoped>\n    .dataframe tbody tr th:only-of-type {\n        vertical-align: middle;\n    }\n\n    .dataframe tbody tr th {\n        vertical-align: top;\n    }\n\n    .dataframe thead th {\n        text-align: right;\n    }\n</style>\n<table border=\"1\" class=\"dataframe\">\n  <thead>\n    <tr style=\"text-align: right;\">\n      <th></th>\n      <th>x</th>\n      <th>y</th>\n      <th>hour</th>\n      <th>building_height</th>\n      <th>emission_value</th>\n      <th>nbr</th>\n      <th>nbl</th>\n      <th>nbu</th>\n      <th>nbd</th>\n    </tr>\n  </thead>\n  <tbody>\n    <tr>\n      <th>0</th>\n      <td>600</td>\n      <td>600</td>\n      <td>0</td>\n      <td>0.0</td>\n      <td>0.0</td>\n      <td>0</td>\n      <td>0</td>\n      <td>0</td>\n      <td>0</td>\n    </tr>\n    <tr>\n      <th>1</th>\n      <td>600</td>\n      <td>600</td>\n      <td>1</td>\n      <td>0.0</td>\n      <td>0.0</td>\n      <td>0</td>\n      <td>0</td>\n      <td>0</td>\n      <td>0</td>\n    </tr>\n    <tr>\n      <th>2</th>\n      <td>600</td>\n      <td>600</td>\n      <td>2</td>\n      <td>0.0</td>\n      <td>0.0</td>\n      <td>0</td>\n      <td>0</td>\n      <td>0</td>\n      <td>0</td>\n    </tr>\n    <tr>\n      <th>3</th>\n      <td>600</td>\n      <td>600</td>\n      <td>3</td>\n      <td>0.0</td>\n      <td>0.0</td>\n      <td>0</td>\n      <td>0</td>\n      <td>0</td>\n      <td>0</td>\n    </tr>\n    <tr>\n      <th>4</th>\n      <td>600</td>\n      <td>600</td>\n      <td>4</td>\n      <td>0.0</td>\n      <td>0.0</td>\n      <td>0</td>\n      <td>0</td>\n      <td>0</td>\n      <td>0</td>\n    </tr>\n    <tr>\n      <th>...</th>\n      <td>...</td>\n      <td>...</td>\n      <td>...</td>\n      <td>...</td>\n      <td>...</td>\n      <td>...</td>\n      <td>...</td>\n      <td>...</td>\n      <td>...</td>\n    </tr>\n    <tr>\n      <th>307195</th>\n      <td>679</td>\n      <td>679</td>\n      <td>43</td>\n      <td>0.0</td>\n      <td>0.0</td>\n      <td>0</td>\n      <td>0</td>\n      <td>0</td>\n      <td>0</td>\n    </tr>\n    <tr>\n      <th>307196</th>\n      <td>679</td>\n      <td>679</td>\n      <td>44</td>\n      <td>0.0</td>\n      <td>0.0</td>\n      <td>0</td>\n      <td>0</td>\n      <td>0</td>\n      <td>0</td>\n    </tr>\n    <tr>\n      <th>307197</th>\n      <td>679</td>\n      <td>679</td>\n      <td>45</td>\n      <td>0.0</td>\n      <td>0.0</td>\n      <td>0</td>\n      <td>0</td>\n      <td>0</td>\n      <td>0</td>\n    </tr>\n    <tr>\n      <th>307198</th>\n      <td>679</td>\n      <td>679</td>\n      <td>46</td>\n      <td>0.0</td>\n      <td>0.0</td>\n      <td>0</td>\n      <td>0</td>\n      <td>0</td>\n      <td>0</td>\n    </tr>\n    <tr>\n      <th>307199</th>\n      <td>679</td>\n      <td>679</td>\n      <td>47</td>\n      <td>0.0</td>\n      <td>0.0</td>\n      <td>0</td>\n      <td>0</td>\n      <td>0</td>\n      <td>0</td>\n    </tr>\n  </tbody>\n</table>\n<p>307200 rows × 9 columns</p>\n</div>"
     },
     "execution_count": 53,
     "metadata": {},
     "output_type": "execute_result"
    }
   ],
   "source": [
    "completed_1species_opt = complete_df_with_neighbours_optimized(result_nspecies)\n",
    "completed_1species_opt"
   ],
   "metadata": {
    "collapsed": false,
    "ExecuteTime": {
     "end_time": "2024-01-04T15:34:31.211368300Z",
     "start_time": "2024-01-04T15:33:54.269471800Z"
    }
   },
   "id": "bec5bdf7066669e1"
  },
  {
   "cell_type": "code",
   "execution_count": 31,
   "outputs": [
    {
     "data": {
      "text/plain": "      x    y  hour  emission_value       nbr  nbl  nbu       nbd\n0   100  100     0        0.010025  0.010021  0.0  0.0  0.010029\n1   100  100     1        0.009186  0.009170  0.0  0.0  0.009175\n2   100  100     2        0.009788  0.009745  0.0  0.0  0.009766\n3   100  100     3        0.015155  0.014936  0.0  0.0  0.015148\n4   100  100     4        0.014620  0.014357  0.0  0.0  0.014457\n..  ...  ...   ...             ...       ...  ...  ...       ...\n43  179  179    43        0.000000  0.000000  0.0  0.0  0.000000\n44  179  179    44        0.000000  0.000000  0.0  0.0  0.000000\n45  179  179    45        0.000000  0.000000  0.0  0.0  0.000000\n46  179  179    46        0.000000  0.000000  0.0  0.0  0.000000\n47  179  179    47        0.000000  0.000000  0.0  0.0  0.000000\n\n[307200 rows x 8 columns]",
      "text/html": "<div>\n<style scoped>\n    .dataframe tbody tr th:only-of-type {\n        vertical-align: middle;\n    }\n\n    .dataframe tbody tr th {\n        vertical-align: top;\n    }\n\n    .dataframe thead th {\n        text-align: right;\n    }\n</style>\n<table border=\"1\" class=\"dataframe\">\n  <thead>\n    <tr style=\"text-align: right;\">\n      <th></th>\n      <th>x</th>\n      <th>y</th>\n      <th>hour</th>\n      <th>emission_value</th>\n      <th>nbr</th>\n      <th>nbl</th>\n      <th>nbu</th>\n      <th>nbd</th>\n    </tr>\n  </thead>\n  <tbody>\n    <tr>\n      <th>0</th>\n      <td>100</td>\n      <td>100</td>\n      <td>0</td>\n      <td>0.010025</td>\n      <td>0.010021</td>\n      <td>0.0</td>\n      <td>0.0</td>\n      <td>0.010029</td>\n    </tr>\n    <tr>\n      <th>1</th>\n      <td>100</td>\n      <td>100</td>\n      <td>1</td>\n      <td>0.009186</td>\n      <td>0.009170</td>\n      <td>0.0</td>\n      <td>0.0</td>\n      <td>0.009175</td>\n    </tr>\n    <tr>\n      <th>2</th>\n      <td>100</td>\n      <td>100</td>\n      <td>2</td>\n      <td>0.009788</td>\n      <td>0.009745</td>\n      <td>0.0</td>\n      <td>0.0</td>\n      <td>0.009766</td>\n    </tr>\n    <tr>\n      <th>3</th>\n      <td>100</td>\n      <td>100</td>\n      <td>3</td>\n      <td>0.015155</td>\n      <td>0.014936</td>\n      <td>0.0</td>\n      <td>0.0</td>\n      <td>0.015148</td>\n    </tr>\n    <tr>\n      <th>4</th>\n      <td>100</td>\n      <td>100</td>\n      <td>4</td>\n      <td>0.014620</td>\n      <td>0.014357</td>\n      <td>0.0</td>\n      <td>0.0</td>\n      <td>0.014457</td>\n    </tr>\n    <tr>\n      <th>...</th>\n      <td>...</td>\n      <td>...</td>\n      <td>...</td>\n      <td>...</td>\n      <td>...</td>\n      <td>...</td>\n      <td>...</td>\n      <td>...</td>\n    </tr>\n    <tr>\n      <th>43</th>\n      <td>179</td>\n      <td>179</td>\n      <td>43</td>\n      <td>0.000000</td>\n      <td>0.000000</td>\n      <td>0.0</td>\n      <td>0.0</td>\n      <td>0.000000</td>\n    </tr>\n    <tr>\n      <th>44</th>\n      <td>179</td>\n      <td>179</td>\n      <td>44</td>\n      <td>0.000000</td>\n      <td>0.000000</td>\n      <td>0.0</td>\n      <td>0.0</td>\n      <td>0.000000</td>\n    </tr>\n    <tr>\n      <th>45</th>\n      <td>179</td>\n      <td>179</td>\n      <td>45</td>\n      <td>0.000000</td>\n      <td>0.000000</td>\n      <td>0.0</td>\n      <td>0.0</td>\n      <td>0.000000</td>\n    </tr>\n    <tr>\n      <th>46</th>\n      <td>179</td>\n      <td>179</td>\n      <td>46</td>\n      <td>0.000000</td>\n      <td>0.000000</td>\n      <td>0.0</td>\n      <td>0.0</td>\n      <td>0.000000</td>\n    </tr>\n    <tr>\n      <th>47</th>\n      <td>179</td>\n      <td>179</td>\n      <td>47</td>\n      <td>0.000000</td>\n      <td>0.000000</td>\n      <td>0.0</td>\n      <td>0.0</td>\n      <td>0.000000</td>\n    </tr>\n  </tbody>\n</table>\n<p>307200 rows × 8 columns</p>\n</div>"
     },
     "execution_count": 31,
     "metadata": {},
     "output_type": "execute_result"
    }
   ],
   "source": [
    "completed_1species_out = complete_df_with_neighbours(result_1species_output)\n",
    "completed_1species_out"
   ],
   "metadata": {
    "collapsed": false,
    "ExecuteTime": {
     "end_time": "2024-01-04T15:10:48.889266600Z",
     "start_time": "2024-01-04T15:09:33.683289600Z"
    }
   },
   "id": "1f0ce08454c948cd"
  },
  {
   "cell_type": "code",
   "execution_count": null,
   "outputs": [],
   "source": [
    "completed_1species.to_csv(\"../data/result600-800in.csv\",index=False,sep =\";\",encoding='utf-8', float_format='%.15f')\n",
    "#completed_1species_out.to_csv(\"../data/result1_species_out.csv\",index=False,sep =\";\",encoding='utf-8', float_format='%.15f')\n"
   ],
   "metadata": {
    "collapsed": false,
    "is_executing": true,
    "ExecuteTime": {
     "start_time": "2023-12-09T21:11:23.201677200Z"
    }
   },
   "id": "8895286f62cefb42"
  },
  {
   "cell_type": "code",
   "execution_count": null,
   "outputs": [],
   "source": [],
   "metadata": {
    "collapsed": false,
    "ExecuteTime": {
     "start_time": "2023-11-15T10:39:00.681161500Z"
    }
   },
   "id": "c8ca2679813c4c22"
  },
  {
   "cell_type": "code",
   "execution_count": null,
   "outputs": [],
   "source": [],
   "metadata": {
    "collapsed": false
   },
   "id": "b9c008a9dee5e747"
  }
 ],
 "metadata": {
  "kernelspec": {
   "display_name": "Python 3 (ipykernel)",
   "language": "python",
   "name": "python3"
  },
  "language_info": {
   "codemirror_mode": {
    "name": "ipython",
    "version": 3
   },
   "file_extension": ".py",
   "mimetype": "text/x-python",
   "name": "python",
   "nbconvert_exporter": "python",
   "pygments_lexer": "ipython3",
   "version": "3.10.9"
  }
 },
 "nbformat": 4,
 "nbformat_minor": 5
}
