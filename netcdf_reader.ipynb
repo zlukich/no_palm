{
 "cells": [
  {
   "cell_type": "code",
   "execution_count": 3,
   "id": "45156eb005a13708",
   "metadata": {
    "ExecuteTime": {
     "end_time": "2023-09-27T14:46:26.513830100Z",
     "start_time": "2023-09-27T14:46:23.337503100Z"
    }
   },
   "outputs": [
    {
     "name": "stdout",
     "output_type": "stream",
     "text": [
      "Collecting netcdf4\n",
      "  Downloading netCDF4-1.6.4-cp39-cp39-win_amd64.whl (6.6 MB)\n",
      "Requirement already satisfied: certifi in c:\\users\\zlukich\\appdata\\local\\programs\\python\\python39\\lib\\site-packages (from netcdf4) (2021.10.8)\n",
      "Collecting cftime\n",
      "  Downloading cftime-1.6.2-cp39-cp39-win_amd64.whl (171 kB)\n",
      "Requirement already satisfied: numpy in c:\\users\\zlukich\\appdata\\local\\programs\\python\\python39\\lib\\site-packages (from netcdf4) (1.22.3)\n",
      "Installing collected packages: cftime, netcdf4\n",
      "Successfully installed cftime-1.6.2 netcdf4-1.6.4\n"
     ]
    },
    {
     "name": "stderr",
     "output_type": "stream",
     "text": [
      "WARNING: You are using pip version 21.2.3; however, version 23.2.1 is available.\n",
      "You should consider upgrading via the 'C:\\Users\\zlukich\\AppData\\Local\\Programs\\Python\\Python39\\python.exe -m pip install --upgrade pip' command.\n"
     ]
    }
   ],
   "source": [
    "!pip install netcdf4"
   ]
  },
  {
   "cell_type": "code",
   "execution_count": 3,
   "id": "93bd217b",
   "metadata": {
    "ExecuteTime": {
     "end_time": "2023-11-01T10:23:34.941033500Z",
     "start_time": "2023-11-01T10:23:34.671178200Z"
    }
   },
   "outputs": [],
   "source": [
    "import netCDF4 as nc\n",
    "import sys\n",
    "import pandas as pd\n",
    "import numpy as np\n",
    "import seaborn as sns\n",
    "import matplotlib.pylab as plt\n",
    "pd.options.mode.chained_assignment = None  # default='warn'\n"
   ]
  },
  {
   "cell_type": "markdown",
   "source": [
    "# Helping functions"
   ],
   "metadata": {
    "collapsed": false
   },
   "id": "459d0615"
  },
  {
   "cell_type": "code",
   "execution_count": 260,
   "outputs": [],
   "source": [
    "def get_neighbours(df,x,y):\n",
    "    \n",
    "    result = pd.DataFrame()\n",
    "    \n",
    "    df_cell = df.loc[(df[\"x\"] ==x) & (df[\"y\"] ==y)]\n",
    "    \n",
    "    \n",
    "    new_row_right = df.loc[(df[\"x\"] ==x+1) & (df[\"y\"] ==y)]\n",
    "   #print(new_row_right)\n",
    "    if(len(new_row_right) == 0):\n",
    "        new_row_right = pd.DataFrame({\"x\" : [x+1 for i in range(df_cell.shape[0])],\n",
    "                                      \"y\" : [y for i in range(df_cell.shape[0])],\n",
    "                                      \"emission_value\" : [0 for i in range(df_cell.shape[0])],\n",
    "                                      \"hour\" : df_cell[\"hour\"].values ,\n",
    "                                      \"nb_type\" : [\"nbr\" for i in range(df_cell.shape[0])]})\n",
    "    else:\n",
    "        new_row_right[\"nb_type\"] = \"nbr\"\n",
    "    \n",
    "    \n",
    "    new_row_left = df.loc[(df[\"x\"] ==x-1) & (df[\"y\"] ==y)]\n",
    "    if(len(new_row_left) == 0):\n",
    "        new_row_left = pd.DataFrame({\"x\" : [x-1 for i in range(df_cell.shape[0])],\n",
    "                                      \"y\" : [y for i in range(df_cell.shape[0])],\n",
    "                                      \"emission_value\" : [0 for i in range(df_cell.shape[0])],\n",
    "                                      \"hour\" : df_cell[\"hour\"].values ,\n",
    "                                      \"nb_type\" : [\"nbl\" for i in range(df_cell.shape[0])]})\n",
    "    else:\n",
    "        new_row_left[\"nb_type\"] = \"nbl\"\n",
    "    \n",
    "    \n",
    "    new_row_up = df.loc[(df[\"x\"] ==x) & (df[\"y\"] ==y-1)]\n",
    "    if(len(new_row_up) == 0):\n",
    "        new_row_up = pd.DataFrame({\"x\" : [x for i in range(df_cell.shape[0])],\n",
    "                                      \"y\" : [y-1 for i in range(df_cell.shape[0])],\n",
    "                                      \"emission_value\" : [0 for i in range(df_cell.shape[0])],\n",
    "                                      \"hour\" : df_cell[\"hour\"].values ,\n",
    "                                      \"nb_type\" : [\"nbu\" for i in range(df_cell.shape[0])]})\n",
    "    else:\n",
    "        new_row_up[\"nb_type\"] = \"nbu\"\n",
    "    \n",
    "    \n",
    "    new_row_down = df.loc[(df[\"x\"] ==x) & (df[\"y\"] ==y+1)]\n",
    "    if(len(new_row_down) == 0):\n",
    "        new_row_down = pd.DataFrame({\"x\" : [x for i in range(df_cell.shape[0])],\n",
    "                                      \"y\" : [y+1 for i in range(df_cell.shape[0])],\n",
    "                                      \"emission_value\" : [0 for i in range(df_cell.shape[0])],\n",
    "                                      \"hour\" : df_cell[\"hour\"].values ,\n",
    "                                      \"nb_type\" : [\"nbd\" for i in range(df_cell.shape[0])]})\n",
    "    else:\n",
    "        new_row_down[\"nb_type\"] = \"nbd\"\n",
    "    result = pd.concat([new_row_right,new_row_left,new_row_up,new_row_down])\n",
    "    return result\n",
    "\n",
    "\n",
    "\n",
    "def add_neighbours(df,x,y):\n",
    "    '''\n",
    "    \n",
    "        df_cell: adds neighbours to specific cell\n",
    "    '''\n",
    "    df_cell = df.loc[(df[\"x\"] ==x) & (df[\"y\"] ==y)]\n",
    "    \n",
    "    #print(df_cell)\n",
    "    neighbours = get_neighbours(df,x,y)\n",
    "    \n",
    "    neighbours_right = neighbours.loc[neighbours[\"nb_type\"] == \"nbr\"]\n",
    "    neighbours_left = neighbours.loc[neighbours[\"nb_type\"] == \"nbl\"]\n",
    "    neighbours_up = neighbours.loc[neighbours[\"nb_type\"] == \"nbu\"]\n",
    "    neighbours_down = neighbours.loc[neighbours[\"nb_type\"] == \"nbd\"]\n",
    "    \n",
    "    #print(neighbours_right)\n",
    "    try:\n",
    "        df_to_append = pd.DataFrame({\"nbr\":neighbours_right[\"emission_value\"].values,\n",
    "                                    \"nbl\":neighbours_left[\"emission_value\"].values,\n",
    "                                    \"nbu\":neighbours_up[\"emission_value\"].values,\n",
    "                                    \"nbd\":neighbours_down[\"emission_value\"].values})\n",
    "    except:\n",
    "        df_to_append = pd.DataFrame()\n",
    "        print(\"hello\")\n",
    "        #print(neighbours)\n",
    "        #print(neighbours_right)\n",
    "        #print(neighbours_left)\n",
    "        #print(neighbours_up)\n",
    "        #print(neighbours_down)\n",
    "    #print(df_to_append)\n",
    "    df_to_append = df_to_append.reset_index(drop=True)\n",
    "    df_cell = df_cell.reset_index(drop=True)\n",
    "    result= pd.concat([df_cell,df_to_append],axis = 1)\n",
    "    return result\n",
    "\n",
    "def complete_df_with_neighbours(df):\n",
    "    '''\n",
    "        \n",
    "    '''\n",
    "    maximal_x = max(df[\"x\"])\n",
    "    minimal_x = min(df[\"x\"])\n",
    "    maximal_y = max(df[\"y\"])\n",
    "    minimal_y = min(df[\"y\"])\n",
    "    #print(df.shape[0])\n",
    "    result = pd.DataFrame()\n",
    "    for i in range(minimal_x,maximal_x+1,1):\n",
    "        for j in range(minimal_y,maximal_y+1):\n",
    "            df_cell = add_neighbours(df,i ,j )\n",
    "            #print(df_cell)\n",
    "            result = pd.concat([result,df_cell])\n",
    "    return result\n",
    "    "
   ],
   "metadata": {
    "collapsed": false,
    "ExecuteTime": {
     "end_time": "2023-11-01T12:25:22.658801300Z",
     "start_time": "2023-11-01T12:25:22.643421800Z"
    }
   },
   "id": "79736235"
  },
  {
   "cell_type": "markdown",
   "source": [
    "# Reading .nc files"
   ],
   "metadata": {
    "collapsed": false
   },
   "id": "e332702a"
  },
  {
   "cell_type": "markdown",
   "source": [
    "## Chemistry"
   ],
   "metadata": {
    "collapsed": false
   },
   "id": "383fd96233c76dae"
  },
  {
   "cell_type": "code",
   "execution_count": 5,
   "outputs": [],
   "source": [
    "ds = nc.Dataset(\"../data/photoshade_6km10m_lod2_chemistry.nc\")"
   ],
   "metadata": {
    "collapsed": false,
    "ExecuteTime": {
     "end_time": "2023-11-01T10:23:37.446581400Z",
     "start_time": "2023-11-01T10:23:37.408333500Z"
    }
   },
   "id": "7b230817"
  },
  {
   "cell_type": "markdown",
   "source": [
    "## Static"
   ],
   "metadata": {
    "collapsed": false
   },
   "id": "fdbef10ce986ed87"
  },
  {
   "cell_type": "code",
   "execution_count": 59,
   "outputs": [
    {
     "data": {
      "text/plain": "          x    y  building_height\n0         0    0         0.000000\n1         1    0         7.494203\n2         2    0         9.762539\n3         3    0         7.645858\n4         4    0         0.000000\n...     ...  ...              ...\n451579  667  671        18.275076\n451580  668  671        18.620945\n451581  669  671         0.000000\n451582  670  671         0.000000\n451583  671  671        16.172220\n\n[451584 rows x 3 columns]",
      "text/html": "<div>\n<style scoped>\n    .dataframe tbody tr th:only-of-type {\n        vertical-align: middle;\n    }\n\n    .dataframe tbody tr th {\n        vertical-align: top;\n    }\n\n    .dataframe thead th {\n        text-align: right;\n    }\n</style>\n<table border=\"1\" class=\"dataframe\">\n  <thead>\n    <tr style=\"text-align: right;\">\n      <th></th>\n      <th>x</th>\n      <th>y</th>\n      <th>building_height</th>\n    </tr>\n  </thead>\n  <tbody>\n    <tr>\n      <th>0</th>\n      <td>0</td>\n      <td>0</td>\n      <td>0.000000</td>\n    </tr>\n    <tr>\n      <th>1</th>\n      <td>1</td>\n      <td>0</td>\n      <td>7.494203</td>\n    </tr>\n    <tr>\n      <th>2</th>\n      <td>2</td>\n      <td>0</td>\n      <td>9.762539</td>\n    </tr>\n    <tr>\n      <th>3</th>\n      <td>3</td>\n      <td>0</td>\n      <td>7.645858</td>\n    </tr>\n    <tr>\n      <th>4</th>\n      <td>4</td>\n      <td>0</td>\n      <td>0.000000</td>\n    </tr>\n    <tr>\n      <th>...</th>\n      <td>...</td>\n      <td>...</td>\n      <td>...</td>\n    </tr>\n    <tr>\n      <th>451579</th>\n      <td>667</td>\n      <td>671</td>\n      <td>18.275076</td>\n    </tr>\n    <tr>\n      <th>451580</th>\n      <td>668</td>\n      <td>671</td>\n      <td>18.620945</td>\n    </tr>\n    <tr>\n      <th>451581</th>\n      <td>669</td>\n      <td>671</td>\n      <td>0.000000</td>\n    </tr>\n    <tr>\n      <th>451582</th>\n      <td>670</td>\n      <td>671</td>\n      <td>0.000000</td>\n    </tr>\n    <tr>\n      <th>451583</th>\n      <td>671</td>\n      <td>671</td>\n      <td>16.172220</td>\n    </tr>\n  </tbody>\n</table>\n<p>451584 rows × 3 columns</p>\n</div>"
     },
     "execution_count": 59,
     "metadata": {},
     "output_type": "execute_result"
    }
   ],
   "source": [
    "ds_static = nc.Dataset(\"../data/photoshade_6km10m_lod2_static.nc\")\n",
    "buildings = pd.DataFrame(ds_static[\"buildings_2d\"][:,:].data)\n",
    "buildings = buildings.melt(var_name = \"y\",value_name = \"building_height\")\n",
    "buildings[\"x\"] = [i%672 for i in range(buildings.shape[0])]\n",
    "new_cols_order = [\"x\",\"y\",\"building_height\"]\n",
    "buildings = buildings[new_cols_order]\n",
    "buildings.replace(-9999,0,inplace=True) # because strange values where there are no pollutants\n",
    "buildings"
   ],
   "metadata": {
    "collapsed": false,
    "ExecuteTime": {
     "end_time": "2023-11-01T10:56:44.944090700Z",
     "start_time": "2023-11-01T10:56:44.814128700Z"
    }
   },
   "id": "69ee205a39acc28e"
  },
  {
   "cell_type": "code",
   "execution_count": 36,
   "outputs": [
    {
     "ename": "AttributeError",
     "evalue": "'NoneType' object has no attribute 'shape'",
     "output_type": "error",
     "traceback": [
      "\u001B[1;31m---------------------------------------------------------------------------\u001B[0m",
      "\u001B[1;31mAttributeError\u001B[0m                            Traceback (most recent call last)",
      "Input \u001B[1;32mIn [36]\u001B[0m, in \u001B[0;36m<module>\u001B[1;34m\u001B[0m\n\u001B[1;32m----> 1\u001B[0m \u001B[43mbuildings\u001B[49m\u001B[38;5;241;43m.\u001B[39;49m\u001B[43mshape\u001B[49m\n",
      "\u001B[1;31mAttributeError\u001B[0m: 'NoneType' object has no attribute 'shape'"
     ]
    }
   ],
   "source": [
    "buildings.shape"
   ],
   "metadata": {
    "collapsed": false,
    "ExecuteTime": {
     "end_time": "2023-11-01T10:40:40.221139100Z",
     "start_time": "2023-11-01T10:40:40.181583700Z"
    }
   },
   "id": "f40c3d87f3caf4ea"
  },
  {
   "cell_type": "code",
   "execution_count": 6,
   "id": "e16664ff",
   "metadata": {
    "ExecuteTime": {
     "end_time": "2023-11-01T10:23:38.726473500Z",
     "start_time": "2023-11-01T10:23:38.666065Z"
    }
   },
   "outputs": [
    {
     "data": {
      "text/plain": "array([[0., 0., 0., ..., 0., 0., 0.],\n       [0., 0., 0., ..., 0., 0., 0.],\n       [0., 0., 0., ..., 0., 0., 0.],\n       ...,\n       [0., 0., 0., ..., 0., 0., 0.],\n       [0., 0., 0., ..., 0., 0., 0.],\n       [0., 0., 0., ..., 0., 0., 0.]], dtype=float32)"
     },
     "execution_count": 6,
     "metadata": {},
     "output_type": "execute_result"
    }
   ],
   "source": [
    "ds[\"emission_values\"][0,0,:,:,0].data"
   ]
  },
  {
   "cell_type": "markdown",
   "id": "5cc4f864",
   "metadata": {},
   "source": [
    "# Save information as CSV file"
   ]
  },
  {
   "cell_type": "code",
   "execution_count": 7,
   "outputs": [],
   "source": [
    "pd_15hour_3species = pd.DataFrame(ds[\"emission_values\"][15,0,:,:,2].data)"
   ],
   "metadata": {
    "collapsed": false,
    "ExecuteTime": {
     "end_time": "2023-11-01T10:23:44.019595800Z",
     "start_time": "2023-11-01T10:23:43.937554Z"
    }
   },
   "id": "0486b888"
  },
  {
   "cell_type": "code",
   "execution_count": 8,
   "id": "e8738b02",
   "metadata": {
    "scrolled": true,
    "ExecuteTime": {
     "end_time": "2023-11-01T10:23:45.973965300Z",
     "start_time": "2023-11-01T10:23:45.931306500Z"
    }
   },
   "outputs": [],
   "source": [
    "pd_15hour_melted = pd.melt(pd_15hour_3species,var_name = \"y\",value_name = \"emission_value\")"
   ]
  },
  {
   "cell_type": "code",
   "execution_count": 9,
   "id": "629621a8",
   "metadata": {
    "ExecuteTime": {
     "end_time": "2023-11-01T10:23:46.603169500Z",
     "start_time": "2023-11-01T10:23:46.460144700Z"
    }
   },
   "outputs": [],
   "source": [
    "pd_15hour_melted[\"x\"] = [i%672 for i in range(pd_15hour_melted.shape[0])]"
   ]
  },
  {
   "cell_type": "code",
   "execution_count": 10,
   "id": "b838bef3",
   "metadata": {
    "ExecuteTime": {
     "end_time": "2023-11-01T10:23:47.467201900Z",
     "start_time": "2023-11-01T10:23:47.394859Z"
    }
   },
   "outputs": [
    {
     "data": {
      "text/plain": "          y  emission_value    x\n0         0             0.0    0\n1         0             0.0    1\n2         0             0.0    2\n3         0             0.0    3\n4         0             0.0    4\n...     ...             ...  ...\n451579  671             0.0  667\n451580  671             0.0  668\n451581  671             0.0  669\n451582  671             0.0  670\n451583  671             0.0  671\n\n[451584 rows x 3 columns]",
      "text/html": "<div>\n<style scoped>\n    .dataframe tbody tr th:only-of-type {\n        vertical-align: middle;\n    }\n\n    .dataframe tbody tr th {\n        vertical-align: top;\n    }\n\n    .dataframe thead th {\n        text-align: right;\n    }\n</style>\n<table border=\"1\" class=\"dataframe\">\n  <thead>\n    <tr style=\"text-align: right;\">\n      <th></th>\n      <th>y</th>\n      <th>emission_value</th>\n      <th>x</th>\n    </tr>\n  </thead>\n  <tbody>\n    <tr>\n      <th>0</th>\n      <td>0</td>\n      <td>0.0</td>\n      <td>0</td>\n    </tr>\n    <tr>\n      <th>1</th>\n      <td>0</td>\n      <td>0.0</td>\n      <td>1</td>\n    </tr>\n    <tr>\n      <th>2</th>\n      <td>0</td>\n      <td>0.0</td>\n      <td>2</td>\n    </tr>\n    <tr>\n      <th>3</th>\n      <td>0</td>\n      <td>0.0</td>\n      <td>3</td>\n    </tr>\n    <tr>\n      <th>4</th>\n      <td>0</td>\n      <td>0.0</td>\n      <td>4</td>\n    </tr>\n    <tr>\n      <th>...</th>\n      <td>...</td>\n      <td>...</td>\n      <td>...</td>\n    </tr>\n    <tr>\n      <th>451579</th>\n      <td>671</td>\n      <td>0.0</td>\n      <td>667</td>\n    </tr>\n    <tr>\n      <th>451580</th>\n      <td>671</td>\n      <td>0.0</td>\n      <td>668</td>\n    </tr>\n    <tr>\n      <th>451581</th>\n      <td>671</td>\n      <td>0.0</td>\n      <td>669</td>\n    </tr>\n    <tr>\n      <th>451582</th>\n      <td>671</td>\n      <td>0.0</td>\n      <td>670</td>\n    </tr>\n    <tr>\n      <th>451583</th>\n      <td>671</td>\n      <td>0.0</td>\n      <td>671</td>\n    </tr>\n  </tbody>\n</table>\n<p>451584 rows × 3 columns</p>\n</div>"
     },
     "execution_count": 10,
     "metadata": {},
     "output_type": "execute_result"
    }
   ],
   "source": [
    "pd_15hour_melted"
   ]
  },
  {
   "cell_type": "code",
   "execution_count": 12,
   "id": "8e3d7f3b",
   "metadata": {
    "ExecuteTime": {
     "end_time": "2023-11-01T10:23:55.054807400Z",
     "start_time": "2023-11-01T10:23:54.922498400Z"
    }
   },
   "outputs": [
    {
     "data": {
      "text/plain": "          x    y  emission_value\n0         0    0             0.0\n1         1    0             0.0\n2         2    0             0.0\n3         3    0             0.0\n4         4    0             0.0\n...     ...  ...             ...\n451579  667  671             0.0\n451580  668  671             0.0\n451581  669  671             0.0\n451582  670  671             0.0\n451583  671  671             0.0\n\n[451584 rows x 3 columns]",
      "text/html": "<div>\n<style scoped>\n    .dataframe tbody tr th:only-of-type {\n        vertical-align: middle;\n    }\n\n    .dataframe tbody tr th {\n        vertical-align: top;\n    }\n\n    .dataframe thead th {\n        text-align: right;\n    }\n</style>\n<table border=\"1\" class=\"dataframe\">\n  <thead>\n    <tr style=\"text-align: right;\">\n      <th></th>\n      <th>x</th>\n      <th>y</th>\n      <th>emission_value</th>\n    </tr>\n  </thead>\n  <tbody>\n    <tr>\n      <th>0</th>\n      <td>0</td>\n      <td>0</td>\n      <td>0.0</td>\n    </tr>\n    <tr>\n      <th>1</th>\n      <td>1</td>\n      <td>0</td>\n      <td>0.0</td>\n    </tr>\n    <tr>\n      <th>2</th>\n      <td>2</td>\n      <td>0</td>\n      <td>0.0</td>\n    </tr>\n    <tr>\n      <th>3</th>\n      <td>3</td>\n      <td>0</td>\n      <td>0.0</td>\n    </tr>\n    <tr>\n      <th>4</th>\n      <td>4</td>\n      <td>0</td>\n      <td>0.0</td>\n    </tr>\n    <tr>\n      <th>...</th>\n      <td>...</td>\n      <td>...</td>\n      <td>...</td>\n    </tr>\n    <tr>\n      <th>451579</th>\n      <td>667</td>\n      <td>671</td>\n      <td>0.0</td>\n    </tr>\n    <tr>\n      <th>451580</th>\n      <td>668</td>\n      <td>671</td>\n      <td>0.0</td>\n    </tr>\n    <tr>\n      <th>451581</th>\n      <td>669</td>\n      <td>671</td>\n      <td>0.0</td>\n    </tr>\n    <tr>\n      <th>451582</th>\n      <td>670</td>\n      <td>671</td>\n      <td>0.0</td>\n    </tr>\n    <tr>\n      <th>451583</th>\n      <td>671</td>\n      <td>671</td>\n      <td>0.0</td>\n    </tr>\n  </tbody>\n</table>\n<p>451584 rows × 3 columns</p>\n</div>"
     },
     "execution_count": 12,
     "metadata": {},
     "output_type": "execute_result"
    }
   ],
   "source": [
    "new_cols_order = [\"x\",\"y\",\"emission_value\"]\n",
    "pd_15hour_melted = pd_15hour_melted[new_cols_order]\n",
    "pd_15hour_melted"
   ]
  },
  {
   "cell_type": "markdown",
   "id": "34d9ef2c",
   "metadata": {},
   "source": [
    "### DF concatenation"
   ]
  },
  {
   "cell_type": "code",
   "execution_count": 241,
   "outputs": [
    {
     "data": {
      "text/plain": "(60, 60)"
     },
     "execution_count": 241,
     "metadata": {},
     "output_type": "execute_result"
    }
   ],
   "source": [
    "testx = [i for i in range(0,300,1)]\n",
    "testy = [i for i in range(100,400,1)]\n",
    "test = pd.DataFrame(ds[\"emission_values\"][0,0,testy,testx,1].data)\n",
    "test.index = testy\n",
    "test.columns = testx\n",
    "test.shape"
   ],
   "metadata": {
    "collapsed": false,
    "ExecuteTime": {
     "end_time": "2023-11-01T12:16:13.741335100Z",
     "start_time": "2023-11-01T12:16:13.713712400Z"
    }
   },
   "id": "758fbeb84dc9c2bc"
  },
  {
   "cell_type": "code",
   "execution_count": 282,
   "id": "6ac35aa7",
   "metadata": {
    "ExecuteTime": {
     "end_time": "2023-11-01T13:19:49.561434Z",
     "start_time": "2023-11-01T13:19:46.374992100Z"
    }
   },
   "outputs": [],
   "source": [
    "result_nspecies = pd.DataFrame()\n",
    "xrange = [i for i in range(100,250,1)] # Subsetting specific grid part\n",
    "yrange = [i for i in range(200,350,1)] # Subsetting specific grid part\n",
    "for i in range(48):\n",
    "    pd_ihour_nspecies = pd.DataFrame(ds[\"emission_values\"][i,0,yrange,xrange,0].data) #[hour,z,y,x,species]\n",
    "    pd_ihour_nspecies.index = yrange\n",
    "    pd_ihour_nspecies.columns = xrange\n",
    "    pd_ihour_nspecies = pd.melt(pd_ihour_nspecies,var_name = \"x\",value_name = \"emission_value\")\n",
    "    pd_ihour_nspecies[\"y\"] = [i%len(yrange)+yrange[0] for i in range(pd_ihour_nspecies.shape[0])]\n",
    "    pd_ihour_nspecies[\"hour\"] = i\n",
    "    #pd_ihour_nspecies = pd_ihour_nspecies.sort_values([\"x\",\"y\"])\n",
    "    #buildings = buildings.sort_values([\"x\",\"y\"])\n",
    "    #pd_ihour_nspecies[\"building_height\"] = buildings[\"building_height\"]\n",
    "    pd_ihour_nspecies=pd.merge(pd_ihour_nspecies,buildings, how= \"inner\",on = [\"x\",\"y\"])\n",
    "    result_nspecies= pd.concat([result_nspecies,pd_ihour_nspecies])\n"
   ]
  },
  {
   "cell_type": "code",
   "execution_count": 283,
   "outputs": [
    {
     "data": {
      "text/plain": "         x    y  hour  building_height  emission_value\n0      100  200     0              0.0             0.0\n1      100  201     0              0.0             0.0\n2      100  202     0              0.0             0.0\n3      100  203     0              0.0             0.0\n4      100  204     0              0.0             0.0\n...    ...  ...   ...              ...             ...\n22495  249  345    47              0.0             0.0\n22496  249  346    47              0.0             0.0\n22497  249  347    47              0.0             0.0\n22498  249  348    47              0.0             0.0\n22499  249  349    47              0.0             0.0\n\n[1080000 rows x 5 columns]",
      "text/html": "<div>\n<style scoped>\n    .dataframe tbody tr th:only-of-type {\n        vertical-align: middle;\n    }\n\n    .dataframe tbody tr th {\n        vertical-align: top;\n    }\n\n    .dataframe thead th {\n        text-align: right;\n    }\n</style>\n<table border=\"1\" class=\"dataframe\">\n  <thead>\n    <tr style=\"text-align: right;\">\n      <th></th>\n      <th>x</th>\n      <th>y</th>\n      <th>hour</th>\n      <th>building_height</th>\n      <th>emission_value</th>\n    </tr>\n  </thead>\n  <tbody>\n    <tr>\n      <th>0</th>\n      <td>100</td>\n      <td>200</td>\n      <td>0</td>\n      <td>0.0</td>\n      <td>0.0</td>\n    </tr>\n    <tr>\n      <th>1</th>\n      <td>100</td>\n      <td>201</td>\n      <td>0</td>\n      <td>0.0</td>\n      <td>0.0</td>\n    </tr>\n    <tr>\n      <th>2</th>\n      <td>100</td>\n      <td>202</td>\n      <td>0</td>\n      <td>0.0</td>\n      <td>0.0</td>\n    </tr>\n    <tr>\n      <th>3</th>\n      <td>100</td>\n      <td>203</td>\n      <td>0</td>\n      <td>0.0</td>\n      <td>0.0</td>\n    </tr>\n    <tr>\n      <th>4</th>\n      <td>100</td>\n      <td>204</td>\n      <td>0</td>\n      <td>0.0</td>\n      <td>0.0</td>\n    </tr>\n    <tr>\n      <th>...</th>\n      <td>...</td>\n      <td>...</td>\n      <td>...</td>\n      <td>...</td>\n      <td>...</td>\n    </tr>\n    <tr>\n      <th>22495</th>\n      <td>249</td>\n      <td>345</td>\n      <td>47</td>\n      <td>0.0</td>\n      <td>0.0</td>\n    </tr>\n    <tr>\n      <th>22496</th>\n      <td>249</td>\n      <td>346</td>\n      <td>47</td>\n      <td>0.0</td>\n      <td>0.0</td>\n    </tr>\n    <tr>\n      <th>22497</th>\n      <td>249</td>\n      <td>347</td>\n      <td>47</td>\n      <td>0.0</td>\n      <td>0.0</td>\n    </tr>\n    <tr>\n      <th>22498</th>\n      <td>249</td>\n      <td>348</td>\n      <td>47</td>\n      <td>0.0</td>\n      <td>0.0</td>\n    </tr>\n    <tr>\n      <th>22499</th>\n      <td>249</td>\n      <td>349</td>\n      <td>47</td>\n      <td>0.0</td>\n      <td>0.0</td>\n    </tr>\n  </tbody>\n</table>\n<p>1080000 rows × 5 columns</p>\n</div>"
     },
     "execution_count": 283,
     "metadata": {},
     "output_type": "execute_result"
    }
   ],
   "source": [
    "#result_nspecies[\"building_height\"] = buildings.loc[(buildings[\"x\"]<50) & (buildings[\"y\"]<50)][\"building_height\"]\n",
    "new_cols_order = [\"x\",\"y\",\"hour\",\"building_height\",\"emission_value\"]\n",
    "result_nspecies= result_nspecies[new_cols_order]\n",
    "result_nspecies"
   ],
   "metadata": {
    "collapsed": false,
    "ExecuteTime": {
     "end_time": "2023-11-01T13:19:49.611012700Z",
     "start_time": "2023-11-01T13:19:49.563389Z"
    }
   },
   "id": "f361b7266bb19522"
  },
  {
   "cell_type": "markdown",
   "id": "6bf7d67a",
   "metadata": {},
   "source": [
    "# PALM Output files"
   ]
  },
  {
   "cell_type": "markdown",
   "id": "2f7fecc7",
   "metadata": {},
   "source": [
    "### Download"
   ]
  },
  {
   "cell_type": "code",
   "execution_count": 215,
   "id": "bcfd8f5c",
   "metadata": {
    "ExecuteTime": {
     "end_time": "2023-11-01T11:56:54.345687800Z",
     "start_time": "2023-11-01T11:56:54.259994500Z"
    }
   },
   "outputs": [],
   "source": [
    "output_emissions_no2_0 = nc.Dataset(\"../data/photoshade_6km10m_lod2_av_masked_M01.000.nc\")\n",
    "output_emissions_no2_1 = nc.Dataset(\"../data/photoshade_6km10m_lod2_av_masked_M01.001.nc\")\n",
    "output_emissions_no2_2 = nc.Dataset(\"../data/photoshade_6km10m_lod2_av_masked_M01.002.nc\")\n",
    "output_emissions_no2_3 = nc.Dataset(\"../data/photoshade_6km10m_lod2_av_masked_M01.003.nc\")\n",
    "output_emissions_no2_4 = nc.Dataset(\"../data/photoshade_6km10m_lod2_av_masked_M01.004.nc\")\n",
    "\n",
    "output_emissions_no2_list = [output_emissions_no2_0,\n",
    "                             output_emissions_no2_1,\n",
    "                             output_emissions_no2_2,\n",
    "                             output_emissions_no2_3,\n",
    "                             output_emissions_no2_4,]"
   ]
  },
  {
   "cell_type": "code",
   "execution_count": 216,
   "outputs": [
    {
     "data": {
      "text/plain": "<class 'netCDF4._netCDF4.Dataset'>\nroot group (NETCDF4 data model, file format HDF5):\n    title: PALM 21.10  run: photoshade_6km10m_lod2.00  host: basit  2022-06-17 16:48:38\n    Conventions: CF-1.7\n    creation_time: 2022-06-17 16:48:38 +02\n    data_content: podsmasked\n    version: 1\n    origin_time: 2017-07-17 00:00:00 +00\n    origin_lat: 52.48975372314453\n    origin_lon: 13.273119926452637\n    origin_x: 382751.5\n    origin_y: 5816914.0\n    origin_z: 25.382944107055664\n    rotation_angle: 0.0\n    dependencies: \n    history: \n    author: Basit Khan, basit.khan@kit.edu\n    contact_person: \n    institution: Karlsruher Institute of Technology, IMK-IFU, Alpin Campus, GaPa\n    acronym: KIT/IMK-IFU\n    campaign: summer iop02\n    location: Berlin\n    site: Berlin Mitte\n    source: PALM 21.10\n    references: text\n    keywords: text\n    licence: \n    comment: created with palm_csd\n    time_avg:  3600.0 s avg\n    VAR_LIST: ;kc_NO;kc_NO2;kc_O3;kc_PM10;\n    dimensions(sizes): time(3), ku_above_surf(8), kw_above_surf(8), x(672), xu(672), y(672), yv(672), zs_3d(8)\n    variables(dimensions): float64 time(time), float64 ku_above_surf(ku_above_surf), float64 kw_above_surf(kw_above_surf), float64 x(x), float64 xu(xu), float64 y(y), float64 yv(yv), float64 E_UTM(x), float64 N_UTM(y), float64 Eu_UTM(xu), float64 Nu_UTM(y), float64 Ev_UTM(x), float64 Nv_UTM(yv), float64 lon(y, x), float64 lat(y, x), float64 lonu(y, xu), float64 latu(y, xu), float64 lonv(yv, x), float64 latv(yv, x), int32 crs(), float64 zs_3d(zs_3d), float32 kc_NO(time, ku_above_surf, y, x), float32 kc_NO2(time, ku_above_surf, y, x), float32 kc_O3(time, ku_above_surf, y, x), float32 kc_PM10(time, ku_above_surf, y, x)\n    groups: "
     },
     "execution_count": 216,
     "metadata": {},
     "output_type": "execute_result"
    }
   ],
   "source": [
    "output_emissions_no2_0"
   ],
   "metadata": {
    "collapsed": false,
    "ExecuteTime": {
     "end_time": "2023-11-01T11:56:56.871438400Z",
     "start_time": "2023-11-01T11:56:56.855098600Z"
    }
   },
   "id": "251328065938338e"
  },
  {
   "cell_type": "code",
   "execution_count": 128,
   "id": "933c3cc0",
   "metadata": {},
   "outputs": [
    {
     "ename": "ValueError",
     "evalue": "MFNetCDF4 only works with NETCDF3_* and NETCDF4_CLASSIC formatted files, not NETCDF4",
     "output_type": "error",
     "traceback": [
      "\u001B[1;31m---------------------------------------------------------------------------\u001B[0m",
      "\u001B[1;31mValueError\u001B[0m                                Traceback (most recent call last)",
      "Cell \u001B[1;32mIn[128], line 2\u001B[0m\n\u001B[0;32m      1\u001B[0m \u001B[38;5;66;03m# or in multifile dataset\u001B[39;00m\n\u001B[1;32m----> 2\u001B[0m f \u001B[38;5;241m=\u001B[39m \u001B[43mnc\u001B[49m\u001B[38;5;241;43m.\u001B[39;49m\u001B[43mMFDataset\u001B[49m\u001B[43m(\u001B[49m\u001B[38;5;124;43m\"\u001B[39;49m\u001B[38;5;124;43m../data/photoshade_6km10m_lod2_av_masked_M01*nc\u001B[39;49m\u001B[38;5;124;43m\"\u001B[39;49m\u001B[43m)\u001B[49m\n",
      "File \u001B[1;32msrc\\netCDF4\\_netCDF4.pyx:6911\u001B[0m, in \u001B[0;36mnetCDF4._netCDF4.MFDataset.__init__\u001B[1;34m()\u001B[0m\n",
      "\u001B[1;31mValueError\u001B[0m: MFNetCDF4 only works with NETCDF3_* and NETCDF4_CLASSIC formatted files, not NETCDF4"
     ]
    }
   ],
   "source": [
    "# or in multifile dataset(doesn't work)\n",
    "# f = nc.MFDataset(\"../data/photoshade_6km10m_lod2_av_masked_M01*nc\")"
   ]
  },
  {
   "cell_type": "code",
   "execution_count": 217,
   "id": "665a6223",
   "metadata": {
    "ExecuteTime": {
     "end_time": "2023-11-01T11:57:02.617520100Z",
     "start_time": "2023-11-01T11:57:02.603938200Z"
    }
   },
   "outputs": [
    {
     "data": {
      "text/plain": "array([147600.22200114, 151200.04600114, 154800.00500114, 158400.10700118,\n       162000.19300133, 165600.31400149, 169200.50900165, 172800.08700181])"
     },
     "execution_count": 217,
     "metadata": {},
     "output_type": "execute_result"
    }
   ],
   "source": [
    "output_emissions_no2_4[\"time\"][:].data"
   ]
  },
  {
   "cell_type": "markdown",
   "source": [
    "### Need to reformat to match input emissions grid dataframe"
   ],
   "metadata": {
    "collapsed": false
   },
   "id": "5c272ced5a63176f"
  },
  {
   "cell_type": "code",
   "execution_count": 218,
   "outputs": [],
   "source": [
    "output_emissions_no2_values = []\n"
   ],
   "metadata": {
    "collapsed": false,
    "ExecuteTime": {
     "end_time": "2023-11-01T11:57:05.555610900Z",
     "start_time": "2023-11-01T11:57:05.550636900Z"
    }
   },
   "id": "13d15f369919cf8c"
  },
  {
   "cell_type": "code",
   "execution_count": 219,
   "outputs": [
    {
     "data": {
      "text/plain": "array([[ 1.01497509e-02,  1.01466635e-02,  1.01436023e-02, ...,\n         1.01645896e-02,  1.01506347e-02,  1.01479013e-02],\n       [-9.99900000e+03,  1.01435138e-02,  1.01412162e-02, ...,\n         1.01605533e-02,  1.01453867e-02,  1.01415450e-02],\n       [-9.99900000e+03, -9.99900000e+03,  1.01285819e-02, ...,\n         1.01507641e-02,  1.01363352e-02,  1.01333056e-02],\n       ...,\n       [ 1.01782894e-02,  1.01692211e-02,  1.01732612e-02, ...,\n         1.01743583e-02,  1.01781739e-02,  1.01791173e-02],\n       [ 1.01683699e-02,  1.01540107e-02,  1.01614557e-02, ...,\n         1.01666236e-02,  1.01637840e-02,  1.01728830e-02],\n       [ 1.01574846e-02,  1.01480503e-02, -9.99900000e+03, ...,\n         1.01642087e-02,  1.01578943e-02, -9.99900000e+03]], dtype=float32)"
     },
     "execution_count": 219,
     "metadata": {},
     "output_type": "execute_result"
    }
   ],
   "source": [
    "output_emissions_no2_0[\"kc_NO2\"][0,0,:,:].data"
   ],
   "metadata": {
    "collapsed": false,
    "ExecuteTime": {
     "end_time": "2023-11-01T11:57:06.953105400Z",
     "start_time": "2023-11-01T11:57:06.935231Z"
    }
   },
   "id": "c0be9ae6da543478"
  },
  {
   "cell_type": "code",
   "execution_count": 284,
   "outputs": [],
   "source": [
    "result_1species_output = pd.DataFrame()\n",
    "xrange = [i for i in range(100,250,1)] # Subsetting specific grid part\n",
    "yrange = [i for i in range(200,350,1)] # Subsetting specific grid part\n",
    "pollutant = \"kc_NO2\"\n",
    "for output_table in output_emissions_no2_list:\n",
    "    timebins = (output_table[\"time\"][:].data/3600).astype(int) # getting hours array (after conversion from seconds to hours)\n",
    "    for i in range(len(timebins)):\n",
    "        pd_ihour_1species = pd.DataFrame(output_table[pollutant][i,0,yrange,xrange].data)#(netcdf format [hour,y,x])\n",
    "        pd_ihour_1species.index = yrange\n",
    "        pd_ihour_1species.columns = xrange\n",
    "        pd_ihour_1species = pd.melt(pd_ihour_1species,var_name = \"x\",value_name = \"emission_value\")\n",
    "        pd_ihour_1species[\"y\"] = [i%len(yrange)+yrange[0] for i in range(pd_ihour_nspecies.shape[0])]\n",
    "        pd_ihour_1species[\"hour\"] = timebins[i]-1\n",
    "        result_1species_output= pd.concat([result_1species_output,pd_ihour_1species])"
   ],
   "metadata": {
    "collapsed": false,
    "ExecuteTime": {
     "end_time": "2023-11-01T13:20:04.084869600Z",
     "start_time": "2023-11-01T13:20:03.129923500Z"
    }
   },
   "id": "1710592c0c27c045"
  },
  {
   "cell_type": "code",
   "execution_count": 285,
   "outputs": [
    {
     "data": {
      "text/plain": "         x    y  hour  emission_value\n0      100  200     0        0.010562\n1      100  201     0        0.010540\n2      100  202     0        0.010534\n3      100  203     0        0.010544\n4      100  204     0        0.010544\n...    ...  ...   ...             ...\n22495  249  345    47        0.018223\n22496  249  346    47        0.018224\n22497  249  347    47        0.018220\n22498  249  348    47        0.018217\n22499  249  349    47        0.018218\n\n[1080000 rows x 4 columns]",
      "text/html": "<div>\n<style scoped>\n    .dataframe tbody tr th:only-of-type {\n        vertical-align: middle;\n    }\n\n    .dataframe tbody tr th {\n        vertical-align: top;\n    }\n\n    .dataframe thead th {\n        text-align: right;\n    }\n</style>\n<table border=\"1\" class=\"dataframe\">\n  <thead>\n    <tr style=\"text-align: right;\">\n      <th></th>\n      <th>x</th>\n      <th>y</th>\n      <th>hour</th>\n      <th>emission_value</th>\n    </tr>\n  </thead>\n  <tbody>\n    <tr>\n      <th>0</th>\n      <td>100</td>\n      <td>200</td>\n      <td>0</td>\n      <td>0.010562</td>\n    </tr>\n    <tr>\n      <th>1</th>\n      <td>100</td>\n      <td>201</td>\n      <td>0</td>\n      <td>0.010540</td>\n    </tr>\n    <tr>\n      <th>2</th>\n      <td>100</td>\n      <td>202</td>\n      <td>0</td>\n      <td>0.010534</td>\n    </tr>\n    <tr>\n      <th>3</th>\n      <td>100</td>\n      <td>203</td>\n      <td>0</td>\n      <td>0.010544</td>\n    </tr>\n    <tr>\n      <th>4</th>\n      <td>100</td>\n      <td>204</td>\n      <td>0</td>\n      <td>0.010544</td>\n    </tr>\n    <tr>\n      <th>...</th>\n      <td>...</td>\n      <td>...</td>\n      <td>...</td>\n      <td>...</td>\n    </tr>\n    <tr>\n      <th>22495</th>\n      <td>249</td>\n      <td>345</td>\n      <td>47</td>\n      <td>0.018223</td>\n    </tr>\n    <tr>\n      <th>22496</th>\n      <td>249</td>\n      <td>346</td>\n      <td>47</td>\n      <td>0.018224</td>\n    </tr>\n    <tr>\n      <th>22497</th>\n      <td>249</td>\n      <td>347</td>\n      <td>47</td>\n      <td>0.018220</td>\n    </tr>\n    <tr>\n      <th>22498</th>\n      <td>249</td>\n      <td>348</td>\n      <td>47</td>\n      <td>0.018217</td>\n    </tr>\n    <tr>\n      <th>22499</th>\n      <td>249</td>\n      <td>349</td>\n      <td>47</td>\n      <td>0.018218</td>\n    </tr>\n  </tbody>\n</table>\n<p>1080000 rows × 4 columns</p>\n</div>"
     },
     "execution_count": 285,
     "metadata": {},
     "output_type": "execute_result"
    }
   ],
   "source": [
    "result_1species_output.replace(-9999,0,inplace=True) # because strange values where there are no pollutants\n",
    "result_1species_output = result_1species_output[[\"x\",\"y\",\"hour\",\"emission_value\"]]\n",
    "result_1species_output"
   ],
   "metadata": {
    "collapsed": false,
    "ExecuteTime": {
     "end_time": "2023-11-01T13:20:04.139340300Z",
     "start_time": "2023-11-01T13:20:04.087858900Z"
    }
   },
   "id": "d01b3d9dc96c0395"
  },
  {
   "cell_type": "markdown",
   "id": "50135bef",
   "metadata": {},
   "source": [
    "# Plot pollution distribution"
   ]
  },
  {
   "cell_type": "code",
   "execution_count": 267,
   "outputs": [],
   "source": [
    "def make_heatmap_from_pd(result_dataframe,hour,target_name = \"emission_value\"):\n",
    "    result_1specieshour = result_dataframe.loc[result_dataframe[\"hour\"] == hour]\n",
    "    result_1specieshour = result_1specieshour[[\"x\",\"y\",target_name]]\n",
    "    x = result_1specieshour[\"x\"].max() - result_1specieshour[\"x\"].min() + 1\n",
    "    y = result_1specieshour[\"y\"].max() - result_1specieshour[\"y\"].min() + 1\n",
    "    v = result_1specieshour[target_name].to_numpy().reshape((x, y))\n",
    "    indices = result_1specieshour[[\"x\", 'y']].to_numpy().T\n",
    "    indices[0] = indices[0] - indices[0].min()\n",
    "    indices[1] = indices[1] - indices[1].min()\n",
    "\n",
    "    v = np.tile(np.nan, indices.max(axis=1)+1)\n",
    "    v[tuple(indices)] = result_1specieshour[target_name]\n",
    "    ax = sns.heatmap(v)\n",
    "    plt.show()"
   ],
   "metadata": {
    "collapsed": false,
    "ExecuteTime": {
     "end_time": "2023-11-01T12:26:37.618842200Z",
     "start_time": "2023-11-01T12:26:37.615682700Z"
    }
   },
   "id": "127961f7b4aac7c"
  },
  {
   "cell_type": "code",
   "execution_count": 301,
   "outputs": [
    {
     "data": {
      "text/plain": "<Figure size 432x288 with 2 Axes>",
      "image/png": "[encoded data removed]"
     },
     "metadata": {
      "needs_background": "light"
     },
     "output_type": "display_data"
    },
    {
     "data": {
      "text/plain": "<Figure size 432x288 with 2 Axes>",
      "image/png": "[encoded data removed]"
     },
     "metadata": {
      "needs_background": "light"
     },
     "output_type": "display_data"
    }
   ],
   "source": [
    "#plotting\n",
    "hour = 33\n",
    "plt.subplot(2,1,1)\n",
    "make_heatmap_from_pd(result_nspecies,hour)\n",
    "plt.subplot(2,1,2)\n",
    "make_heatmap_from_pd(result_1species_output,hour)"
   ],
   "metadata": {
    "collapsed": false,
    "ExecuteTime": {
     "end_time": "2023-11-01T14:38:11.588876500Z",
     "start_time": "2023-11-01T14:38:10.822918900Z"
    }
   },
   "id": "ab4458c6744ec91b"
  },
  {
   "cell_type": "code",
   "execution_count": 81,
   "outputs": [
    {
     "data": {
      "text/plain": "<Figure size 432x288 with 2 Axes>",
      "image/png": "[encoded data removed]"
     },
     "metadata": {
      "needs_background": "light"
     },
     "output_type": "display_data"
    }
   ],
   "source": [
    "b_height = ds_static[\"buildings_2d\"][:50,:50].data\n",
    "b_height[b_height == -9999] = 0\n",
    "ax = sns.heatmap(b_height)\n",
    "plt.show()"
   ],
   "metadata": {
    "collapsed": false,
    "ExecuteTime": {
     "end_time": "2023-11-01T11:05:30.745194100Z",
     "start_time": "2023-11-01T11:05:30.298664Z"
    }
   },
   "id": "bfdd3e67daae3a05"
  },
  {
   "cell_type": "code",
   "execution_count": 249,
   "outputs": [
    {
     "data": {
      "text/plain": "<Figure size 432x288 with 2 Axes>",
      "image/png": "[encoded data removed]"
     },
     "metadata": {
      "needs_background": "light"
     },
     "output_type": "display_data"
    }
   ],
   "source": [
    "make_heatmap_from_pd(result_nspecies,hour,target_name=\"building_height\")"
   ],
   "metadata": {
    "collapsed": false,
    "ExecuteTime": {
     "end_time": "2023-11-01T12:17:03.704546800Z",
     "start_time": "2023-11-01T12:17:03.405163100Z"
    }
   },
   "id": "c031c82a1a1f5cdf"
  },
  {
   "cell_type": "code",
   "execution_count": 172,
   "outputs": [
    {
     "data": {
      "text/plain": "<Figure size 432x288 with 2 Axes>",
      "image/png": "[encoded data removed]"
     },
     "metadata": {
      "needs_background": "light"
     },
     "output_type": "display_data"
    },
    {
     "data": {
      "text/plain": "<Figure size 432x288 with 2 Axes>",
      "image/png": "[encoded data removed]"
     },
     "metadata": {
      "needs_background": "light"
     },
     "output_type": "display_data"
    }
   ],
   "source": [
    "#Plot ranges\n",
    "xrange = [i for i in range(0,50,1)]\n",
    "yrange = [i for i in range(0,50,1)]\n",
    "#Data preparing\n",
    "in_data = ds[\"emission_values\"][26,0,yrange,xrange,1].data          #[hour,z,y,x,nspecies]\n",
    "out_data = pd.DataFrame(output_emissions_no2_3[\"kc_NO\"][0,0,yrange,xrange].data) #[hour,ku_surf_above,y,x]\n",
    "out_data[out_data ==-9999] = 0\n",
    "#plotting\n",
    "plt.subplot(2,1,1)\n",
    "ax = sns.heatmap(in_data)\n",
    "plt.show()\n",
    "plt.subplot(2,1,2)\n",
    "ax = sns.heatmap(out_data)\n",
    "plt.show()"
   ],
   "metadata": {
    "collapsed": false,
    "ExecuteTime": {
     "end_time": "2023-10-04T13:30:48.528298600Z",
     "start_time": "2023-10-04T13:30:47.865209800Z"
    }
   },
   "id": "3af25125"
  },
  {
   "cell_type": "markdown",
   "source": [
    "# Outputing relevant information in csvs"
   ],
   "metadata": {
    "collapsed": false
   },
   "id": "3d852c1e516e5e07"
  },
  {
   "cell_type": "code",
   "execution_count": 287,
   "outputs": [
    {
     "data": {
      "text/plain": "      x    y  hour  building_height  emission_value  nbr  nbl  nbu  nbd\n0   100  200     0              0.0             0.0  0.0  0.0  0.0  0.0\n1   100  200     1              0.0             0.0  0.0  0.0  0.0  0.0\n2   100  200     2              0.0             0.0  0.0  0.0  0.0  0.0\n3   100  200     3              0.0             0.0  0.0  0.0  0.0  0.0\n4   100  200     4              0.0             0.0  0.0  0.0  0.0  0.0\n..  ...  ...   ...              ...             ...  ...  ...  ...  ...\n43  249  349    43              0.0             0.0  0.0  0.0  0.0  0.0\n44  249  349    44              0.0             0.0  0.0  0.0  0.0  0.0\n45  249  349    45              0.0             0.0  0.0  0.0  0.0  0.0\n46  249  349    46              0.0             0.0  0.0  0.0  0.0  0.0\n47  249  349    47              0.0             0.0  0.0  0.0  0.0  0.0\n\n[1080000 rows x 9 columns]",
      "text/html": "<div>\n<style scoped>\n    .dataframe tbody tr th:only-of-type {\n        vertical-align: middle;\n    }\n\n    .dataframe tbody tr th {\n        vertical-align: top;\n    }\n\n    .dataframe thead th {\n        text-align: right;\n    }\n</style>\n<table border=\"1\" class=\"dataframe\">\n  <thead>\n    <tr style=\"text-align: right;\">\n      <th></th>\n      <th>x</th>\n      <th>y</th>\n      <th>hour</th>\n      <th>building_height</th>\n      <th>emission_value</th>\n      <th>nbr</th>\n      <th>nbl</th>\n      <th>nbu</th>\n      <th>nbd</th>\n    </tr>\n  </thead>\n  <tbody>\n    <tr>\n      <th>0</th>\n      <td>100</td>\n      <td>200</td>\n      <td>0</td>\n      <td>0.0</td>\n      <td>0.0</td>\n      <td>0.0</td>\n      <td>0.0</td>\n      <td>0.0</td>\n      <td>0.0</td>\n    </tr>\n    <tr>\n      <th>1</th>\n      <td>100</td>\n      <td>200</td>\n      <td>1</td>\n      <td>0.0</td>\n      <td>0.0</td>\n      <td>0.0</td>\n      <td>0.0</td>\n      <td>0.0</td>\n      <td>0.0</td>\n    </tr>\n    <tr>\n      <th>2</th>\n      <td>100</td>\n      <td>200</td>\n      <td>2</td>\n      <td>0.0</td>\n      <td>0.0</td>\n      <td>0.0</td>\n      <td>0.0</td>\n      <td>0.0</td>\n      <td>0.0</td>\n    </tr>\n    <tr>\n      <th>3</th>\n      <td>100</td>\n      <td>200</td>\n      <td>3</td>\n      <td>0.0</td>\n      <td>0.0</td>\n      <td>0.0</td>\n      <td>0.0</td>\n      <td>0.0</td>\n      <td>0.0</td>\n    </tr>\n    <tr>\n      <th>4</th>\n      <td>100</td>\n      <td>200</td>\n      <td>4</td>\n      <td>0.0</td>\n      <td>0.0</td>\n      <td>0.0</td>\n      <td>0.0</td>\n      <td>0.0</td>\n      <td>0.0</td>\n    </tr>\n    <tr>\n      <th>...</th>\n      <td>...</td>\n      <td>...</td>\n      <td>...</td>\n      <td>...</td>\n      <td>...</td>\n      <td>...</td>\n      <td>...</td>\n      <td>...</td>\n      <td>...</td>\n    </tr>\n    <tr>\n      <th>43</th>\n      <td>249</td>\n      <td>349</td>\n      <td>43</td>\n      <td>0.0</td>\n      <td>0.0</td>\n      <td>0.0</td>\n      <td>0.0</td>\n      <td>0.0</td>\n      <td>0.0</td>\n    </tr>\n    <tr>\n      <th>44</th>\n      <td>249</td>\n      <td>349</td>\n      <td>44</td>\n      <td>0.0</td>\n      <td>0.0</td>\n      <td>0.0</td>\n      <td>0.0</td>\n      <td>0.0</td>\n      <td>0.0</td>\n    </tr>\n    <tr>\n      <th>45</th>\n      <td>249</td>\n      <td>349</td>\n      <td>45</td>\n      <td>0.0</td>\n      <td>0.0</td>\n      <td>0.0</td>\n      <td>0.0</td>\n      <td>0.0</td>\n      <td>0.0</td>\n    </tr>\n    <tr>\n      <th>46</th>\n      <td>249</td>\n      <td>349</td>\n      <td>46</td>\n      <td>0.0</td>\n      <td>0.0</td>\n      <td>0.0</td>\n      <td>0.0</td>\n      <td>0.0</td>\n      <td>0.0</td>\n    </tr>\n    <tr>\n      <th>47</th>\n      <td>249</td>\n      <td>349</td>\n      <td>47</td>\n      <td>0.0</td>\n      <td>0.0</td>\n      <td>0.0</td>\n      <td>0.0</td>\n      <td>0.0</td>\n      <td>0.0</td>\n    </tr>\n  </tbody>\n</table>\n<p>1080000 rows × 9 columns</p>\n</div>"
     },
     "execution_count": 287,
     "metadata": {},
     "output_type": "execute_result"
    }
   ],
   "source": [
    "completed_1species = complete_df_with_neighbours(result_nspecies)\n",
    "completed_1species"
   ],
   "metadata": {
    "collapsed": false,
    "ExecuteTime": {
     "end_time": "2023-11-01T13:31:31.935335500Z",
     "start_time": "2023-11-01T13:20:19.067603400Z"
    }
   },
   "id": "3bd475d7f45dceaf"
  },
  {
   "cell_type": "code",
   "execution_count": 288,
   "outputs": [
    {
     "data": {
      "text/plain": "      x    y  hour  emission_value       nbr       nbl       nbu       nbd\n0   100  200     0        0.010562  0.010604  0.000000  0.000000  0.010540\n1   100  200     1        0.009452  0.009498  0.000000  0.000000  0.009446\n2   100  200     2        0.009615  0.009675  0.000000  0.000000  0.009610\n3   100  200     3        0.014870  0.015073  0.000000  0.000000  0.014857\n4   100  200     4        0.013692  0.013605  0.000000  0.000000  0.013702\n..  ...  ...   ...             ...       ...       ...       ...       ...\n43  249  349    43        0.011732  0.000000  0.011800  0.011717  0.000000\n44  249  349    44        0.013980  0.000000  0.014070  0.013944  0.000000\n45  249  349    45        0.017794  0.000000  0.017873  0.017751  0.000000\n46  249  349    46        0.018918  0.000000  0.018957  0.018886  0.000000\n47  249  349    47        0.018218  0.000000  0.018241  0.018217  0.000000\n\n[1080000 rows x 8 columns]",
      "text/html": "<div>\n<style scoped>\n    .dataframe tbody tr th:only-of-type {\n        vertical-align: middle;\n    }\n\n    .dataframe tbody tr th {\n        vertical-align: top;\n    }\n\n    .dataframe thead th {\n        text-align: right;\n    }\n</style>\n<table border=\"1\" class=\"dataframe\">\n  <thead>\n    <tr style=\"text-align: right;\">\n      <th></th>\n      <th>x</th>\n      <th>y</th>\n      <th>hour</th>\n      <th>emission_value</th>\n      <th>nbr</th>\n      <th>nbl</th>\n      <th>nbu</th>\n      <th>nbd</th>\n    </tr>\n  </thead>\n  <tbody>\n    <tr>\n      <th>0</th>\n      <td>100</td>\n      <td>200</td>\n      <td>0</td>\n      <td>0.010562</td>\n      <td>0.010604</td>\n      <td>0.000000</td>\n      <td>0.000000</td>\n      <td>0.010540</td>\n    </tr>\n    <tr>\n      <th>1</th>\n      <td>100</td>\n      <td>200</td>\n      <td>1</td>\n      <td>0.009452</td>\n      <td>0.009498</td>\n      <td>0.000000</td>\n      <td>0.000000</td>\n      <td>0.009446</td>\n    </tr>\n    <tr>\n      <th>2</th>\n      <td>100</td>\n      <td>200</td>\n      <td>2</td>\n      <td>0.009615</td>\n      <td>0.009675</td>\n      <td>0.000000</td>\n      <td>0.000000</td>\n      <td>0.009610</td>\n    </tr>\n    <tr>\n      <th>3</th>\n      <td>100</td>\n      <td>200</td>\n      <td>3</td>\n      <td>0.014870</td>\n      <td>0.015073</td>\n      <td>0.000000</td>\n      <td>0.000000</td>\n      <td>0.014857</td>\n    </tr>\n    <tr>\n      <th>4</th>\n      <td>100</td>\n      <td>200</td>\n      <td>4</td>\n      <td>0.013692</td>\n      <td>0.013605</td>\n      <td>0.000000</td>\n      <td>0.000000</td>\n      <td>0.013702</td>\n    </tr>\n    <tr>\n      <th>...</th>\n      <td>...</td>\n      <td>...</td>\n      <td>...</td>\n      <td>...</td>\n      <td>...</td>\n      <td>...</td>\n      <td>...</td>\n      <td>...</td>\n    </tr>\n    <tr>\n      <th>43</th>\n      <td>249</td>\n      <td>349</td>\n      <td>43</td>\n      <td>0.011732</td>\n      <td>0.000000</td>\n      <td>0.011800</td>\n      <td>0.011717</td>\n      <td>0.000000</td>\n    </tr>\n    <tr>\n      <th>44</th>\n      <td>249</td>\n      <td>349</td>\n      <td>44</td>\n      <td>0.013980</td>\n      <td>0.000000</td>\n      <td>0.014070</td>\n      <td>0.013944</td>\n      <td>0.000000</td>\n    </tr>\n    <tr>\n      <th>45</th>\n      <td>249</td>\n      <td>349</td>\n      <td>45</td>\n      <td>0.017794</td>\n      <td>0.000000</td>\n      <td>0.017873</td>\n      <td>0.017751</td>\n      <td>0.000000</td>\n    </tr>\n    <tr>\n      <th>46</th>\n      <td>249</td>\n      <td>349</td>\n      <td>46</td>\n      <td>0.018918</td>\n      <td>0.000000</td>\n      <td>0.018957</td>\n      <td>0.018886</td>\n      <td>0.000000</td>\n    </tr>\n    <tr>\n      <th>47</th>\n      <td>249</td>\n      <td>349</td>\n      <td>47</td>\n      <td>0.018218</td>\n      <td>0.000000</td>\n      <td>0.018241</td>\n      <td>0.018217</td>\n      <td>0.000000</td>\n    </tr>\n  </tbody>\n</table>\n<p>1080000 rows × 8 columns</p>\n</div>"
     },
     "execution_count": 288,
     "metadata": {},
     "output_type": "execute_result"
    }
   ],
   "source": [
    "completed_1species_out = complete_df_with_neighbours(result_1species_output)\n",
    "completed_1species_out"
   ],
   "metadata": {
    "collapsed": false,
    "ExecuteTime": {
     "end_time": "2023-11-01T13:42:16.983259900Z",
     "start_time": "2023-11-01T13:31:31.934344200Z"
    }
   },
   "id": "1f0ce08454c948cd"
  },
  {
   "cell_type": "code",
   "execution_count": 291,
   "outputs": [],
   "source": [
    "completed_1species.to_csv(\"../data/result1_species_in.csv\",index=False,sep =\";\",encoding='utf-8', float_format='%.15f')\n",
    "completed_1species_out.to_csv(\"../data/result1_species_out.csv\",index=False,sep =\";\",encoding='utf-8', float_format='%.15f')\n"
   ],
   "metadata": {
    "collapsed": false,
    "ExecuteTime": {
     "end_time": "2023-11-01T13:42:51.632315600Z",
     "start_time": "2023-11-01T13:42:31.774343100Z"
    }
   },
   "id": "8895286f62cefb42"
  },
  {
   "cell_type": "code",
   "execution_count": null,
   "outputs": [],
   "source": [],
   "metadata": {
    "collapsed": false
   },
   "id": "c8ca2679813c4c22"
  }
 ],
 "metadata": {
  "kernelspec": {
   "display_name": "Python 3 (ipykernel)",
   "language": "python",
   "name": "python3"
  },
  "language_info": {
   "codemirror_mode": {
    "name": "ipython",
    "version": 3
   },
   "file_extension": ".py",
   "mimetype": "text/x-python",
   "name": "python",
   "nbconvert_exporter": "python",
   "pygments_lexer": "ipython3",
   "version": "3.10.9"
  }
 },
 "nbformat": 4,
 "nbformat_minor": 5
}
