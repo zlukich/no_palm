{
 "cells": [
  {
   "cell_type": "code",
   "execution_count": null,
   "outputs": [],
   "source": [],
   "metadata": {
    "collapsed": false
   },
   "id": "b788a5a6f6b66514"
  },
  {
   "cell_type": "code",
   "execution_count": 1,
   "id": "93bd217b",
   "metadata": {
    "ExecuteTime": {
     "end_time": "2024-01-11T14:58:42.834783500Z",
     "start_time": "2024-01-11T14:58:42.591759600Z"
    }
   },
   "outputs": [],
   "source": [
    "import netCDF4 as nc\n",
    "import sys\n",
    "import pandas as pd\n",
    "import numpy as np\n",
    "import seaborn as sns\n",
    "import matplotlib.pylab as plt\n",
    "pd.options.mode.chained_assignment = None  # default='warn'\n"
   ]
  },
  {
   "cell_type": "markdown",
   "source": [
    "# Helping functions"
   ],
   "metadata": {
    "collapsed": false
   },
   "id": "459d0615"
  },
  {
   "cell_type": "code",
   "execution_count": 2,
   "outputs": [],
   "source": [
    "def get_neighbours(df,x,y):\n",
    "    \n",
    "    result = pd.DataFrame()\n",
    "    \n",
    "    df_cell = df.loc[(df[\"x\"] ==x) & (df[\"y\"] ==y)]\n",
    "    \n",
    "    \n",
    "    new_row_right = df.loc[(df[\"x\"] ==x+1) & (df[\"y\"] ==y)]\n",
    "   #print(new_row_right)\n",
    "    if(len(new_row_right) == 0):\n",
    "        new_row_right = pd.DataFrame({\"x\" : [x+1 for i in range(df_cell.shape[0])],\n",
    "                                      \"y\" : [y for i in range(df_cell.shape[0])],\n",
    "                                      \"emission_value\" : [0 for i in range(df_cell.shape[0])],\n",
    "                                      \"hour\" : df_cell[\"hour\"].values ,\n",
    "                                      \"nb_type\" : [\"nbr\" for i in range(df_cell.shape[0])]})\n",
    "    else:\n",
    "        new_row_right[\"nb_type\"] = \"nbr\"\n",
    "    \n",
    "    \n",
    "    new_row_left = df.loc[(df[\"x\"] ==x-1) & (df[\"y\"] ==y)]\n",
    "    if(len(new_row_left) == 0):\n",
    "        new_row_left = pd.DataFrame({\"x\" : [x-1 for i in range(df_cell.shape[0])],\n",
    "                                      \"y\" : [y for i in range(df_cell.shape[0])],\n",
    "                                      \"emission_value\" : [0 for i in range(df_cell.shape[0])],\n",
    "                                      \"hour\" : df_cell[\"hour\"].values ,\n",
    "                                      \"nb_type\" : [\"nbl\" for i in range(df_cell.shape[0])]})\n",
    "    else:\n",
    "        new_row_left[\"nb_type\"] = \"nbl\"\n",
    "    \n",
    "    \n",
    "    new_row_up = df.loc[(df[\"x\"] ==x) & (df[\"y\"] ==y-1)]\n",
    "    if(len(new_row_up) == 0):\n",
    "        new_row_up = pd.DataFrame({\"x\" : [x for i in range(df_cell.shape[0])],\n",
    "                                      \"y\" : [y-1 for i in range(df_cell.shape[0])],\n",
    "                                      \"emission_value\" : [0 for i in range(df_cell.shape[0])],\n",
    "                                      \"hour\" : df_cell[\"hour\"].values ,\n",
    "                                      \"nb_type\" : [\"nbu\" for i in range(df_cell.shape[0])]})\n",
    "    else:\n",
    "        new_row_up[\"nb_type\"] = \"nbu\"\n",
    "    \n",
    "    \n",
    "    new_row_down = df.loc[(df[\"x\"] ==x) & (df[\"y\"] ==y+1)]\n",
    "    if(len(new_row_down) == 0):\n",
    "        new_row_down = pd.DataFrame({\"x\" : [x for i in range(df_cell.shape[0])],\n",
    "                                      \"y\" : [y+1 for i in range(df_cell.shape[0])],\n",
    "                                      \"emission_value\" : [0 for i in range(df_cell.shape[0])],\n",
    "                                      \"hour\" : df_cell[\"hour\"].values ,\n",
    "                                      \"nb_type\" : [\"nbd\" for i in range(df_cell.shape[0])]})\n",
    "    else:\n",
    "        new_row_down[\"nb_type\"] = \"nbd\"\n",
    "    result = pd.concat([new_row_right,new_row_left,new_row_up,new_row_down])\n",
    "    return result\n",
    "\n",
    "\n",
    "\n",
    "def add_neighbours(df,x,y):\n",
    "    '''\n",
    "    \n",
    "        df_cell: adds neighbours to specific cell\n",
    "    '''\n",
    "    df_cell = df.loc[(df[\"x\"] ==x) & (df[\"y\"] ==y)]\n",
    "    \n",
    "    neighbours = get_neighbours(df,x,y)\n",
    "    \n",
    "    neighbours_right = neighbours.loc[neighbours[\"nb_type\"] == \"nbr\"]\n",
    "    neighbours_left = neighbours.loc[neighbours[\"nb_type\"] == \"nbl\"]\n",
    "    neighbours_up = neighbours.loc[neighbours[\"nb_type\"] == \"nbu\"]\n",
    "    neighbours_down = neighbours.loc[neighbours[\"nb_type\"] == \"nbd\"]\n",
    "    \n",
    "    try:\n",
    "        df_to_append = pd.DataFrame({\"nbr\":neighbours_right[\"emission_value\"].values,\n",
    "                                    \"nbl\":neighbours_left[\"emission_value\"].values,\n",
    "                                    \"nbu\":neighbours_up[\"emission_value\"].values,\n",
    "                                    \"nbd\":neighbours_down[\"emission_value\"].values})\n",
    "    except:\n",
    "        df_to_append = pd.DataFrame()\n",
    "        \n",
    "    df_to_append = df_to_append.reset_index(drop=True)\n",
    "    df_cell = df_cell.reset_index(drop=True)\n",
    "    result= pd.concat([df_cell,df_to_append],axis = 1)\n",
    "    return result\n",
    "\n",
    "def complete_df_with_neighbours(df):\n",
    "    '''\n",
    "        \n",
    "    '''\n",
    "    maximal_x = max(df[\"x\"])\n",
    "    minimal_x = min(df[\"x\"])\n",
    "    maximal_y = max(df[\"y\"])\n",
    "    minimal_y = min(df[\"y\"])\n",
    "    #print(df.shape[0])\n",
    "    result = pd.DataFrame()\n",
    "    for i in range(minimal_x,maximal_x+1,1):\n",
    "        for j in range(minimal_y,maximal_y+1):\n",
    "            df_cell = add_neighbours(df,i ,j )\n",
    "            #print(df_cell)\n",
    "            result = pd.concat([result,df_cell])\n",
    "    return result\n",
    "    "
   ],
   "metadata": {
    "collapsed": false,
    "ExecuteTime": {
     "end_time": "2024-01-11T14:58:42.845347200Z",
     "start_time": "2024-01-11T14:58:42.828920600Z"
    }
   },
   "id": "79736235"
  },
  {
   "cell_type": "code",
   "execution_count": 2,
   "outputs": [],
   "source": [],
   "metadata": {
    "collapsed": false,
    "ExecuteTime": {
     "end_time": "2024-01-11T14:58:42.866818600Z",
     "start_time": "2024-01-11T14:58:42.844147500Z"
    }
   },
   "id": "399618b6c0dae5ac"
  },
  {
   "cell_type": "markdown",
   "source": [
    "## Optimizing the functions"
   ],
   "metadata": {
    "collapsed": false
   },
   "id": "a5546ae82dc36ce6"
  },
  {
   "cell_type": "markdown",
   "source": [
    "### by another call functions"
   ],
   "metadata": {
    "collapsed": false
   },
   "id": "6c6339533831eea5"
  },
  {
   "cell_type": "code",
   "execution_count": 3,
   "outputs": [],
   "source": [
    "\n",
    "def get_neighbours_optimized(df,x,y):\n",
    "    result = pd.DataFrame()\n",
    "\n",
    "    # Define neighbor coordinates\n",
    "    neighbors_coords = [(x+1, y, \"nbr\"), (x-1, y, \"nbl\"), (x, y-1, \"nbu\"), (x, y+1, \"nbd\")]\n",
    "\n",
    "    for nx, ny, nb_type in neighbors_coords:\n",
    "        new_row = df.loc[(df[\"x\"] == nx) & (df[\"y\"] == ny)].copy()\n",
    "\n",
    "        if len(new_row) == 0:\n",
    "            new_row = pd.DataFrame({\n",
    "                \"x\": [nx] * df.shape[0],\n",
    "                \"y\": [ny] * df.shape[0],\n",
    "                \"emission_value\": [0] * df.shape[0],\n",
    "                \"hour\": df[\"hour\"].values,\n",
    "                \"nb_type\": [nb_type] * df.shape[0]\n",
    "            })\n",
    "        else:\n",
    "            new_row[\"nb_type\"] = nb_type\n",
    "\n",
    "        result = pd.concat([result, new_row])\n",
    "\n",
    "    return result.reset_index(drop=True)\n",
    "\n",
    "\n",
    "\n",
    "def add_neighbours_optimized(df,x,y):\n",
    "    '''\n",
    "    \n",
    "        df_cell: adds neighbours to specific cell\n",
    "    '''\n",
    "    df_cell = df[(df[\"x\"] == x) & (df[\"y\"] == y)]\n",
    "\n",
    "    neighbours = get_neighbours_optimized(df_cell, x, y)\n",
    "\n",
    "    neighbours_right = neighbours[neighbours[\"nb_type\"] == \"nbr\"]\n",
    "    neighbours_left = neighbours[neighbours[\"nb_type\"] == \"nbl\"]\n",
    "    neighbours_up = neighbours[neighbours[\"nb_type\"] == \"nbu\"]\n",
    "    neighbours_down = neighbours[neighbours[\"nb_type\"] == \"nbd\"]\n",
    "\n",
    "    if not neighbours_right.empty:\n",
    "        df_cell.loc[:, \"nbr\"] = neighbours_right[\"emission_value\"].values\n",
    "    if not neighbours_left.empty:\n",
    "        df_cell.loc[:, \"nbl\"] = neighbours_left[\"emission_value\"].values\n",
    "    if not neighbours_up.empty:\n",
    "        df_cell.loc[:, \"nbu\"] = neighbours_up[\"emission_value\"].values\n",
    "    if not neighbours_down.empty:\n",
    "        df_cell.loc[:, \"nbd\"] = neighbours_down[\"emission_value\"].values\n",
    "\n",
    "    return df_cell.reset_index(drop=True)\n",
    "\n",
    "def complete_df_with_neighbours_optimized(df):\n",
    "    '''\n",
    "        \n",
    "    '''\n",
    "    maximal_x = df[\"x\"].max()\n",
    "    minimal_x = df[\"x\"].min()\n",
    "    maximal_y = df[\"y\"].max()\n",
    "    minimal_y = df[\"y\"].min()\n",
    "\n",
    "    result = []\n",
    "\n",
    "    for i in range(minimal_x, maximal_x + 1):\n",
    "        for j in range(minimal_y, maximal_y + 1):\n",
    "            df_cell = add_neighbours_optimized(df, i, j)\n",
    "            result.append(df_cell)\n",
    "\n",
    "    return pd.concat(result, ignore_index=True)"
   ],
   "metadata": {
    "collapsed": false,
    "ExecuteTime": {
     "end_time": "2024-01-11T14:58:42.869109400Z",
     "start_time": "2024-01-11T14:58:42.851939100Z"
    }
   },
   "id": "515cd878f913deac"
  },
  {
   "cell_type": "code",
   "execution_count": 4,
   "outputs": [],
   "source": [
    "#get_neighbours(result_nspecies,600,600)"
   ],
   "metadata": {
    "collapsed": false,
    "ExecuteTime": {
     "end_time": "2024-01-11T14:58:42.897811800Z",
     "start_time": "2024-01-11T14:58:42.856734600Z"
    }
   },
   "id": "a0761a07067c25b0"
  },
  {
   "cell_type": "code",
   "execution_count": 5,
   "outputs": [],
   "source": [
    "#get_neighbours_optimized2(result_nspecies,600,600)\n"
   ],
   "metadata": {
    "collapsed": false,
    "ExecuteTime": {
     "end_time": "2024-01-11T14:58:42.898790300Z",
     "start_time": "2024-01-11T14:58:42.859012200Z"
    }
   },
   "id": "7b9fd06e234c53a0"
  },
  {
   "cell_type": "markdown",
   "source": [
    "### by another get neighbours return value logic"
   ],
   "metadata": {
    "collapsed": false
   },
   "id": "5b5e25fcb0422a9"
  },
  {
   "cell_type": "code",
   "execution_count": 33,
   "outputs": [],
   "source": [
    "from line_profiler import profile\n",
    "@profile\n",
    "def get_neighbours_optimized2(df,x,y):\n",
    "    \n",
    "    result = pd.DataFrame()\n",
    "\n",
    "    # Define neighbor coordinates\n",
    "    neighbors_coords = [(x+1, y, \"nbr\"), (x-1, y, \"nbl\"), (x, y-1, \"nbu\"), (x, y+1, \"nbd\")]\n",
    "    \n",
    "    subdf = df[(df[\"x\"] == x) & (df[\"y\"] == y)]\n",
    "    subdf_hours = set(subdf[\"hour\"])\n",
    "    #print(subdf)\n",
    "    for nx, ny, nb_type in neighbors_coords:\n",
    "        new_row = df[(df[\"x\"] == nx) & (df[\"y\"] == ny)]\n",
    "        \n",
    "        if len(new_row) == 0:\n",
    "            subdf[nb_type]  = [0]*subdf.shape[0]\n",
    "        else:\n",
    "            subdf[nb_type] = new_row[\"emission_value\"].values\n",
    "            #print(nb_type,new_row[\"emission_value\"])\n",
    "\n",
    "        \n",
    "\n",
    "    return subdf\n",
    "\n",
    "\n",
    "\n",
    "def complete_df_with_neighbours_optimized2(df):\n",
    "    '''\n",
    "        \n",
    "    '''\n",
    "    maximal_x = df[\"x\"].max()\n",
    "    minimal_x = df[\"x\"].min()\n",
    "    maximal_y = df[\"y\"].max()\n",
    "    minimal_y = df[\"y\"].min()\n",
    "\n",
    "    result = []\n",
    "\n",
    "    for i in range(minimal_x, maximal_x + 1):\n",
    "        for j in range(minimal_y, maximal_y + 1):\n",
    "            df_cell = get_neighbours_optimized2(df, i, j)\n",
    "            result.append(df_cell)\n",
    "\n",
    "    return pd.concat(result, ignore_index=True)"
   ],
   "metadata": {
    "collapsed": false,
    "ExecuteTime": {
     "end_time": "2024-01-11T16:25:10.927243400Z",
     "start_time": "2024-01-11T16:25:10.906261100Z"
    }
   },
   "id": "5a14e92fea28242d"
  },
  {
   "cell_type": "code",
   "execution_count": 69,
   "outputs": [
    {
     "data": {
      "text/plain": "          x   y  hour  building_height  emission_value  nbr  nbl  nbu  nbd\n0         0   0     0              0.0             0.0  0.0  0.0  0.0  0.0\n1         0   0     1              0.0             0.0  0.0  0.0  0.0  0.0\n2         0   0     2              0.0             0.0  0.0  0.0  0.0  0.0\n3         0   0     3              0.0             0.0  0.0  0.0  0.0  0.0\n4         0   0     4              0.0             0.0  0.0  0.0  0.0  0.0\n...      ..  ..   ...              ...             ...  ...  ...  ...  ...\n1178395  49  49    43              0.0             0.0  0.0  0.0  0.0  0.0\n1178396  49  49    44              0.0             0.0  0.0  0.0  0.0  0.0\n1178397  49  49    45              0.0             0.0  0.0  0.0  0.0  0.0\n1178398  49  49    46              0.0             0.0  0.0  0.0  0.0  0.0\n1178399  49  49    47              0.0             0.0  0.0  0.0  0.0  0.0\n\n[120000 rows x 9 columns]",
      "text/html": "<div>\n<style scoped>\n    .dataframe tbody tr th:only-of-type {\n        vertical-align: middle;\n    }\n\n    .dataframe tbody tr th {\n        vertical-align: top;\n    }\n\n    .dataframe thead th {\n        text-align: right;\n    }\n</style>\n<table border=\"1\" class=\"dataframe\">\n  <thead>\n    <tr style=\"text-align: right;\">\n      <th></th>\n      <th>x</th>\n      <th>y</th>\n      <th>hour</th>\n      <th>building_height</th>\n      <th>emission_value</th>\n      <th>nbr</th>\n      <th>nbl</th>\n      <th>nbu</th>\n      <th>nbd</th>\n    </tr>\n  </thead>\n  <tbody>\n    <tr>\n      <th>0</th>\n      <td>0</td>\n      <td>0</td>\n      <td>0</td>\n      <td>0.0</td>\n      <td>0.0</td>\n      <td>0.0</td>\n      <td>0.0</td>\n      <td>0.0</td>\n      <td>0.0</td>\n    </tr>\n    <tr>\n      <th>1</th>\n      <td>0</td>\n      <td>0</td>\n      <td>1</td>\n      <td>0.0</td>\n      <td>0.0</td>\n      <td>0.0</td>\n      <td>0.0</td>\n      <td>0.0</td>\n      <td>0.0</td>\n    </tr>\n    <tr>\n      <th>2</th>\n      <td>0</td>\n      <td>0</td>\n      <td>2</td>\n      <td>0.0</td>\n      <td>0.0</td>\n      <td>0.0</td>\n      <td>0.0</td>\n      <td>0.0</td>\n      <td>0.0</td>\n    </tr>\n    <tr>\n      <th>3</th>\n      <td>0</td>\n      <td>0</td>\n      <td>3</td>\n      <td>0.0</td>\n      <td>0.0</td>\n      <td>0.0</td>\n      <td>0.0</td>\n      <td>0.0</td>\n      <td>0.0</td>\n    </tr>\n    <tr>\n      <th>4</th>\n      <td>0</td>\n      <td>0</td>\n      <td>4</td>\n      <td>0.0</td>\n      <td>0.0</td>\n      <td>0.0</td>\n      <td>0.0</td>\n      <td>0.0</td>\n      <td>0.0</td>\n    </tr>\n    <tr>\n      <th>...</th>\n      <td>...</td>\n      <td>...</td>\n      <td>...</td>\n      <td>...</td>\n      <td>...</td>\n      <td>...</td>\n      <td>...</td>\n      <td>...</td>\n      <td>...</td>\n    </tr>\n    <tr>\n      <th>1178395</th>\n      <td>49</td>\n      <td>49</td>\n      <td>43</td>\n      <td>0.0</td>\n      <td>0.0</td>\n      <td>0.0</td>\n      <td>0.0</td>\n      <td>0.0</td>\n      <td>0.0</td>\n    </tr>\n    <tr>\n      <th>1178396</th>\n      <td>49</td>\n      <td>49</td>\n      <td>44</td>\n      <td>0.0</td>\n      <td>0.0</td>\n      <td>0.0</td>\n      <td>0.0</td>\n      <td>0.0</td>\n      <td>0.0</td>\n    </tr>\n    <tr>\n      <th>1178397</th>\n      <td>49</td>\n      <td>49</td>\n      <td>45</td>\n      <td>0.0</td>\n      <td>0.0</td>\n      <td>0.0</td>\n      <td>0.0</td>\n      <td>0.0</td>\n      <td>0.0</td>\n    </tr>\n    <tr>\n      <th>1178398</th>\n      <td>49</td>\n      <td>49</td>\n      <td>46</td>\n      <td>0.0</td>\n      <td>0.0</td>\n      <td>0.0</td>\n      <td>0.0</td>\n      <td>0.0</td>\n      <td>0.0</td>\n    </tr>\n    <tr>\n      <th>1178399</th>\n      <td>49</td>\n      <td>49</td>\n      <td>47</td>\n      <td>0.0</td>\n      <td>0.0</td>\n      <td>0.0</td>\n      <td>0.0</td>\n      <td>0.0</td>\n      <td>0.0</td>\n    </tr>\n  </tbody>\n</table>\n<p>120000 rows × 9 columns</p>\n</div>"
     },
     "execution_count": 69,
     "metadata": {},
     "output_type": "execute_result"
    }
   ],
   "source": [
    "species1 = pd.read_csv(\"../data/result_species_500/result1_species_in.csv\",sep=\";\")\n",
    "species1 = species1[(species1[\"x\"]<50) & (species1[\"y\"]<50)]\n",
    "species1\n",
    "\n"
   ],
   "metadata": {
    "collapsed": false,
    "ExecuteTime": {
     "end_time": "2024-01-11T17:42:50.317866100Z",
     "start_time": "2024-01-11T17:42:50.274018800Z"
    }
   },
   "id": "1e2ecf432b305fca"
  },
  {
   "cell_type": "code",
   "execution_count": 74,
   "outputs": [],
   "source": [
    "%reload_ext line_profiler"
   ],
   "metadata": {
    "collapsed": false,
    "ExecuteTime": {
     "end_time": "2024-01-11T17:44:01.355489400Z",
     "start_time": "2024-01-11T17:44:01.333343700Z"
    }
   },
   "id": "168d319bb6bcf62c"
  },
  {
   "cell_type": "code",
   "execution_count": 37,
   "outputs": [],
   "source": [
    "%lprun -f complete_df_with_neighbours_optimized2 -f get_neighbours_optimized2 complete_df_with_neighbours_optimized2(species1)"
   ],
   "metadata": {
    "collapsed": false,
    "ExecuteTime": {
     "end_time": "2024-01-11T16:26:01.811034900Z",
     "start_time": "2024-01-11T16:25:59.367238300Z"
    }
   },
   "id": "e88a0bd684af887a"
  },
  {
   "cell_type": "code",
   "execution_count": null,
   "outputs": [],
   "source": [
    "res = complete_df_with_neighbours_optimized2(species1)\n",
    "res"
   ],
   "metadata": {
    "collapsed": false
   },
   "id": "4ad11d5f3a877c5d"
  },
  {
   "cell_type": "markdown",
   "source": [
    "### After Profiling"
   ],
   "metadata": {
    "collapsed": false
   },
   "id": "23b02a6eb54cd0e8"
  },
  {
   "cell_type": "code",
   "execution_count": 64,
   "outputs": [],
   "source": [
    "@profile\n",
    "def get_neighbours_optimized2_profiled(df,ds, x, y,xs,ys,hours):\n",
    "    result = pd.DataFrame()\n",
    "\n",
    "    # Define neighbor coordinates\n",
    "    neighbors_coords = [(x + 1, y, \"nbr\"), (x - 1, y, \"nbl\"), (x, y - 1, \"nbu\"), (x, y + 1, \"nbd\")]\n",
    "\n",
    "    subdf = df[(df[\"x\"] == x) & (df[\"y\"] == y)]\n",
    "\n",
    "    for nx, ny, nb_type in neighbors_coords:\n",
    "        emission_list = []\n",
    "        if(nx not in xs\n",
    "                or ny not in ys):\n",
    "            emission_list = [0]*len(hours)\n",
    "            continue\n",
    "\n",
    "\n",
    "        emission_list=ds[\"emission_values\"][hours, 0, ny, nx, 0].data\n",
    "\n",
    "        subdf[nb_type] = emission_list\n",
    "            # print(nb_type,new_row[\"emission_value\"])\n",
    "\n",
    "    return subdf\n",
    "\n",
    "@profile\n",
    "def complete_df_with_neighbours_optimized2_profiled(df,ds):\n",
    "    '''\n",
    "\n",
    "    '''\n",
    "    maximal_x = df[\"x\"].max()\n",
    "    minimal_x = df[\"x\"].min()\n",
    "    maximal_y = df[\"y\"].max()\n",
    "    minimal_y = df[\"y\"].min()\n",
    "\n",
    "    result = []\n",
    "\n",
    "    xs = set(df[\"x\"])\n",
    "    ys = set(df[\"y\"])\n",
    "    hours = list(set(df[\"hour\"]))\n",
    "    for i in range(minimal_x, maximal_x + 1):\n",
    "        for j in range(minimal_y, maximal_y + 1):\n",
    "            df_cell = get_neighbours_optimized2_profiled(df,ds, i, j,xs,ys,hours)\n",
    "            result.append(df_cell)\n",
    "\n",
    "    return pd.concat(result, ignore_index=True)"
   ],
   "metadata": {
    "collapsed": false,
    "ExecuteTime": {
     "end_time": "2024-01-11T17:37:33.751283300Z",
     "start_time": "2024-01-11T17:37:33.733367800Z"
    }
   },
   "id": "f37046069f57026a"
  },
  {
   "cell_type": "code",
   "execution_count": 65,
   "outputs": [],
   "source": [
    "ds = nc.Dataset(\"../data/photoshade_6km10m_lod2_chemistry.nc\")\n"
   ],
   "metadata": {
    "collapsed": false,
    "ExecuteTime": {
     "end_time": "2024-01-11T17:37:34.049766900Z",
     "start_time": "2024-01-11T17:37:34.029123800Z"
    }
   },
   "id": "1b94f0b5b878181d"
  },
  {
   "cell_type": "code",
   "execution_count": 72,
   "outputs": [
    {
     "data": {
      "text/plain": "         x   y  hour  building_height  emission_value  nbr  nbl  nbu  nbd\n0        0   0     0              0.0             0.0  0.0  0.0  0.0  0.0\n1        0   0     1              0.0             0.0  0.0  0.0  0.0  0.0\n2        0   0     2              0.0             0.0  0.0  0.0  0.0  0.0\n3        0   0     3              0.0             0.0  0.0  0.0  0.0  0.0\n4        0   0     4              0.0             0.0  0.0  0.0  0.0  0.0\n...     ..  ..   ...              ...             ...  ...  ...  ...  ...\n119995  49  49    43              0.0             0.0  0.0  0.0  0.0  0.0\n119996  49  49    44              0.0             0.0  0.0  0.0  0.0  0.0\n119997  49  49    45              0.0             0.0  0.0  0.0  0.0  0.0\n119998  49  49    46              0.0             0.0  0.0  0.0  0.0  0.0\n119999  49  49    47              0.0             0.0  0.0  0.0  0.0  0.0\n\n[120000 rows x 9 columns]",
      "text/html": "<div>\n<style scoped>\n    .dataframe tbody tr th:only-of-type {\n        vertical-align: middle;\n    }\n\n    .dataframe tbody tr th {\n        vertical-align: top;\n    }\n\n    .dataframe thead th {\n        text-align: right;\n    }\n</style>\n<table border=\"1\" class=\"dataframe\">\n  <thead>\n    <tr style=\"text-align: right;\">\n      <th></th>\n      <th>x</th>\n      <th>y</th>\n      <th>hour</th>\n      <th>building_height</th>\n      <th>emission_value</th>\n      <th>nbr</th>\n      <th>nbl</th>\n      <th>nbu</th>\n      <th>nbd</th>\n    </tr>\n  </thead>\n  <tbody>\n    <tr>\n      <th>0</th>\n      <td>0</td>\n      <td>0</td>\n      <td>0</td>\n      <td>0.0</td>\n      <td>0.0</td>\n      <td>0.0</td>\n      <td>0.0</td>\n      <td>0.0</td>\n      <td>0.0</td>\n    </tr>\n    <tr>\n      <th>1</th>\n      <td>0</td>\n      <td>0</td>\n      <td>1</td>\n      <td>0.0</td>\n      <td>0.0</td>\n      <td>0.0</td>\n      <td>0.0</td>\n      <td>0.0</td>\n      <td>0.0</td>\n    </tr>\n    <tr>\n      <th>2</th>\n      <td>0</td>\n      <td>0</td>\n      <td>2</td>\n      <td>0.0</td>\n      <td>0.0</td>\n      <td>0.0</td>\n      <td>0.0</td>\n      <td>0.0</td>\n      <td>0.0</td>\n    </tr>\n    <tr>\n      <th>3</th>\n      <td>0</td>\n      <td>0</td>\n      <td>3</td>\n      <td>0.0</td>\n      <td>0.0</td>\n      <td>0.0</td>\n      <td>0.0</td>\n      <td>0.0</td>\n      <td>0.0</td>\n    </tr>\n    <tr>\n      <th>4</th>\n      <td>0</td>\n      <td>0</td>\n      <td>4</td>\n      <td>0.0</td>\n      <td>0.0</td>\n      <td>0.0</td>\n      <td>0.0</td>\n      <td>0.0</td>\n      <td>0.0</td>\n    </tr>\n    <tr>\n      <th>...</th>\n      <td>...</td>\n      <td>...</td>\n      <td>...</td>\n      <td>...</td>\n      <td>...</td>\n      <td>...</td>\n      <td>...</td>\n      <td>...</td>\n      <td>...</td>\n    </tr>\n    <tr>\n      <th>119995</th>\n      <td>49</td>\n      <td>49</td>\n      <td>43</td>\n      <td>0.0</td>\n      <td>0.0</td>\n      <td>0.0</td>\n      <td>0.0</td>\n      <td>0.0</td>\n      <td>0.0</td>\n    </tr>\n    <tr>\n      <th>119996</th>\n      <td>49</td>\n      <td>49</td>\n      <td>44</td>\n      <td>0.0</td>\n      <td>0.0</td>\n      <td>0.0</td>\n      <td>0.0</td>\n      <td>0.0</td>\n      <td>0.0</td>\n    </tr>\n    <tr>\n      <th>119997</th>\n      <td>49</td>\n      <td>49</td>\n      <td>45</td>\n      <td>0.0</td>\n      <td>0.0</td>\n      <td>0.0</td>\n      <td>0.0</td>\n      <td>0.0</td>\n      <td>0.0</td>\n    </tr>\n    <tr>\n      <th>119998</th>\n      <td>49</td>\n      <td>49</td>\n      <td>46</td>\n      <td>0.0</td>\n      <td>0.0</td>\n      <td>0.0</td>\n      <td>0.0</td>\n      <td>0.0</td>\n      <td>0.0</td>\n    </tr>\n    <tr>\n      <th>119999</th>\n      <td>49</td>\n      <td>49</td>\n      <td>47</td>\n      <td>0.0</td>\n      <td>0.0</td>\n      <td>0.0</td>\n      <td>0.0</td>\n      <td>0.0</td>\n      <td>0.0</td>\n    </tr>\n  </tbody>\n</table>\n<p>120000 rows × 9 columns</p>\n</div>"
     },
     "execution_count": 72,
     "metadata": {},
     "output_type": "execute_result"
    }
   ],
   "source": [
    "complete_df_with_neighbours_optimized2_profiled(species1,ds)"
   ],
   "metadata": {
    "collapsed": false,
    "ExecuteTime": {
     "end_time": "2024-01-11T17:43:31.868389900Z",
     "start_time": "2024-01-11T17:43:25.918195900Z"
    }
   },
   "id": "431c886d6f86ce8d"
  },
  {
   "cell_type": "code",
   "execution_count": 73,
   "outputs": [
    {
     "data": {
      "text/plain": "         x   y  hour  building_height  emission_value  nbr  nbl  nbu  nbd\n0        0   0     0              0.0             0.0  0.0  0.0  0.0  0.0\n1        0   0     1              0.0             0.0  0.0  0.0  0.0  0.0\n2        0   0     2              0.0             0.0  0.0  0.0  0.0  0.0\n3        0   0     3              0.0             0.0  0.0  0.0  0.0  0.0\n4        0   0     4              0.0             0.0  0.0  0.0  0.0  0.0\n...     ..  ..   ...              ...             ...  ...  ...  ...  ...\n119995  49  49    43              0.0             0.0  0.0  0.0  0.0  0.0\n119996  49  49    44              0.0             0.0  0.0  0.0  0.0  0.0\n119997  49  49    45              0.0             0.0  0.0  0.0  0.0  0.0\n119998  49  49    46              0.0             0.0  0.0  0.0  0.0  0.0\n119999  49  49    47              0.0             0.0  0.0  0.0  0.0  0.0\n\n[120000 rows x 9 columns]",
      "text/html": "<div>\n<style scoped>\n    .dataframe tbody tr th:only-of-type {\n        vertical-align: middle;\n    }\n\n    .dataframe tbody tr th {\n        vertical-align: top;\n    }\n\n    .dataframe thead th {\n        text-align: right;\n    }\n</style>\n<table border=\"1\" class=\"dataframe\">\n  <thead>\n    <tr style=\"text-align: right;\">\n      <th></th>\n      <th>x</th>\n      <th>y</th>\n      <th>hour</th>\n      <th>building_height</th>\n      <th>emission_value</th>\n      <th>nbr</th>\n      <th>nbl</th>\n      <th>nbu</th>\n      <th>nbd</th>\n    </tr>\n  </thead>\n  <tbody>\n    <tr>\n      <th>0</th>\n      <td>0</td>\n      <td>0</td>\n      <td>0</td>\n      <td>0.0</td>\n      <td>0.0</td>\n      <td>0.0</td>\n      <td>0.0</td>\n      <td>0.0</td>\n      <td>0.0</td>\n    </tr>\n    <tr>\n      <th>1</th>\n      <td>0</td>\n      <td>0</td>\n      <td>1</td>\n      <td>0.0</td>\n      <td>0.0</td>\n      <td>0.0</td>\n      <td>0.0</td>\n      <td>0.0</td>\n      <td>0.0</td>\n    </tr>\n    <tr>\n      <th>2</th>\n      <td>0</td>\n      <td>0</td>\n      <td>2</td>\n      <td>0.0</td>\n      <td>0.0</td>\n      <td>0.0</td>\n      <td>0.0</td>\n      <td>0.0</td>\n      <td>0.0</td>\n    </tr>\n    <tr>\n      <th>3</th>\n      <td>0</td>\n      <td>0</td>\n      <td>3</td>\n      <td>0.0</td>\n      <td>0.0</td>\n      <td>0.0</td>\n      <td>0.0</td>\n      <td>0.0</td>\n      <td>0.0</td>\n    </tr>\n    <tr>\n      <th>4</th>\n      <td>0</td>\n      <td>0</td>\n      <td>4</td>\n      <td>0.0</td>\n      <td>0.0</td>\n      <td>0.0</td>\n      <td>0.0</td>\n      <td>0.0</td>\n      <td>0.0</td>\n    </tr>\n    <tr>\n      <th>...</th>\n      <td>...</td>\n      <td>...</td>\n      <td>...</td>\n      <td>...</td>\n      <td>...</td>\n      <td>...</td>\n      <td>...</td>\n      <td>...</td>\n      <td>...</td>\n    </tr>\n    <tr>\n      <th>119995</th>\n      <td>49</td>\n      <td>49</td>\n      <td>43</td>\n      <td>0.0</td>\n      <td>0.0</td>\n      <td>0.0</td>\n      <td>0.0</td>\n      <td>0.0</td>\n      <td>0.0</td>\n    </tr>\n    <tr>\n      <th>119996</th>\n      <td>49</td>\n      <td>49</td>\n      <td>44</td>\n      <td>0.0</td>\n      <td>0.0</td>\n      <td>0.0</td>\n      <td>0.0</td>\n      <td>0.0</td>\n      <td>0.0</td>\n    </tr>\n    <tr>\n      <th>119997</th>\n      <td>49</td>\n      <td>49</td>\n      <td>45</td>\n      <td>0.0</td>\n      <td>0.0</td>\n      <td>0.0</td>\n      <td>0.0</td>\n      <td>0.0</td>\n      <td>0.0</td>\n    </tr>\n    <tr>\n      <th>119998</th>\n      <td>49</td>\n      <td>49</td>\n      <td>46</td>\n      <td>0.0</td>\n      <td>0.0</td>\n      <td>0.0</td>\n      <td>0.0</td>\n      <td>0.0</td>\n      <td>0.0</td>\n    </tr>\n    <tr>\n      <th>119999</th>\n      <td>49</td>\n      <td>49</td>\n      <td>47</td>\n      <td>0.0</td>\n      <td>0.0</td>\n      <td>0.0</td>\n      <td>0.0</td>\n      <td>0.0</td>\n      <td>0.0</td>\n    </tr>\n  </tbody>\n</table>\n<p>120000 rows × 9 columns</p>\n</div>"
     },
     "execution_count": 73,
     "metadata": {},
     "output_type": "execute_result"
    }
   ],
   "source": [
    "complete_df_with_neighbours_optimized2(species1)"
   ],
   "metadata": {
    "collapsed": false,
    "ExecuteTime": {
     "end_time": "2024-01-11T17:43:43.689579900Z",
     "start_time": "2024-01-11T17:43:37.505452700Z"
    }
   },
   "id": "d99e5e003769e809"
  },
  {
   "cell_type": "code",
   "execution_count": 75,
   "outputs": [],
   "source": [
    "%lprun -f complete_df_with_neighbours_optimized2_profiled -f get_neighbours_optimized2_profiled complete_df_with_neighbours_optimized2_profiled(species1,ds)\n"
   ],
   "metadata": {
    "collapsed": false,
    "ExecuteTime": {
     "end_time": "2024-01-11T17:44:53.023983Z",
     "start_time": "2024-01-11T17:44:42.315823100Z"
    }
   },
   "id": "9260df023feaaaea"
  },
  {
   "cell_type": "code",
   "execution_count": 76,
   "outputs": [],
   "source": [
    "%lprun -f complete_df_with_neighbours_optimized2 -f get_neighbours_optimized2 complete_df_with_neighbours_optimized2(species1)\n"
   ],
   "metadata": {
    "collapsed": false,
    "ExecuteTime": {
     "end_time": "2024-01-11T17:46:52.608273300Z",
     "start_time": "2024-01-11T17:46:38.018770500Z"
    }
   },
   "id": "77d978b7fd540877"
  },
  {
   "cell_type": "markdown",
   "source": [
    "### Best implementation with parallel computing"
   ],
   "metadata": {
    "collapsed": false
   },
   "id": "2edf258f2d8a2fb0"
  },
  {
   "cell_type": "code",
   "execution_count": 10,
   "outputs": [],
   "source": [
    "def split_to_chunks(df, num_processes = 4):\n",
    "    hour_size = len(set(df[\"hour\"]))\n",
    "    chunk_size = len(set(df[\"x\"]))*len(set(df[\"y\"]))*hour_size//num_processes\n",
    "    number_of_chunks = df.shape[0]//chunk_size\n",
    "    print(hour_size,chunk_size,number_of_chunks)\n",
    "    result = []\n",
    "    \n",
    "    for i in range(number_of_chunks):\n",
    "        result.append(df.iloc[i*chunk_size:(i+1)*chunk_size].copy())\n",
    "        \n",
    "    return result"
   ],
   "metadata": {
    "collapsed": false,
    "ExecuteTime": {
     "end_time": "2024-01-09T10:39:36.939188400Z",
     "start_time": "2024-01-09T10:39:36.914231700Z"
    }
   },
   "id": "37330922c5e34a87"
  },
  {
   "cell_type": "code",
   "execution_count": 25,
   "outputs": [],
   "source": [
    "import pandas as pd\n",
    "import multiprocessing\n",
    "from concurrent.futures import ThreadPoolExecutor\n",
    "import joblib\n",
    "import os\n",
    "\n",
    "def process_chunk(chunk,df):\n",
    "    try:\n",
    "        #print(\"i am here\")\n",
    "        xs = set(chunk[\"x\"])\n",
    "        ys = set(chunk[\"y\"])\n",
    "        result = []\n",
    "        for x in xs:\n",
    "            for y in ys:\n",
    "                df_cell = get_neighbours_optimized2(df, x, y)\n",
    "                result.append(df_cell)\n",
    "        return pd.concat(result, ignore_index=True)\n",
    "    except Exception as e:\n",
    "        print(\"error in process\",e,multiprocessing.current_process())\n",
    "\n",
    "\n",
    "def complete_df_with_neighbours_optimized2_parallel(df, num_processes=4): \n",
    "    \n",
    "     \n",
    "    \n",
    "    chunks = split_to_chunks(df, num_processes)\n",
    "    #print(chunks)\n",
    "    results = []\n",
    "    result = joblib.Parallel(n_jobs=num_processes)(joblib.delayed(process_chunk)(chunks[i],df) for i in range(len(chunks)))\n",
    "    #print((result))\n",
    "    result_df = pd.concat(result)\n",
    "    return result_df\n",
    "\n"
   ],
   "metadata": {
    "collapsed": false,
    "ExecuteTime": {
     "end_time": "2024-01-09T14:11:41.116258500Z",
     "start_time": "2024-01-09T14:11:41.094222600Z"
    }
   },
   "id": "1d8ee86bc94f9504"
  },
  {
   "cell_type": "code",
   "execution_count": 12,
   "outputs": [
    {
     "data": {
      "text/plain": "           x    y  hour  building_height  emission_value  nbr  nbl       nbu  \\\n0          0    0     0         0.000000        0.000000  0.0  0.0  0.000000   \n1          0    0     1         0.000000        0.000000  0.0  0.0  0.000000   \n2          0    0     2         0.000000        0.000000  0.0  0.0  0.000000   \n3          0    0     3         0.000000        0.000000  0.0  0.0  0.000000   \n4          0    0     4         0.000000        0.000000  0.0  0.0  0.000000   \n...      ...  ...   ...              ...             ...  ...  ...       ...   \n4785595  199  199    43        21.144001        0.001589  0.0  0.0  0.003678   \n4785596  199  199    44        21.144001        0.000553  0.0  0.0  0.001279   \n4785597  199  199    45        21.144001        0.000286  0.0  0.0  0.000662   \n4785598  199  199    46        21.144001        0.000000  0.0  0.0  0.000000   \n4785599  199  199    47        21.144001        0.000000  0.0  0.0  0.000000   \n\n              nbd  \n0        0.000000  \n1        0.000000  \n2        0.000000  \n3        0.000000  \n4        0.000000  \n...           ...  \n4785595  0.001589  \n4785596  0.000553  \n4785597  0.000286  \n4785598  0.000000  \n4785599  0.000000  \n\n[1920000 rows x 9 columns]",
      "text/html": "<div>\n<style scoped>\n    .dataframe tbody tr th:only-of-type {\n        vertical-align: middle;\n    }\n\n    .dataframe tbody tr th {\n        vertical-align: top;\n    }\n\n    .dataframe thead th {\n        text-align: right;\n    }\n</style>\n<table border=\"1\" class=\"dataframe\">\n  <thead>\n    <tr style=\"text-align: right;\">\n      <th></th>\n      <th>x</th>\n      <th>y</th>\n      <th>hour</th>\n      <th>building_height</th>\n      <th>emission_value</th>\n      <th>nbr</th>\n      <th>nbl</th>\n      <th>nbu</th>\n      <th>nbd</th>\n    </tr>\n  </thead>\n  <tbody>\n    <tr>\n      <th>0</th>\n      <td>0</td>\n      <td>0</td>\n      <td>0</td>\n      <td>0.000000</td>\n      <td>0.000000</td>\n      <td>0.0</td>\n      <td>0.0</td>\n      <td>0.000000</td>\n      <td>0.000000</td>\n    </tr>\n    <tr>\n      <th>1</th>\n      <td>0</td>\n      <td>0</td>\n      <td>1</td>\n      <td>0.000000</td>\n      <td>0.000000</td>\n      <td>0.0</td>\n      <td>0.0</td>\n      <td>0.000000</td>\n      <td>0.000000</td>\n    </tr>\n    <tr>\n      <th>2</th>\n      <td>0</td>\n      <td>0</td>\n      <td>2</td>\n      <td>0.000000</td>\n      <td>0.000000</td>\n      <td>0.0</td>\n      <td>0.0</td>\n      <td>0.000000</td>\n      <td>0.000000</td>\n    </tr>\n    <tr>\n      <th>3</th>\n      <td>0</td>\n      <td>0</td>\n      <td>3</td>\n      <td>0.000000</td>\n      <td>0.000000</td>\n      <td>0.0</td>\n      <td>0.0</td>\n      <td>0.000000</td>\n      <td>0.000000</td>\n    </tr>\n    <tr>\n      <th>4</th>\n      <td>0</td>\n      <td>0</td>\n      <td>4</td>\n      <td>0.000000</td>\n      <td>0.000000</td>\n      <td>0.0</td>\n      <td>0.0</td>\n      <td>0.000000</td>\n      <td>0.000000</td>\n    </tr>\n    <tr>\n      <th>...</th>\n      <td>...</td>\n      <td>...</td>\n      <td>...</td>\n      <td>...</td>\n      <td>...</td>\n      <td>...</td>\n      <td>...</td>\n      <td>...</td>\n      <td>...</td>\n    </tr>\n    <tr>\n      <th>4785595</th>\n      <td>199</td>\n      <td>199</td>\n      <td>43</td>\n      <td>21.144001</td>\n      <td>0.001589</td>\n      <td>0.0</td>\n      <td>0.0</td>\n      <td>0.003678</td>\n      <td>0.001589</td>\n    </tr>\n    <tr>\n      <th>4785596</th>\n      <td>199</td>\n      <td>199</td>\n      <td>44</td>\n      <td>21.144001</td>\n      <td>0.000553</td>\n      <td>0.0</td>\n      <td>0.0</td>\n      <td>0.001279</td>\n      <td>0.000553</td>\n    </tr>\n    <tr>\n      <th>4785597</th>\n      <td>199</td>\n      <td>199</td>\n      <td>45</td>\n      <td>21.144001</td>\n      <td>0.000286</td>\n      <td>0.0</td>\n      <td>0.0</td>\n      <td>0.000662</td>\n      <td>0.000286</td>\n    </tr>\n    <tr>\n      <th>4785598</th>\n      <td>199</td>\n      <td>199</td>\n      <td>46</td>\n      <td>21.144001</td>\n      <td>0.000000</td>\n      <td>0.0</td>\n      <td>0.0</td>\n      <td>0.000000</td>\n      <td>0.000000</td>\n    </tr>\n    <tr>\n      <th>4785599</th>\n      <td>199</td>\n      <td>199</td>\n      <td>47</td>\n      <td>21.144001</td>\n      <td>0.000000</td>\n      <td>0.0</td>\n      <td>0.0</td>\n      <td>0.000000</td>\n      <td>0.000000</td>\n    </tr>\n  </tbody>\n</table>\n<p>1920000 rows × 9 columns</p>\n</div>"
     },
     "execution_count": 12,
     "metadata": {},
     "output_type": "execute_result"
    }
   ],
   "source": [
    "species1 = pd.read_csv(\"../data/result_species_500/result1_species_in.csv\",sep=\";\")\n",
    "species1 = species1[(species1[\"x\"]<200) & (species1[\"y\"]<200)]\n",
    "species1"
   ],
   "metadata": {
    "collapsed": false,
    "ExecuteTime": {
     "end_time": "2024-01-09T10:39:47.672904200Z",
     "start_time": "2024-01-09T10:39:36.998334700Z"
    }
   },
   "id": "bed6c315b07c8b02"
  },
  {
   "cell_type": "code",
   "execution_count": 59,
   "outputs": [
    {
     "name": "stdout",
     "output_type": "stream",
     "text": [
      "48 76800 4\n"
     ]
    },
    {
     "data": {
      "text/plain": "[         x   y  hour  building_height  emission_value  nbr  nbl  nbu  nbd\n 0        0   0     0              0.0             0.0  0.0  0.0  0.0  0.0\n 1        0   0     1              0.0             0.0  0.0  0.0  0.0  0.0\n 2        0   0     2              0.0             0.0  0.0  0.0  0.0  0.0\n 3        0   0     3              0.0             0.0  0.0  0.0  0.0  0.0\n 4        0   0     4              0.0             0.0  0.0  0.0  0.0  0.0\n ...     ..  ..   ...              ...             ...  ...  ...  ...  ...\n 459835  19  79    43              0.0             0.0  0.0  0.0  0.0  0.0\n 459836  19  79    44              0.0             0.0  0.0  0.0  0.0  0.0\n 459837  19  79    45              0.0             0.0  0.0  0.0  0.0  0.0\n 459838  19  79    46              0.0             0.0  0.0  0.0  0.0  0.0\n 459839  19  79    47              0.0             0.0  0.0  0.0  0.0  0.0\n \n [76800 rows x 9 columns],\n          x   y  hour  building_height  emission_value  nbr  nbl  nbu  nbd\n 480000  20   0     0         8.882679             0.0  0.0  0.0  0.0  0.0\n 480001  20   0     1         8.882679             0.0  0.0  0.0  0.0  0.0\n 480002  20   0     2         8.882679             0.0  0.0  0.0  0.0  0.0\n 480003  20   0     3         8.882679             0.0  0.0  0.0  0.0  0.0\n 480004  20   0     4         8.882679             0.0  0.0  0.0  0.0  0.0\n ...     ..  ..   ...              ...             ...  ...  ...  ...  ...\n 939835  39  79    43         0.000000             0.0  0.0  0.0  0.0  0.0\n 939836  39  79    44         0.000000             0.0  0.0  0.0  0.0  0.0\n 939837  39  79    45         0.000000             0.0  0.0  0.0  0.0  0.0\n 939838  39  79    46         0.000000             0.0  0.0  0.0  0.0  0.0\n 939839  39  79    47         0.000000             0.0  0.0  0.0  0.0  0.0\n \n [76800 rows x 9 columns],\n           x   y  hour  building_height  emission_value  nbr  nbl  nbu  nbd\n 960000   40   0     0         7.841021             0.0  0.0  0.0  0.0  0.0\n 960001   40   0     1         7.841021             0.0  0.0  0.0  0.0  0.0\n 960002   40   0     2         7.841021             0.0  0.0  0.0  0.0  0.0\n 960003   40   0     3         7.841021             0.0  0.0  0.0  0.0  0.0\n 960004   40   0     4         7.841021             0.0  0.0  0.0  0.0  0.0\n ...      ..  ..   ...              ...             ...  ...  ...  ...  ...\n 1419835  59  79    43         0.000000             0.0  0.0  0.0  0.0  0.0\n 1419836  59  79    44         0.000000             0.0  0.0  0.0  0.0  0.0\n 1419837  59  79    45         0.000000             0.0  0.0  0.0  0.0  0.0\n 1419838  59  79    46         0.000000             0.0  0.0  0.0  0.0  0.0\n 1419839  59  79    47         0.000000             0.0  0.0  0.0  0.0  0.0\n \n [76800 rows x 9 columns],\n           x   y  hour  building_height  emission_value  nbr  nbl  nbu  nbd\n 1440000  60   0     0         0.000000             0.0  0.0  0.0  0.0  0.0\n 1440001  60   0     1         0.000000             0.0  0.0  0.0  0.0  0.0\n 1440002  60   0     2         0.000000             0.0  0.0  0.0  0.0  0.0\n 1440003  60   0     3         0.000000             0.0  0.0  0.0  0.0  0.0\n 1440004  60   0     4         0.000000             0.0  0.0  0.0  0.0  0.0\n ...      ..  ..   ...              ...             ...  ...  ...  ...  ...\n 1899835  79  79    43        21.273052             0.0  0.0  0.0  0.0  0.0\n 1899836  79  79    44        21.273052             0.0  0.0  0.0  0.0  0.0\n 1899837  79  79    45        21.273052             0.0  0.0  0.0  0.0  0.0\n 1899838  79  79    46        21.273052             0.0  0.0  0.0  0.0  0.0\n 1899839  79  79    47        21.273052             0.0  0.0  0.0  0.0  0.0\n \n [76800 rows x 9 columns]]"
     },
     "execution_count": 59,
     "metadata": {},
     "output_type": "execute_result"
    }
   ],
   "source": [
    "split_to_chunks(species1, 4)"
   ],
   "metadata": {
    "collapsed": false,
    "ExecuteTime": {
     "end_time": "2024-01-05T18:37:53.051431700Z",
     "start_time": "2024-01-05T18:37:52.933164400Z"
    }
   },
   "id": "c58f67a4722cbb3d"
  },
  {
   "cell_type": "code",
   "execution_count": 16,
   "outputs": [
    {
     "data": {
      "text/plain": "           x    y  hour  building_height  emission_value  nbr  nbl       nbu  \\\n0          0    0     0         0.000000        0.000000  0.0  0.0  0.000000   \n1          0    0     1         0.000000        0.000000  0.0  0.0  0.000000   \n2          0    0     2         0.000000        0.000000  0.0  0.0  0.000000   \n3          0    0     3         0.000000        0.000000  0.0  0.0  0.000000   \n4          0    0     4         0.000000        0.000000  0.0  0.0  0.000000   \n...      ...  ...   ...              ...             ...  ...  ...       ...   \n1919995  199  199    43        21.144001        0.001589  0.0  0.0  0.003678   \n1919996  199  199    44        21.144001        0.000553  0.0  0.0  0.001279   \n1919997  199  199    45        21.144001        0.000286  0.0  0.0  0.000662   \n1919998  199  199    46        21.144001        0.000000  0.0  0.0  0.000000   \n1919999  199  199    47        21.144001        0.000000  0.0  0.0  0.000000   \n\n         nbd  \n0        0.0  \n1        0.0  \n2        0.0  \n3        0.0  \n4        0.0  \n...      ...  \n1919995  0.0  \n1919996  0.0  \n1919997  0.0  \n1919998  0.0  \n1919999  0.0  \n\n[1920000 rows x 9 columns]",
      "text/html": "<div>\n<style scoped>\n    .dataframe tbody tr th:only-of-type {\n        vertical-align: middle;\n    }\n\n    .dataframe tbody tr th {\n        vertical-align: top;\n    }\n\n    .dataframe thead th {\n        text-align: right;\n    }\n</style>\n<table border=\"1\" class=\"dataframe\">\n  <thead>\n    <tr style=\"text-align: right;\">\n      <th></th>\n      <th>x</th>\n      <th>y</th>\n      <th>hour</th>\n      <th>building_height</th>\n      <th>emission_value</th>\n      <th>nbr</th>\n      <th>nbl</th>\n      <th>nbu</th>\n      <th>nbd</th>\n    </tr>\n  </thead>\n  <tbody>\n    <tr>\n      <th>0</th>\n      <td>0</td>\n      <td>0</td>\n      <td>0</td>\n      <td>0.000000</td>\n      <td>0.000000</td>\n      <td>0.0</td>\n      <td>0.0</td>\n      <td>0.000000</td>\n      <td>0.0</td>\n    </tr>\n    <tr>\n      <th>1</th>\n      <td>0</td>\n      <td>0</td>\n      <td>1</td>\n      <td>0.000000</td>\n      <td>0.000000</td>\n      <td>0.0</td>\n      <td>0.0</td>\n      <td>0.000000</td>\n      <td>0.0</td>\n    </tr>\n    <tr>\n      <th>2</th>\n      <td>0</td>\n      <td>0</td>\n      <td>2</td>\n      <td>0.000000</td>\n      <td>0.000000</td>\n      <td>0.0</td>\n      <td>0.0</td>\n      <td>0.000000</td>\n      <td>0.0</td>\n    </tr>\n    <tr>\n      <th>3</th>\n      <td>0</td>\n      <td>0</td>\n      <td>3</td>\n      <td>0.000000</td>\n      <td>0.000000</td>\n      <td>0.0</td>\n      <td>0.0</td>\n      <td>0.000000</td>\n      <td>0.0</td>\n    </tr>\n    <tr>\n      <th>4</th>\n      <td>0</td>\n      <td>0</td>\n      <td>4</td>\n      <td>0.000000</td>\n      <td>0.000000</td>\n      <td>0.0</td>\n      <td>0.0</td>\n      <td>0.000000</td>\n      <td>0.0</td>\n    </tr>\n    <tr>\n      <th>...</th>\n      <td>...</td>\n      <td>...</td>\n      <td>...</td>\n      <td>...</td>\n      <td>...</td>\n      <td>...</td>\n      <td>...</td>\n      <td>...</td>\n      <td>...</td>\n    </tr>\n    <tr>\n      <th>1919995</th>\n      <td>199</td>\n      <td>199</td>\n      <td>43</td>\n      <td>21.144001</td>\n      <td>0.001589</td>\n      <td>0.0</td>\n      <td>0.0</td>\n      <td>0.003678</td>\n      <td>0.0</td>\n    </tr>\n    <tr>\n      <th>1919996</th>\n      <td>199</td>\n      <td>199</td>\n      <td>44</td>\n      <td>21.144001</td>\n      <td>0.000553</td>\n      <td>0.0</td>\n      <td>0.0</td>\n      <td>0.001279</td>\n      <td>0.0</td>\n    </tr>\n    <tr>\n      <th>1919997</th>\n      <td>199</td>\n      <td>199</td>\n      <td>45</td>\n      <td>21.144001</td>\n      <td>0.000286</td>\n      <td>0.0</td>\n      <td>0.0</td>\n      <td>0.000662</td>\n      <td>0.0</td>\n    </tr>\n    <tr>\n      <th>1919998</th>\n      <td>199</td>\n      <td>199</td>\n      <td>46</td>\n      <td>21.144001</td>\n      <td>0.000000</td>\n      <td>0.0</td>\n      <td>0.0</td>\n      <td>0.000000</td>\n      <td>0.0</td>\n    </tr>\n    <tr>\n      <th>1919999</th>\n      <td>199</td>\n      <td>199</td>\n      <td>47</td>\n      <td>21.144001</td>\n      <td>0.000000</td>\n      <td>0.0</td>\n      <td>0.0</td>\n      <td>0.000000</td>\n      <td>0.0</td>\n    </tr>\n  </tbody>\n</table>\n<p>1920000 rows × 9 columns</p>\n</div>"
     },
     "execution_count": 16,
     "metadata": {},
     "output_type": "execute_result"
    }
   ],
   "source": [
    "res = complete_df_with_neighbours_optimized2(species1)\n",
    "res"
   ],
   "metadata": {
    "collapsed": false,
    "ExecuteTime": {
     "end_time": "2024-01-09T12:08:59.279071700Z",
     "start_time": "2024-01-09T11:57:47.635783300Z"
    }
   },
   "id": "f16977c6e55f430e"
  },
  {
   "cell_type": "code",
   "execution_count": 54,
   "outputs": [
    {
     "data": {
      "text/plain": "16"
     },
     "execution_count": 54,
     "metadata": {},
     "output_type": "execute_result"
    }
   ],
   "source": [
    "joblib.cpu_count()"
   ],
   "metadata": {
    "collapsed": false,
    "ExecuteTime": {
     "end_time": "2024-01-05T18:36:03.285807100Z",
     "start_time": "2024-01-05T18:36:03.252584100Z"
    }
   },
   "id": "c3f487f4fec94d48"
  },
  {
   "cell_type": "code",
   "execution_count": 47,
   "outputs": [
    {
     "data": {
      "text/plain": "     x  y  hour  building_height  emission_value  nbr  nbl  nbu  nbd\n0    0  0     0         0.000000             0.0  0.0  0.0  0.0  0.0\n1    0  0     1         0.000000             0.0  0.0  0.0  0.0  0.0\n2    0  0     2         0.000000             0.0  0.0  0.0  0.0  0.0\n3    0  0     3         0.000000             0.0  0.0  0.0  0.0  0.0\n4    0  0     4         0.000000             0.0  0.0  0.0  0.0  0.0\n..  .. ..   ...              ...             ...  ...  ...  ...  ...\n187  3  3    43         7.131122             0.0  0.0  0.0  0.0  0.0\n188  3  3    44         7.131122             0.0  0.0  0.0  0.0  0.0\n189  3  3    45         7.131122             0.0  0.0  0.0  0.0  0.0\n190  3  3    46         7.131122             0.0  0.0  0.0  0.0  0.0\n191  3  3    47         7.131122             0.0  0.0  0.0  0.0  0.0\n\n[768 rows x 9 columns]",
      "text/html": "<div>\n<style scoped>\n    .dataframe tbody tr th:only-of-type {\n        vertical-align: middle;\n    }\n\n    .dataframe tbody tr th {\n        vertical-align: top;\n    }\n\n    .dataframe thead th {\n        text-align: right;\n    }\n</style>\n<table border=\"1\" class=\"dataframe\">\n  <thead>\n    <tr style=\"text-align: right;\">\n      <th></th>\n      <th>x</th>\n      <th>y</th>\n      <th>hour</th>\n      <th>building_height</th>\n      <th>emission_value</th>\n      <th>nbr</th>\n      <th>nbl</th>\n      <th>nbu</th>\n      <th>nbd</th>\n    </tr>\n  </thead>\n  <tbody>\n    <tr>\n      <th>0</th>\n      <td>0</td>\n      <td>0</td>\n      <td>0</td>\n      <td>0.000000</td>\n      <td>0.0</td>\n      <td>0.0</td>\n      <td>0.0</td>\n      <td>0.0</td>\n      <td>0.0</td>\n    </tr>\n    <tr>\n      <th>1</th>\n      <td>0</td>\n      <td>0</td>\n      <td>1</td>\n      <td>0.000000</td>\n      <td>0.0</td>\n      <td>0.0</td>\n      <td>0.0</td>\n      <td>0.0</td>\n      <td>0.0</td>\n    </tr>\n    <tr>\n      <th>2</th>\n      <td>0</td>\n      <td>0</td>\n      <td>2</td>\n      <td>0.000000</td>\n      <td>0.0</td>\n      <td>0.0</td>\n      <td>0.0</td>\n      <td>0.0</td>\n      <td>0.0</td>\n    </tr>\n    <tr>\n      <th>3</th>\n      <td>0</td>\n      <td>0</td>\n      <td>3</td>\n      <td>0.000000</td>\n      <td>0.0</td>\n      <td>0.0</td>\n      <td>0.0</td>\n      <td>0.0</td>\n      <td>0.0</td>\n    </tr>\n    <tr>\n      <th>4</th>\n      <td>0</td>\n      <td>0</td>\n      <td>4</td>\n      <td>0.000000</td>\n      <td>0.0</td>\n      <td>0.0</td>\n      <td>0.0</td>\n      <td>0.0</td>\n      <td>0.0</td>\n    </tr>\n    <tr>\n      <th>...</th>\n      <td>...</td>\n      <td>...</td>\n      <td>...</td>\n      <td>...</td>\n      <td>...</td>\n      <td>...</td>\n      <td>...</td>\n      <td>...</td>\n      <td>...</td>\n    </tr>\n    <tr>\n      <th>187</th>\n      <td>3</td>\n      <td>3</td>\n      <td>43</td>\n      <td>7.131122</td>\n      <td>0.0</td>\n      <td>0.0</td>\n      <td>0.0</td>\n      <td>0.0</td>\n      <td>0.0</td>\n    </tr>\n    <tr>\n      <th>188</th>\n      <td>3</td>\n      <td>3</td>\n      <td>44</td>\n      <td>7.131122</td>\n      <td>0.0</td>\n      <td>0.0</td>\n      <td>0.0</td>\n      <td>0.0</td>\n      <td>0.0</td>\n    </tr>\n    <tr>\n      <th>189</th>\n      <td>3</td>\n      <td>3</td>\n      <td>45</td>\n      <td>7.131122</td>\n      <td>0.0</td>\n      <td>0.0</td>\n      <td>0.0</td>\n      <td>0.0</td>\n      <td>0.0</td>\n    </tr>\n    <tr>\n      <th>190</th>\n      <td>3</td>\n      <td>3</td>\n      <td>46</td>\n      <td>7.131122</td>\n      <td>0.0</td>\n      <td>0.0</td>\n      <td>0.0</td>\n      <td>0.0</td>\n      <td>0.0</td>\n    </tr>\n    <tr>\n      <th>191</th>\n      <td>3</td>\n      <td>3</td>\n      <td>47</td>\n      <td>7.131122</td>\n      <td>0.0</td>\n      <td>0.0</td>\n      <td>0.0</td>\n      <td>0.0</td>\n      <td>0.0</td>\n    </tr>\n  </tbody>\n</table>\n<p>768 rows × 9 columns</p>\n</div>"
     },
     "execution_count": 47,
     "metadata": {},
     "output_type": "execute_result"
    }
   ],
   "source": [],
   "metadata": {
    "collapsed": false,
    "ExecuteTime": {
     "end_time": "2024-01-05T18:31:16.949981900Z",
     "start_time": "2024-01-05T18:31:16.924638700Z"
    }
   },
   "id": "8415105182fcbd9a"
  },
  {
   "cell_type": "markdown",
   "source": [
    "# Reading .nc files"
   ],
   "metadata": {
    "collapsed": false
   },
   "id": "e332702a"
  },
  {
   "cell_type": "markdown",
   "source": [
    "## Chemistry"
   ],
   "metadata": {
    "collapsed": false
   },
   "id": "383fd96233c76dae"
  },
  {
   "cell_type": "code",
   "execution_count": 38,
   "outputs": [],
   "source": [
    "ds = nc.Dataset(\"../data/photoshade_6km10m_lod2_chemistry.nc\")"
   ],
   "metadata": {
    "collapsed": false,
    "ExecuteTime": {
     "end_time": "2024-01-11T17:02:10.375348600Z",
     "start_time": "2024-01-11T17:02:10.334556400Z"
    }
   },
   "id": "7b230817"
  },
  {
   "cell_type": "markdown",
   "source": [
    "## Static"
   ],
   "metadata": {
    "collapsed": false
   },
   "id": "fdbef10ce986ed87"
  },
  {
   "cell_type": "code",
   "execution_count": 14,
   "outputs": [
    {
     "data": {
      "text/plain": "          x    y  building_height\n0         0    0         0.000000\n1         0    1         7.494203\n2         0    2         9.762539\n3         0    3         7.645858\n4         0    4         0.000000\n...     ...  ...              ...\n451579  671  179        18.275076\n451580  671  180        18.620945\n451581  671  181         0.000000\n451582  671  182         0.000000\n451583  671  183        16.172220\n\n[451584 rows x 3 columns]",
      "text/html": "<div>\n<style scoped>\n    .dataframe tbody tr th:only-of-type {\n        vertical-align: middle;\n    }\n\n    .dataframe tbody tr th {\n        vertical-align: top;\n    }\n\n    .dataframe thead th {\n        text-align: right;\n    }\n</style>\n<table border=\"1\" class=\"dataframe\">\n  <thead>\n    <tr style=\"text-align: right;\">\n      <th></th>\n      <th>x</th>\n      <th>y</th>\n      <th>building_height</th>\n    </tr>\n  </thead>\n  <tbody>\n    <tr>\n      <th>0</th>\n      <td>0</td>\n      <td>0</td>\n      <td>0.000000</td>\n    </tr>\n    <tr>\n      <th>1</th>\n      <td>0</td>\n      <td>1</td>\n      <td>7.494203</td>\n    </tr>\n    <tr>\n      <th>2</th>\n      <td>0</td>\n      <td>2</td>\n      <td>9.762539</td>\n    </tr>\n    <tr>\n      <th>3</th>\n      <td>0</td>\n      <td>3</td>\n      <td>7.645858</td>\n    </tr>\n    <tr>\n      <th>4</th>\n      <td>0</td>\n      <td>4</td>\n      <td>0.000000</td>\n    </tr>\n    <tr>\n      <th>...</th>\n      <td>...</td>\n      <td>...</td>\n      <td>...</td>\n    </tr>\n    <tr>\n      <th>451579</th>\n      <td>671</td>\n      <td>179</td>\n      <td>18.275076</td>\n    </tr>\n    <tr>\n      <th>451580</th>\n      <td>671</td>\n      <td>180</td>\n      <td>18.620945</td>\n    </tr>\n    <tr>\n      <th>451581</th>\n      <td>671</td>\n      <td>181</td>\n      <td>0.000000</td>\n    </tr>\n    <tr>\n      <th>451582</th>\n      <td>671</td>\n      <td>182</td>\n      <td>0.000000</td>\n    </tr>\n    <tr>\n      <th>451583</th>\n      <td>671</td>\n      <td>183</td>\n      <td>16.172220</td>\n    </tr>\n  </tbody>\n</table>\n<p>451584 rows × 3 columns</p>\n</div>"
     },
     "execution_count": 14,
     "metadata": {},
     "output_type": "execute_result"
    }
   ],
   "source": [
    "ds_static = nc.Dataset(\"../data/photoshade_6km10m_lod2_static.nc\")\n",
    "buildings = pd.DataFrame(ds_static[\"buildings_2d\"][:,:].data)\n",
    "buildings = buildings.melt(var_name = \"x\",value_name = \"building_height\")\n",
    "buildings[\"y\"] = [i%2440 for i in range(buildings.shape[0])]\n",
    "new_cols_order = [\"x\",\"y\",\"building_height\"]\n",
    "buildings = buildings[new_cols_order]\n",
    "buildings.replace(-9999,0,inplace=True) # because strange values where there are no pollutants\n",
    "buildings"
   ],
   "metadata": {
    "collapsed": false,
    "ExecuteTime": {
     "end_time": "2024-01-05T17:24:42.750185500Z",
     "start_time": "2024-01-05T17:24:42.613671600Z"
    }
   },
   "id": "69ee205a39acc28e"
  },
  {
   "cell_type": "markdown",
   "id": "5cc4f864",
   "metadata": {},
   "source": [
    "# Save information as CSV file"
   ]
  },
  {
   "cell_type": "markdown",
   "id": "34d9ef2c",
   "metadata": {},
   "source": [
    "### DF concatenation"
   ]
  },
  {
   "cell_type": "code",
   "execution_count": 34,
   "id": "6ac35aa7",
   "metadata": {
    "ExecuteTime": {
     "end_time": "2024-01-05T17:35:14.889478Z",
     "start_time": "2024-01-05T17:35:14.617571600Z"
    }
   },
   "outputs": [],
   "source": [
    "result_nspecies = pd.DataFrame()\n",
    "xrange = [i for i in range(100,120,1)] # Subsetting specific grid part\n",
    "yrange = [i for i in range(100,120,1)] # Subsetting specific grid part\n",
    "for i in range(48):\n",
    "    pd_ihour_nspecies = pd.DataFrame(ds[\"emission_values\"][i,0,yrange,xrange,0].data) #[hour,z,y,x,species]\n",
    "    pd_ihour_nspecies.index = yrange\n",
    "    pd_ihour_nspecies.columns = xrange\n",
    "    pd_ihour_nspecies = pd.melt(pd_ihour_nspecies,var_name = \"x\",value_name = \"emission_value\")\n",
    "    pd_ihour_nspecies[\"y\"] = [i%len(yrange)+yrange[0] for i in range(pd_ihour_nspecies.shape[0])]\n",
    "    pd_ihour_nspecies[\"hour\"] = i\n",
    "    #pd_ihour_nspecies = pd_ihour_nspecies.sort_values([\"x\",\"y\"])\n",
    "    #buildings = buildings.sort_values([\"x\",\"y\"])\n",
    "    #pd_ihour_nspecies[\"building_height\"] = buildings[\"building_height\"]\n",
    "    #pd_ihour_nspecies=pd.merge(pd_ihour_nspecies,buildings, how= \"inner\",on = [\"x\",\"y\"])\n",
    "    result_nspecies= pd.concat([result_nspecies,pd_ihour_nspecies])\n",
    "\n",
    "result_nspecies=pd.merge(result_nspecies,buildings, how= \"inner\",on = [\"x\",\"y\"])"
   ]
  },
  {
   "cell_type": "code",
   "execution_count": 35,
   "outputs": [
    {
     "data": {
      "text/plain": "        x    y  hour  building_height  emission_value\n0     101  100     0              0.0             0.0\n1     101  100     1              0.0             0.0\n2     101  100     2              0.0             0.0\n3     101  100     3              0.0             0.0\n4     101  100     4              0.0             0.0\n...   ...  ...   ...              ...             ...\n5755  119  119    43              0.0             0.0\n5756  119  119    44              0.0             0.0\n5757  119  119    45              0.0             0.0\n5758  119  119    46              0.0             0.0\n5759  119  119    47              0.0             0.0\n\n[5760 rows x 5 columns]",
      "text/html": "<div>\n<style scoped>\n    .dataframe tbody tr th:only-of-type {\n        vertical-align: middle;\n    }\n\n    .dataframe tbody tr th {\n        vertical-align: top;\n    }\n\n    .dataframe thead th {\n        text-align: right;\n    }\n</style>\n<table border=\"1\" class=\"dataframe\">\n  <thead>\n    <tr style=\"text-align: right;\">\n      <th></th>\n      <th>x</th>\n      <th>y</th>\n      <th>hour</th>\n      <th>building_height</th>\n      <th>emission_value</th>\n    </tr>\n  </thead>\n  <tbody>\n    <tr>\n      <th>0</th>\n      <td>101</td>\n      <td>100</td>\n      <td>0</td>\n      <td>0.0</td>\n      <td>0.0</td>\n    </tr>\n    <tr>\n      <th>1</th>\n      <td>101</td>\n      <td>100</td>\n      <td>1</td>\n      <td>0.0</td>\n      <td>0.0</td>\n    </tr>\n    <tr>\n      <th>2</th>\n      <td>101</td>\n      <td>100</td>\n      <td>2</td>\n      <td>0.0</td>\n      <td>0.0</td>\n    </tr>\n    <tr>\n      <th>3</th>\n      <td>101</td>\n      <td>100</td>\n      <td>3</td>\n      <td>0.0</td>\n      <td>0.0</td>\n    </tr>\n    <tr>\n      <th>4</th>\n      <td>101</td>\n      <td>100</td>\n      <td>4</td>\n      <td>0.0</td>\n      <td>0.0</td>\n    </tr>\n    <tr>\n      <th>...</th>\n      <td>...</td>\n      <td>...</td>\n      <td>...</td>\n      <td>...</td>\n      <td>...</td>\n    </tr>\n    <tr>\n      <th>5755</th>\n      <td>119</td>\n      <td>119</td>\n      <td>43</td>\n      <td>0.0</td>\n      <td>0.0</td>\n    </tr>\n    <tr>\n      <th>5756</th>\n      <td>119</td>\n      <td>119</td>\n      <td>44</td>\n      <td>0.0</td>\n      <td>0.0</td>\n    </tr>\n    <tr>\n      <th>5757</th>\n      <td>119</td>\n      <td>119</td>\n      <td>45</td>\n      <td>0.0</td>\n      <td>0.0</td>\n    </tr>\n    <tr>\n      <th>5758</th>\n      <td>119</td>\n      <td>119</td>\n      <td>46</td>\n      <td>0.0</td>\n      <td>0.0</td>\n    </tr>\n    <tr>\n      <th>5759</th>\n      <td>119</td>\n      <td>119</td>\n      <td>47</td>\n      <td>0.0</td>\n      <td>0.0</td>\n    </tr>\n  </tbody>\n</table>\n<p>5760 rows × 5 columns</p>\n</div>"
     },
     "execution_count": 35,
     "metadata": {},
     "output_type": "execute_result"
    }
   ],
   "source": [
    "#result_nspecies[\"building_height\"] = buildings.loc[(buildings[\"x\"]<50) & (buildings[\"y\"]<50)][\"building_height\"]\n",
    "new_cols_order = [\"x\",\"y\",\"hour\",\"building_height\",\"emission_value\"]\n",
    "result_nspecies= result_nspecies[new_cols_order]\n",
    "result_nspecies"
   ],
   "metadata": {
    "collapsed": false,
    "ExecuteTime": {
     "end_time": "2024-01-05T17:35:15.872781500Z",
     "start_time": "2024-01-05T17:35:15.836795300Z"
    }
   },
   "id": "f361b7266bb19522"
  },
  {
   "cell_type": "markdown",
   "id": "6bf7d67a",
   "metadata": {},
   "source": [
    "# PALM Output files"
   ]
  },
  {
   "cell_type": "markdown",
   "id": "2f7fecc7",
   "metadata": {},
   "source": [
    "### Download"
   ]
  },
  {
   "cell_type": "code",
   "execution_count": null,
   "id": "bcfd8f5c",
   "metadata": {
    "is_executing": true
   },
   "outputs": [],
   "source": [
    "output_emissions_no2_0 = nc.Dataset(\"../data/photoshade_6km10m_lod2_av_masked_M01.000.nc\")\n",
    "output_emissions_no2_1 = nc.Dataset(\"../data/photoshade_6km10m_lod2_av_masked_M01.001.nc\")\n",
    "output_emissions_no2_2 = nc.Dataset(\"../data/photoshade_6km10m_lod2_av_masked_M01.002.nc\")\n",
    "output_emissions_no2_3 = nc.Dataset(\"../data/photoshade_6km10m_lod2_av_masked_M01.003.nc\")\n",
    "output_emissions_no2_4 = nc.Dataset(\"../data/photoshade_6km10m_lod2_av_masked_M01.004.nc\")\n",
    "\n",
    "output_emissions_no2_list = [output_emissions_no2_0,\n",
    "                             output_emissions_no2_1,\n",
    "                             output_emissions_no2_2,\n",
    "                             output_emissions_no2_3,\n",
    "                             output_emissions_no2_4,]"
   ]
  },
  {
   "cell_type": "code",
   "execution_count": null,
   "outputs": [],
   "source": [
    "output_emissions_no2_0"
   ],
   "metadata": {
    "collapsed": false,
    "is_executing": true
   },
   "id": "251328065938338e"
  },
  {
   "cell_type": "markdown",
   "source": [
    "### Need to reformat to match input emissions grid dataframe"
   ],
   "metadata": {
    "collapsed": false
   },
   "id": "5c272ced5a63176f"
  },
  {
   "cell_type": "code",
   "execution_count": null,
   "outputs": [],
   "source": [
    "result_1species_output = pd.DataFrame()\n",
    "xrange = [i for i in range(100,180,1)] # Subsetting specific grid part\n",
    "yrange = [i for i in range(100,180,1)] # Subsetting specific grid part\n",
    "pollutant = \"kc_NO2\"\n",
    "for output_table in output_emissions_no2_list:\n",
    "    timebins = (output_table[\"time\"][:].data/3600).astype(int) # getting hours array (after conversion from seconds to hours)\n",
    "    for i in range(len(timebins)):\n",
    "        pd_ihour_1species = pd.DataFrame(output_table[pollutant][i,0,yrange,xrange].data)#(netcdf format [hour,y,x])\n",
    "        pd_ihour_1species.index = yrange\n",
    "        pd_ihour_1species.columns = xrange\n",
    "        pd_ihour_1species = pd.melt(pd_ihour_1species,var_name = \"x\",value_name = \"emission_value\")\n",
    "        pd_ihour_1species[\"y\"] = [i%len(yrange)+yrange[0] for i in range(pd_ihour_1species.shape[0])]\n",
    "        pd_ihour_1species[\"hour\"] = timebins[i]-1\n",
    "        result_1species_output= pd.concat([result_1species_output,pd_ihour_1species])"
   ],
   "metadata": {
    "collapsed": false,
    "is_executing": true
   },
   "id": "1710592c0c27c045"
  },
  {
   "cell_type": "code",
   "execution_count": null,
   "outputs": [],
   "source": [
    "result_1species_output.replace(-9999,0,inplace=True) # because strange values where there are no pollutants\n",
    "result_1species_output = result_1species_output[[\"x\",\"y\",\"hour\",\"emission_value\"]]\n",
    "result_1species_output"
   ],
   "metadata": {
    "collapsed": false,
    "is_executing": true
   },
   "id": "d01b3d9dc96c0395"
  },
  {
   "cell_type": "markdown",
   "id": "50135bef",
   "metadata": {},
   "source": [
    "# Plot pollution distribution"
   ]
  },
  {
   "cell_type": "code",
   "execution_count": null,
   "outputs": [],
   "source": [
    "def make_heatmap_from_pd(result_dataframe,hour,target_name = \"emission_value\"):\n",
    "    result_1specieshour = result_dataframe.loc[result_dataframe[\"hour\"] == hour]\n",
    "    result_1specieshour = result_1specieshour[[\"x\",\"y\",target_name]]\n",
    "    x = result_1specieshour[\"x\"].max() - result_1specieshour[\"x\"].min() + 1\n",
    "    y = result_1specieshour[\"y\"].max() - result_1specieshour[\"y\"].min() + 1\n",
    "    v = result_1specieshour[target_name].to_numpy().reshape((x, y))\n",
    "    indices = result_1specieshour[[\"x\", 'y']].to_numpy().T\n",
    "    indices[0] = indices[0] - indices[0].min()\n",
    "    indices[1] = indices[1] - indices[1].min()\n",
    "\n",
    "    v = np.tile(np.nan, indices.max(axis=1)+1)\n",
    "    v[tuple(indices)] = result_1specieshour[target_name]\n",
    "    ax = sns.heatmap(v)\n",
    "    ax.invert_yaxis()\n",
    "    plt.show()"
   ],
   "metadata": {
    "collapsed": false,
    "is_executing": true
   },
   "id": "127961f7b4aac7c"
  },
  {
   "cell_type": "code",
   "execution_count": null,
   "outputs": [],
   "source": [
    "#plotting\n",
    "hour = 36\n",
    "plt.subplot(2,1,1)\n",
    "make_heatmap_from_pd(result_nspecies,hour,target_name=\"emission_value\")\n",
    "#plt.subplot(2,1,2)\n",
    "#make_heatmap_from_pd(result_1species_output,hour,target_name=\"emission_value\")"
   ],
   "metadata": {
    "collapsed": false,
    "is_executing": true
   },
   "id": "ab4458c6744ec91b"
  },
  {
   "cell_type": "code",
   "execution_count": null,
   "outputs": [],
   "source": [
    "b_height = ds_static[\"buildings_2d\"][:,:].data\n",
    "b_height[b_height == -9999] = 0\n",
    "ax = sns.heatmap(b_height)\n",
    "plt.show()"
   ],
   "metadata": {
    "collapsed": false,
    "is_executing": true
   },
   "id": "bfdd3e67daae3a05"
  },
  {
   "cell_type": "code",
   "execution_count": null,
   "outputs": [],
   "source": [
    "make_heatmap_from_pd(result_nspecies,hour,target_name=\"building_height\")"
   ],
   "metadata": {
    "collapsed": false,
    "is_executing": true
   },
   "id": "c031c82a1a1f5cdf"
  },
  {
   "cell_type": "code",
   "execution_count": null,
   "outputs": [],
   "source": [
    "#Plot ranges\n",
    "xrange = [i for i in range(0,670,1)]\n",
    "yrange = [i for i in range(0,670,1)]\n",
    "#Data preparing\n",
    "in_data = ds[\"emission_values\"][0,0,yrange,xrange,1].data          #[hour,z,y,x,nspecies]\n",
    "out_data = pd.DataFrame(output_emissions_no2_3[\"kc_NO\"][0,0,yrange,xrange].data) #[hour,ku_surf_above,y,x]\n",
    "out_data[out_data ==-9999] = 0\n",
    "#plotting\n",
    "plt.subplot(2,1,1)\n",
    "ax = sns.heatmap(in_data)\n",
    "plt.show()\n",
    "plt.subplot(2,1,2)\n",
    "ax = sns.heatmap(out_data)\n",
    "plt.show()"
   ],
   "metadata": {
    "collapsed": false,
    "is_executing": true
   },
   "id": "3af25125"
  },
  {
   "cell_type": "markdown",
   "source": [
    "# Outputing relevant information in csvs"
   ],
   "metadata": {
    "collapsed": false
   },
   "id": "3d852c1e516e5e07"
  },
  {
   "cell_type": "code",
   "execution_count": null,
   "outputs": [],
   "source": [
    "completed_1species = complete_df_with_neighbours(result_nspecies)\n",
    "completed_1species"
   ],
   "metadata": {
    "collapsed": false,
    "is_executing": true
   },
   "id": "3bd475d7f45dceaf"
  },
  {
   "cell_type": "code",
   "execution_count": null,
   "outputs": [],
   "source": [
    "completed_1species_opt = complete_df_with_neighbours_optimized2(result_nspecies)\n",
    "completed_1species_opt"
   ],
   "metadata": {
    "collapsed": false,
    "is_executing": true
   },
   "id": "bec5bdf7066669e1"
  },
  {
   "cell_type": "code",
   "execution_count": null,
   "outputs": [],
   "source": [
    "completed_1species_out = complete_df_with_neighbours(result_1species_output)\n",
    "completed_1species_out"
   ],
   "metadata": {
    "collapsed": false,
    "is_executing": true
   },
   "id": "1f0ce08454c948cd"
  },
  {
   "cell_type": "code",
   "execution_count": null,
   "outputs": [],
   "source": [
    "completed_1species.to_csv(\"../data/result600-800in.csv\",index=False,sep =\";\",encoding='utf-8', float_format='%.15f')\n",
    "#completed_1species_out.to_csv(\"../data/result1_species_out.csv\",index=False,sep =\";\",encoding='utf-8', float_format='%.15f')\n"
   ],
   "metadata": {
    "collapsed": false,
    "is_executing": true
   },
   "id": "8895286f62cefb42"
  },
  {
   "cell_type": "code",
   "execution_count": 23,
   "outputs": [
    {
     "name": "stdout",
     "output_type": "stream",
     "text": [
      "6.5523349\n"
     ]
    }
   ],
   "source": [
    "import time\n",
    "source_array = [i for i in range(int(20e6))]\n",
    "target_array = []\n",
    "start = time.time_ns()\n",
    "\n",
    "for i in range(int(20e6)):\n",
    "    target_array.append(source_array[-i])\n",
    "    target_array.append(source_array[-i])\n",
    "    target_array.append(source_array[-i])\n",
    "    target_array.append(source_array[-i])\n",
    "end = time.time_ns()\n",
    "\n",
    "print((end-start)/1e9)"
   ],
   "metadata": {
    "collapsed": false,
    "ExecuteTime": {
     "end_time": "2024-01-09T12:58:28.936574900Z",
     "start_time": "2024-01-09T12:58:21.051209900Z"
    }
   },
   "id": "c8ca2679813c4c22"
  },
  {
   "cell_type": "code",
   "execution_count": null,
   "outputs": [],
   "source": [],
   "metadata": {
    "collapsed": false,
    "is_executing": true
   },
   "id": "b9c008a9dee5e747"
  },
  {
   "cell_type": "code",
   "execution_count": null,
   "outputs": [],
   "source": [],
   "metadata": {
    "collapsed": false,
    "is_executing": true
   },
   "id": "9e7d411f32f68d3c"
  },
  {
   "cell_type": "code",
   "execution_count": null,
   "outputs": [],
   "source": [],
   "metadata": {
    "collapsed": false,
    "is_executing": true
   },
   "id": "be5beaa77a29d38d"
  },
  {
   "cell_type": "code",
   "execution_count": null,
   "outputs": [],
   "source": [],
   "metadata": {
    "collapsed": false,
    "is_executing": true
   },
   "id": "74d8f85af6510538"
  },
  {
   "cell_type": "code",
   "execution_count": null,
   "outputs": [],
   "source": [],
   "metadata": {
    "collapsed": false,
    "is_executing": true
   },
   "id": "bad17267a591126e"
  },
  {
   "cell_type": "code",
   "execution_count": null,
   "outputs": [],
   "source": [],
   "metadata": {
    "collapsed": false,
    "is_executing": true
   },
   "id": "a800b65359afe2ff"
  },
  {
   "cell_type": "code",
   "execution_count": null,
   "outputs": [],
   "source": [],
   "metadata": {
    "collapsed": false,
    "is_executing": true
   },
   "id": "395fba6faea407ae"
  },
  {
   "cell_type": "code",
   "execution_count": null,
   "outputs": [],
   "source": [],
   "metadata": {
    "collapsed": false,
    "is_executing": true
   },
   "id": "e4989311d478a35a"
  },
  {
   "cell_type": "code",
   "execution_count": null,
   "outputs": [],
   "source": [],
   "metadata": {
    "collapsed": false
   },
   "id": "e7fb991cbdf7481c"
  }
 ],
 "metadata": {
  "kernelspec": {
   "display_name": "Python 3 (ipykernel)",
   "language": "python",
   "name": "python3"
  },
  "language_info": {
   "codemirror_mode": {
    "name": "ipython",
    "version": 3
   },
   "file_extension": ".py",
   "mimetype": "text/x-python",
   "name": "python",
   "nbconvert_exporter": "python",
   "pygments_lexer": "ipython3",
   "version": "3.10.9"
  }
 },
 "nbformat": 4,
 "nbformat_minor": 5
}
